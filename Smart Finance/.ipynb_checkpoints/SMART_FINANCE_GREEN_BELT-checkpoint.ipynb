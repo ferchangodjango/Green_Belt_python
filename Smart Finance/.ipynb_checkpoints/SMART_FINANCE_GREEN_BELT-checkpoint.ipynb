{
 "cells": [
  {
   "cell_type": "code",
   "execution_count": 1,
   "id": "c403a02a",
   "metadata": {},
   "outputs": [],
   "source": [
    "import numpy as np"
   ]
  },
  {
   "cell_type": "code",
   "execution_count": 2,
   "id": "7961eef9",
   "metadata": {},
   "outputs": [],
   "source": [
    "#Esta funcion retorna el valor presente neto para valores futuros constantes e intereses periodicos constantes\n",
    "def VAN(INVERSION_INICIAL,VALOR_FUTURO,INTERES_PERIODICO,NUMERO_DE_PERIODOS):\n",
    "    lista_VAN=[]\n",
    "    for i in range(NUMERO_DE_PERIODOS):\n",
    "        i=i+1\n",
    "        VAN=VALOR_FUTURO/(1+INTERES_PERIODICO)**i\n",
    "        lista_VAN.append(VAN)\n",
    "    array_VAN=np.array(lista_VAN)\n",
    "    VAN_TOTAL=array_VAN.sum()-INVERSION_INICIAL\n",
    "    return VAN_TOTAL\n",
    "    "
   ]
  },
  {
   "cell_type": "code",
   "execution_count": 3,
   "id": "40851144",
   "metadata": {},
   "outputs": [],
   "source": [
    "#Esta funcion retorna el valor presente neto para valores futuros variables e intereses periodicos variables\n",
    "def VAN_TOTAL(INVERSION_INICIAL,VALOR_FUTURO,INTERES_PERIODICO):\n",
    "    NUMERO_DE_PERIODOS=len(VALOR_FUTURO)\n",
    "    lista_VAN=[]\n",
    "    for i in range(NUMERO_DE_PERIODOS):\n",
    "        i=i+1\n",
    "        VAN=VALOR_FUTURO[i-1]/(1+(INTERES_PERIODICO[i-1]))**i\n",
    "        lista_VAN.append(VAN)\n",
    "    array_VAN=np.array(lista_VAN)\n",
    "    VAN_TOTAL=array_VAN.sum()-INVERSION_INICIAL\n",
    "    return VAN_TOTAL\n",
    "    "
   ]
  },
  {
   "cell_type": "code",
   "execution_count": 11,
   "id": "bb01c7c0",
   "metadata": {},
   "outputs": [
    {
     "data": {
      "text/plain": [
       "492.11119459053316"
      ]
     },
     "execution_count": 11,
     "metadata": {},
     "output_type": "execute_result"
    }
   ],
   "source": [
    "#Ejemplo de VAN\n",
    "VAN_EJERICIO_1=VAN(1000,600,0.1,3)\n",
    "VAN_EJERICIO_1"
   ]
  },
  {
   "cell_type": "code",
   "execution_count": 12,
   "id": "f85f4326",
   "metadata": {},
   "outputs": [
    {
     "data": {
      "text/plain": [
       "468.8204357625841"
      ]
     },
     "execution_count": 12,
     "metadata": {},
     "output_type": "execute_result"
    }
   ],
   "source": [
    "#Ejemplo de VAN_TOTAL\n",
    "VALORES_FUTUROS=[500,500,800]\n",
    "INTERESES_FUTUROS=[0.1,0.1,0.1]\n",
    "VAN_EJERICIO_2=VAN_TOTAL(1000,VALORES_FUTUROS,INTERESES_FUTUROS)\n",
    "VAN_EJERICIO_2"
   ]
  }
 ],
 "metadata": {
  "kernelspec": {
   "display_name": "Python 3 (ipykernel)",
   "language": "python",
   "name": "python3"
  },
  "language_info": {
   "codemirror_mode": {
    "name": "ipython",
    "version": 3
   },
   "file_extension": ".py",
   "mimetype": "text/x-python",
   "name": "python",
   "nbconvert_exporter": "python",
   "pygments_lexer": "ipython3",
   "version": "3.10.1"
  },
  "toc": {
   "base_numbering": 1,
   "nav_menu": {},
   "number_sections": true,
   "sideBar": true,
   "skip_h1_title": false,
   "title_cell": "Table of Contents",
   "title_sidebar": "Contents",
   "toc_cell": false,
   "toc_position": {},
   "toc_section_display": true,
   "toc_window_display": false
  }
 },
 "nbformat": 4,
 "nbformat_minor": 5
}
