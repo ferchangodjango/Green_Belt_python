{
 "cells": [
  {
   "cell_type": "markdown",
   "id": "519fe8b2",
   "metadata": {
    "heading_collapsed": true
   },
   "source": [
    "# Importacion de librerias"
   ]
  },
  {
   "cell_type": "code",
   "execution_count": 1,
   "id": "c81bc3fe",
   "metadata": {
    "hidden": true
   },
   "outputs": [],
   "source": [
    "from bokeh.io import output_notebook,show\n",
    "from bokeh.plotting import figure\n",
    "import pandas as pd\n",
    "import numpy as np\n"
   ]
  },
  {
   "cell_type": "markdown",
   "id": "41e8ef12",
   "metadata": {},
   "source": [
    "# Importación de datos"
   ]
  },
  {
   "cell_type": "code",
   "execution_count": 2,
   "id": "9c3a4507",
   "metadata": {},
   "outputs": [],
   "source": [
    "children_violenc=pd.read_csv('C:/Users/ferna/Documents/Green Belt/Tableros de gestion/Datasets/childrens_violence new.csv')"
   ]
  },
  {
   "cell_type": "code",
   "execution_count": 10,
   "id": "a16e7941",
   "metadata": {},
   "outputs": [],
   "source": [
    "Violencia_niños_años=children_violenc.groupby(['Year'])['Childrens Violent Discipline Rate\\n\\n\\n\\n\\n\\n'].sum()\n",
    "Violencia_niños_años_R=Violencia_niños_años.reset_index()\n",
    "#Violencia_niños_años_R"
   ]
  },
  {
   "cell_type": "code",
   "execution_count": 12,
   "id": "4ec05169",
   "metadata": {},
   "outputs": [
    {
     "data": {
      "text/plain": [
       "array(['Georgia', 'Tajikistan', 'Azerbaijan', 'Burkina Faso',\n",
       "       \"Cote d'Ivoire\", 'Djibouti', 'Syria', 'Trinidad and Tobago',\n",
       "       'Liberia', 'Morocco', 'Fiji', 'Kiribati', 'Solomon Islands',\n",
       "       'Albania', 'Lebanon', 'Armenia', 'Central African Republic',\n",
       "       'Chad', 'Gambia', 'Sierra Leone', 'Suriname', 'Afghanistan',\n",
       "       'Belize', 'Costa Rica', 'Ghana', 'Iraq', 'Jamaica', 'Kazakhstan',\n",
       "       'Mauritania', 'Nigeria', 'North Macedonia', 'Argentina',\n",
       "       'Barbados', 'Belarus', 'Bosnia and Herzegovina', 'Haiti', 'Jordan',\n",
       "       'Laos', 'Moldova', 'Niger', 'Qatar', 'Saint Lucia', 'Tunisia',\n",
       "       'Ukraine', 'Algeria', 'Bangladesh', 'Mongolia', 'Montenegro',\n",
       "       'Panama', 'Uruguay', 'Vanuatu', 'Yemen', 'Benin', 'Cameroon',\n",
       "       'Cuba', 'Democratic Republic of Congo', 'Dominican Republic',\n",
       "       'Egypt', 'El Salvador', 'Eswatini', 'Guinea-Bissau', 'Guyana',\n",
       "       'Kyrgyzstan', 'Malawi', 'Nepal', 'Palestine',\n",
       "       'Sao Tome and Principe', 'Serbia', 'Sudan', 'Togo', 'Vietnam',\n",
       "       'Zimbabwe', 'Congo'], dtype=object)"
      ]
     },
     "execution_count": 12,
     "metadata": {},
     "output_type": "execute_result"
    }
   ],
   "source": [
    "children_violenc"
   ]
  },
  {
   "cell_type": "markdown",
   "id": "0403fe54",
   "metadata": {},
   "source": [
    "# Prueba de graficos"
   ]
  },
  {
   "cell_type": "markdown",
   "id": "3f5258fd",
   "metadata": {
    "heading_collapsed": true
   },
   "source": [
    "## Grafico de linea"
   ]
  },
  {
   "cell_type": "code",
   "execution_count": 19,
   "id": "2089a209",
   "metadata": {
    "hidden": true
   },
   "outputs": [],
   "source": [
    "p=figure()\n",
    "p.line(children_violenc['Year'],children_violenc['Childrens Violent Discipline Rate\\n\\n\\n\\n\\n\\n'])\n",
    "p.yaxis.axis_label='Rate'\n",
    "show(p)"
   ]
  },
  {
   "cell_type": "markdown",
   "id": "63193bd7",
   "metadata": {},
   "source": [
    "## Grafico de Circulos"
   ]
  },
  {
   "cell_type": "code",
   "execution_count": 9,
   "id": "a7c1e14e",
   "metadata": {},
   "outputs": [],
   "source": [
    "p=figure(plot_width=800,plot_height=400)\n",
    "p.circle(Violencia_niños_años_R['Year'],\n",
    "         Violencia_niños_años_R['Childrens Violent Discipline Rate\\n\\n\\n\\n\\n\\n'],\n",
    "        size=10,line_color='navy',fill_color='orange',fill_alpha=0.9)\n",
    "show(p)"
   ]
  },
  {
   "cell_type": "markdown",
   "id": "f5091919",
   "metadata": {},
   "source": [
    "## Grafico de cuadros"
   ]
  },
  {
   "cell_type": "code",
   "execution_count": 20,
   "id": "e402ada9",
   "metadata": {},
   "outputs": [],
   "source": [
    "p=figure(plot_width=800,plot_height=400)\n",
    "p.square(children_violenc['Year'],\n",
    "         children_violenc['Childrens Violent Discipline Rate\\n\\n\\n\\n\\n\\n'],\n",
    "         size=children_violenc['Childrens Violent Discipline Rate\\n\\n\\n\\n\\n\\n'],color='firebrick',alpha=0.6)\n",
    "show(p)"
   ]
  },
  {
   "cell_type": "code",
   "execution_count": null,
   "id": "f178b63f",
   "metadata": {},
   "outputs": [],
   "source": []
  }
 ],
 "metadata": {
  "kernelspec": {
   "display_name": "Python 3 (ipykernel)",
   "language": "python",
   "name": "python3"
  },
  "language_info": {
   "codemirror_mode": {
    "name": "ipython",
    "version": 3
   },
   "file_extension": ".py",
   "mimetype": "text/x-python",
   "name": "python",
   "nbconvert_exporter": "python",
   "pygments_lexer": "ipython3",
   "version": "3.10.1"
  },
  "toc": {
   "base_numbering": 1,
   "nav_menu": {},
   "number_sections": true,
   "sideBar": true,
   "skip_h1_title": false,
   "title_cell": "Table of Contents",
   "title_sidebar": "Contents",
   "toc_cell": false,
   "toc_position": {},
   "toc_section_display": true,
   "toc_window_display": false
  }
 },
 "nbformat": 4,
 "nbformat_minor": 5
}
