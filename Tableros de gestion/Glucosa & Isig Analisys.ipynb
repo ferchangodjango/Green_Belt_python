{
 "cells": [
  {
   "cell_type": "markdown",
   "id": "df64a89d",
   "metadata": {
    "heading_collapsed": true
   },
   "source": [
    "# Importacion de librerias"
   ]
  },
  {
   "cell_type": "code",
   "execution_count": 14,
   "id": "b1459890",
   "metadata": {
    "hidden": true
   },
   "outputs": [],
   "source": [
    "from bokeh.io import output_notebook,show\n",
    "from bokeh.plotting import figure\n",
    "from bokeh.layouts import layout\n",
    "import pandas as pd\n",
    "import numpy as np\n",
    "import datetime as dt\n",
    "import Local_funtion as Lf\n",
    "from bokeh.sampledata.glucose import data"
   ]
  },
  {
   "cell_type": "markdown",
   "id": "1eca6707",
   "metadata": {},
   "source": [
    "# Cleaning & preparing data"
   ]
  },
  {
   "cell_type": "markdown",
   "id": "49bc33fb",
   "metadata": {
    "heading_collapsed": true
   },
   "source": [
    "## Cleaning data"
   ]
  },
  {
   "cell_type": "code",
   "execution_count": 15,
   "id": "eceb9c3f",
   "metadata": {
    "hidden": true
   },
   "outputs": [
    {
     "name": "stdout",
     "output_type": "stream",
     "text": [
      "<class 'pandas.core.frame.DataFrame'>\n",
      "DatetimeIndex: 52281 entries, 2010-03-24 09:51:00 to 2010-10-10 23:57:00\n",
      "Data columns (total 2 columns):\n",
      " #   Column   Non-Null Count  Dtype \n",
      "---  ------   --------------  ----- \n",
      " 0   isig     52281 non-null  object\n",
      " 1   glucose  52281 non-null  int64 \n",
      "dtypes: int64(1), object(1)\n",
      "memory usage: 1.2+ MB\n"
     ]
    }
   ],
   "source": [
    "#Is important to know what kind of data we have\n",
    "data.info()"
   ]
  },
  {
   "cell_type": "code",
   "execution_count": null,
   "id": "346d2fc4",
   "metadata": {
    "hidden": true
   },
   "outputs": [],
   "source": []
  },
  {
   "cell_type": "code",
   "execution_count": 16,
   "id": "877aaa56",
   "metadata": {
    "hidden": true
   },
   "outputs": [],
   "source": [
    "# For good practice is correct copy the data set, for modify the copy, and don´t touch the original data_set\n",
    "data_glucose=data.copy()\n",
    "\n",
    "#We have a problem, the problem is that we have one column, with string, and we want float data\n",
    "#For this reason we create a function that can covert isig column in float data.\n",
    "def convert_in_number(data_value):\n",
    "    try: \n",
    "        data_value=float(data_value)\n",
    "        return data_value\n",
    "    except:\n",
    "        data_value=0\n",
    "        return data_value\n",
    "data_glucose['isig_value']=data_glucose['isig'].apply(convert_in_number)"
   ]
  },
  {
   "cell_type": "code",
   "execution_count": 17,
   "id": "56b10a29",
   "metadata": {
    "hidden": true
   },
   "outputs": [
    {
     "data": {
      "text/html": [
       "<div>\n",
       "<style scoped>\n",
       "    .dataframe tbody tr th:only-of-type {\n",
       "        vertical-align: middle;\n",
       "    }\n",
       "\n",
       "    .dataframe tbody tr th {\n",
       "        vertical-align: top;\n",
       "    }\n",
       "\n",
       "    .dataframe thead th {\n",
       "        text-align: right;\n",
       "    }\n",
       "</style>\n",
       "<table border=\"1\" class=\"dataframe\">\n",
       "  <thead>\n",
       "    <tr style=\"text-align: right;\">\n",
       "      <th></th>\n",
       "      <th>datetime</th>\n",
       "      <th>isig</th>\n",
       "      <th>glucose</th>\n",
       "      <th>isig_value</th>\n",
       "    </tr>\n",
       "  </thead>\n",
       "  <tbody>\n",
       "    <tr>\n",
       "      <th>0</th>\n",
       "      <td>2010-03-24 09:51:00</td>\n",
       "      <td>22.59</td>\n",
       "      <td>258</td>\n",
       "      <td>22.59</td>\n",
       "    </tr>\n",
       "    <tr>\n",
       "      <th>1</th>\n",
       "      <td>2010-03-24 09:56:00</td>\n",
       "      <td>22.52</td>\n",
       "      <td>260</td>\n",
       "      <td>22.52</td>\n",
       "    </tr>\n",
       "    <tr>\n",
       "      <th>2</th>\n",
       "      <td>2010-03-24 10:01:00</td>\n",
       "      <td>22.23</td>\n",
       "      <td>258</td>\n",
       "      <td>22.23</td>\n",
       "    </tr>\n",
       "    <tr>\n",
       "      <th>3</th>\n",
       "      <td>2010-03-24 10:06:00</td>\n",
       "      <td>21.56</td>\n",
       "      <td>254</td>\n",
       "      <td>21.56</td>\n",
       "    </tr>\n",
       "    <tr>\n",
       "      <th>4</th>\n",
       "      <td>2010-03-24 10:11:00</td>\n",
       "      <td>20.79</td>\n",
       "      <td>246</td>\n",
       "      <td>20.79</td>\n",
       "    </tr>\n",
       "  </tbody>\n",
       "</table>\n",
       "</div>"
      ],
      "text/plain": [
       "             datetime   isig  glucose  isig_value\n",
       "0 2010-03-24 09:51:00  22.59      258       22.59\n",
       "1 2010-03-24 09:56:00  22.52      260       22.52\n",
       "2 2010-03-24 10:01:00  22.23      258       22.23\n",
       "3 2010-03-24 10:06:00  21.56      254       21.56\n",
       "4 2010-03-24 10:11:00  20.79      246       20.79"
      ]
     },
     "execution_count": 17,
     "metadata": {},
     "output_type": "execute_result"
    }
   ],
   "source": [
    "# reseteando el indice para poder aplicar las funcion apply scalar\n",
    "data_glucose=data_glucose.reset_index()\n",
    "data_glucose.head()"
   ]
  },
  {
   "cell_type": "code",
   "execution_count": 18,
   "id": "1e1f305b",
   "metadata": {
    "hidden": true
   },
   "outputs": [],
   "source": [
    "#Desglosando el HXH.\n",
    "data_hxh=Lf.apply_scalars(data_glucose,timestamp_col='datetime',hxh=True)\n"
   ]
  },
  {
   "cell_type": "code",
   "execution_count": 19,
   "id": "f8fd6471",
   "metadata": {
    "hidden": true
   },
   "outputs": [
    {
     "name": "stdout",
     "output_type": "stream",
     "text": [
      "<class 'pandas.core.frame.DataFrame'>\n",
      "DatetimeIndex: 52281 entries, 2010-03-24 09:51:00 to 2010-10-10 23:57:00\n",
      "Data columns (total 6 columns):\n",
      " #   Column      Non-Null Count  Dtype         \n",
      "---  ------      --------------  -----         \n",
      " 0   isig        52281 non-null  object        \n",
      " 1   glucose     52281 non-null  int64         \n",
      " 2   isig_value  52281 non-null  float64       \n",
      " 3   HXH         52281 non-null  object        \n",
      " 4   SHIFT       52281 non-null  object        \n",
      " 5   DATE        52281 non-null  datetime64[ns]\n",
      "dtypes: datetime64[ns](1), float64(1), int64(1), object(3)\n",
      "memory usage: 2.8+ MB\n"
     ]
    }
   ],
   "source": [
    "#Reseteando la data, ahora con las columnas que necesitamos para el analisis\n",
    "data_hxh=data_hxh.set_index('datetime')\n",
    "data_hxh['DATE']=pd.to_datetime(data_hxh['DATE'])\n",
    "data_hxh.info()"
   ]
  },
  {
   "cell_type": "code",
   "execution_count": 20,
   "id": "3ce56140",
   "metadata": {
    "hidden": true
   },
   "outputs": [],
   "source": [
    "#Agrupando a la tabla por semana\n",
    "#De este primer pedazo, queremos saber 4 cosas\n",
    "#Distribución de los datos.\n",
    "#Grafica de todos los datos con el valor de la glucosa\n",
    "#Grafica de todos los datos con el valor de isig_value\n",
    "#Grafica de unicamente la media por dia.\n",
    "\n",
    "WEEK_DATE=data_hxh.loc['2010-04-06':'2010-05-03']\n",
    "\n",
    "WEEK_DATE_GROUP_GLUCOSE=WEEK_DATE.groupby(['DATE'])['glucose'].mean().reset_index()\n",
    "WEEK_DATE_GROUP_GLUCOSE=WEEK_DATE_GROUP_GLUCOSE.set_index('DATE')\n",
    "\n",
    "WEEK_DATE_GROUP_ISIG=WEEK_DATE.groupby(['DATE'])['isig_value'].mean().reset_index()\n",
    "WEEK_DATE_GROUP_ISIG=WEEK_DATE_GROUP_ISIG.set_index('DATE')"
   ]
  },
  {
   "cell_type": "markdown",
   "id": "693f854a",
   "metadata": {},
   "source": [
    "## Creando filtros para una mejor visualización"
   ]
  },
  {
   "cell_type": "code",
   "execution_count": 21,
   "id": "214d71da",
   "metadata": {},
   "outputs": [],
   "source": [
    "#WEEK_DATE.head()\n",
    "WEEK_DATE_BIGGER_THAN_125=WEEK_DATE_GROUP_GLUCOSE.loc[(WEEK_DATE_GROUP_GLUCOSE['glucose']>=125)]\n",
    "WEEK_DATE_LESS_THAN_125=WEEK_DATE_GROUP_GLUCOSE.loc[(WEEK_DATE_GROUP_GLUCOSE['glucose']<125)]"
   ]
  },
  {
   "cell_type": "code",
   "execution_count": 22,
   "id": "e45d58ac",
   "metadata": {},
   "outputs": [],
   "source": [
    "#WEEK_DATE.head()\n",
    "WEEK_DATE_BIGGER_THAN_12=WEEK_DATE_GROUP_ISIG.loc[(WEEK_DATE_GROUP_ISIG['isig_value']>=12)]\n",
    "WEEK_DATE_LESS_THAN_12=WEEK_DATE_GROUP_ISIG.loc[(WEEK_DATE_GROUP_ISIG['isig_value']<12)]"
   ]
  },
  {
   "cell_type": "markdown",
   "id": "2d023307",
   "metadata": {},
   "source": [
    "## Filtro de WEEK DAY"
   ]
  },
  {
   "cell_type": "code",
   "execution_count": 23,
   "id": "1f060f07",
   "metadata": {},
   "outputs": [],
   "source": [
    "WEEK_DATE_PER_DAY_BIGGER_THAN_125=WEEK_DATE.loc[(WEEK_DATE['glucose']>=125)]\n",
    "WEEK_DATE_PER_DAY_LESS_THAN_125=WEEK_DATE.loc[(WEEK_DATE['glucose']<125)]"
   ]
  },
  {
   "cell_type": "markdown",
   "id": "cd050921",
   "metadata": {},
   "source": [
    "# Generación de gráficas"
   ]
  },
  {
   "cell_type": "markdown",
   "id": "430536df",
   "metadata": {},
   "source": [
    "## Histogram in bokeh"
   ]
  },
  {
   "cell_type": "code",
   "execution_count": 24,
   "id": "1c8c307d",
   "metadata": {},
   "outputs": [
    {
     "data": {
      "text/html": [
       "<div style=\"display: table;\"><div style=\"display: table-row;\"><div style=\"display: table-cell;\"><b title=\"bokeh.models.renderers.GlyphRenderer\">GlyphRenderer</b>(</div><div style=\"display: table-cell;\">id&nbsp;=&nbsp;'2857', <span id=\"2872\" style=\"cursor: pointer;\">&hellip;)</span></div></div><div class=\"2871\" style=\"display: none;\"><div style=\"display: table-cell;\"></div><div style=\"display: table-cell;\">coordinates&nbsp;=&nbsp;None,</div></div><div class=\"2871\" style=\"display: none;\"><div style=\"display: table-cell;\"></div><div style=\"display: table-cell;\">data_source&nbsp;=&nbsp;ColumnDataSource(id='2853', ...),</div></div><div class=\"2871\" style=\"display: none;\"><div style=\"display: table-cell;\"></div><div style=\"display: table-cell;\">glyph&nbsp;=&nbsp;Quad(id='2854', ...),</div></div><div class=\"2871\" style=\"display: none;\"><div style=\"display: table-cell;\"></div><div style=\"display: table-cell;\">group&nbsp;=&nbsp;None,</div></div><div class=\"2871\" style=\"display: none;\"><div style=\"display: table-cell;\"></div><div style=\"display: table-cell;\">hover_glyph&nbsp;=&nbsp;None,</div></div><div class=\"2871\" style=\"display: none;\"><div style=\"display: table-cell;\"></div><div style=\"display: table-cell;\">js_event_callbacks&nbsp;=&nbsp;{},</div></div><div class=\"2871\" style=\"display: none;\"><div style=\"display: table-cell;\"></div><div style=\"display: table-cell;\">js_property_callbacks&nbsp;=&nbsp;{},</div></div><div class=\"2871\" style=\"display: none;\"><div style=\"display: table-cell;\"></div><div style=\"display: table-cell;\">level&nbsp;=&nbsp;'glyph',</div></div><div class=\"2871\" style=\"display: none;\"><div style=\"display: table-cell;\"></div><div style=\"display: table-cell;\">muted&nbsp;=&nbsp;False,</div></div><div class=\"2871\" style=\"display: none;\"><div style=\"display: table-cell;\"></div><div style=\"display: table-cell;\">muted_glyph&nbsp;=&nbsp;Quad(id='2856', ...),</div></div><div class=\"2871\" style=\"display: none;\"><div style=\"display: table-cell;\"></div><div style=\"display: table-cell;\">name&nbsp;=&nbsp;None,</div></div><div class=\"2871\" style=\"display: none;\"><div style=\"display: table-cell;\"></div><div style=\"display: table-cell;\">nonselection_glyph&nbsp;=&nbsp;Quad(id='2855', ...),</div></div><div class=\"2871\" style=\"display: none;\"><div style=\"display: table-cell;\"></div><div style=\"display: table-cell;\">selection_glyph&nbsp;=&nbsp;'auto',</div></div><div class=\"2871\" style=\"display: none;\"><div style=\"display: table-cell;\"></div><div style=\"display: table-cell;\">subscribed_events&nbsp;=&nbsp;[],</div></div><div class=\"2871\" style=\"display: none;\"><div style=\"display: table-cell;\"></div><div style=\"display: table-cell;\">syncable&nbsp;=&nbsp;True,</div></div><div class=\"2871\" style=\"display: none;\"><div style=\"display: table-cell;\"></div><div style=\"display: table-cell;\">tags&nbsp;=&nbsp;[],</div></div><div class=\"2871\" style=\"display: none;\"><div style=\"display: table-cell;\"></div><div style=\"display: table-cell;\">view&nbsp;=&nbsp;CDSView(id='2858', ...),</div></div><div class=\"2871\" style=\"display: none;\"><div style=\"display: table-cell;\"></div><div style=\"display: table-cell;\">visible&nbsp;=&nbsp;True,</div></div><div class=\"2871\" style=\"display: none;\"><div style=\"display: table-cell;\"></div><div style=\"display: table-cell;\">x_range_name&nbsp;=&nbsp;'default',</div></div><div class=\"2871\" style=\"display: none;\"><div style=\"display: table-cell;\"></div><div style=\"display: table-cell;\">y_range_name&nbsp;=&nbsp;'default')</div></div></div>\n",
       "<script>\n",
       "(function() {\n",
       "  let expanded = false;\n",
       "  const ellipsis = document.getElementById(\"2872\");\n",
       "  ellipsis.addEventListener(\"click\", function() {\n",
       "    const rows = document.getElementsByClassName(\"2871\");\n",
       "    for (let i = 0; i < rows.length; i++) {\n",
       "      const el = rows[i];\n",
       "      el.style.display = expanded ? \"none\" : \"table-row\";\n",
       "    }\n",
       "    ellipsis.innerHTML = expanded ? \"&hellip;)\" : \"&lsaquo;&lsaquo;&lsaquo;\";\n",
       "    expanded = !expanded;\n",
       "  });\n",
       "})();\n",
       "</script>\n"
      ],
      "text/plain": [
       "GlyphRenderer(id='2857', ...)"
      ]
     },
     "execution_count": 24,
     "metadata": {},
     "output_type": "execute_result"
    }
   ],
   "source": [
    "# Generando un histograma 1\n",
    "figure_h1=figure(title='Histogram of level of glucose',plot_width=800,plot_height=400)\n",
    "hist,edges=np.histogram(WEEK_DATE.glucose,density=True,bins=20)\n",
    "figure_h1.quad(top=hist,bottom=0,left=edges[:-1],right=edges[1:],\n",
    "      fill_color='#008080',line_color='black',legend_label='Glucose')\n",
    "\n",
    "# Generando un histograma 2\n",
    "figure_h2=figure(title='Histogram of level of isig',plot_width=800,plot_height=400)\n",
    "hist,edges=np.histogram(WEEK_DATE.isig_value,density=True,bins=20)\n",
    "figure_h2.quad(top=hist,bottom=0,left=edges[:-1],right=edges[1:],\n",
    "      fill_color='#008080',line_color='black',legend_label='isig')"
   ]
  },
  {
   "cell_type": "markdown",
   "id": "ab65122d",
   "metadata": {},
   "source": [
    "## Normal Graphs in Bokeh"
   ]
  },
  {
   "cell_type": "code",
   "execution_count": 25,
   "id": "7b03c5e4",
   "metadata": {},
   "outputs": [
    {
     "data": {
      "text/html": [
       "<div style=\"display: table;\"><div style=\"display: table-row;\"><div style=\"display: table-cell;\"><b title=\"bokeh.models.renderers.GlyphRenderer\">GlyphRenderer</b>(</div><div style=\"display: table-cell;\">id&nbsp;=&nbsp;'3045', <span id=\"3048\" style=\"cursor: pointer;\">&hellip;)</span></div></div><div class=\"3047\" style=\"display: none;\"><div style=\"display: table-cell;\"></div><div style=\"display: table-cell;\">coordinates&nbsp;=&nbsp;None,</div></div><div class=\"3047\" style=\"display: none;\"><div style=\"display: table-cell;\"></div><div style=\"display: table-cell;\">data_source&nbsp;=&nbsp;ColumnDataSource(id='3041', ...),</div></div><div class=\"3047\" style=\"display: none;\"><div style=\"display: table-cell;\"></div><div style=\"display: table-cell;\">glyph&nbsp;=&nbsp;Circle(id='3042', ...),</div></div><div class=\"3047\" style=\"display: none;\"><div style=\"display: table-cell;\"></div><div style=\"display: table-cell;\">group&nbsp;=&nbsp;None,</div></div><div class=\"3047\" style=\"display: none;\"><div style=\"display: table-cell;\"></div><div style=\"display: table-cell;\">hover_glyph&nbsp;=&nbsp;None,</div></div><div class=\"3047\" style=\"display: none;\"><div style=\"display: table-cell;\"></div><div style=\"display: table-cell;\">js_event_callbacks&nbsp;=&nbsp;{},</div></div><div class=\"3047\" style=\"display: none;\"><div style=\"display: table-cell;\"></div><div style=\"display: table-cell;\">js_property_callbacks&nbsp;=&nbsp;{},</div></div><div class=\"3047\" style=\"display: none;\"><div style=\"display: table-cell;\"></div><div style=\"display: table-cell;\">level&nbsp;=&nbsp;'glyph',</div></div><div class=\"3047\" style=\"display: none;\"><div style=\"display: table-cell;\"></div><div style=\"display: table-cell;\">muted&nbsp;=&nbsp;False,</div></div><div class=\"3047\" style=\"display: none;\"><div style=\"display: table-cell;\"></div><div style=\"display: table-cell;\">muted_glyph&nbsp;=&nbsp;Circle(id='3044', ...),</div></div><div class=\"3047\" style=\"display: none;\"><div style=\"display: table-cell;\"></div><div style=\"display: table-cell;\">name&nbsp;=&nbsp;None,</div></div><div class=\"3047\" style=\"display: none;\"><div style=\"display: table-cell;\"></div><div style=\"display: table-cell;\">nonselection_glyph&nbsp;=&nbsp;Circle(id='3043', ...),</div></div><div class=\"3047\" style=\"display: none;\"><div style=\"display: table-cell;\"></div><div style=\"display: table-cell;\">selection_glyph&nbsp;=&nbsp;'auto',</div></div><div class=\"3047\" style=\"display: none;\"><div style=\"display: table-cell;\"></div><div style=\"display: table-cell;\">subscribed_events&nbsp;=&nbsp;[],</div></div><div class=\"3047\" style=\"display: none;\"><div style=\"display: table-cell;\"></div><div style=\"display: table-cell;\">syncable&nbsp;=&nbsp;True,</div></div><div class=\"3047\" style=\"display: none;\"><div style=\"display: table-cell;\"></div><div style=\"display: table-cell;\">tags&nbsp;=&nbsp;[],</div></div><div class=\"3047\" style=\"display: none;\"><div style=\"display: table-cell;\"></div><div style=\"display: table-cell;\">view&nbsp;=&nbsp;CDSView(id='3046', ...),</div></div><div class=\"3047\" style=\"display: none;\"><div style=\"display: table-cell;\"></div><div style=\"display: table-cell;\">visible&nbsp;=&nbsp;True,</div></div><div class=\"3047\" style=\"display: none;\"><div style=\"display: table-cell;\"></div><div style=\"display: table-cell;\">x_range_name&nbsp;=&nbsp;'default',</div></div><div class=\"3047\" style=\"display: none;\"><div style=\"display: table-cell;\"></div><div style=\"display: table-cell;\">y_range_name&nbsp;=&nbsp;'default')</div></div></div>\n",
       "<script>\n",
       "(function() {\n",
       "  let expanded = false;\n",
       "  const ellipsis = document.getElementById(\"3048\");\n",
       "  ellipsis.addEventListener(\"click\", function() {\n",
       "    const rows = document.getElementsByClassName(\"3047\");\n",
       "    for (let i = 0; i < rows.length; i++) {\n",
       "      const el = rows[i];\n",
       "      el.style.display = expanded ? \"none\" : \"table-row\";\n",
       "    }\n",
       "    ellipsis.innerHTML = expanded ? \"&hellip;)\" : \"&lsaquo;&lsaquo;&lsaquo;\";\n",
       "    expanded = !expanded;\n",
       "  });\n",
       "})();\n",
       "</script>\n"
      ],
      "text/plain": [
       "GlyphRenderer(id='3045', ...)"
      ]
     },
     "execution_count": 25,
     "metadata": {},
     "output_type": "execute_result"
    }
   ],
   "source": [
    "# bloque de codigo 1\n",
    "figure_1=figure(x_axis_type='datetime',title='level glucose by day',plot_width=800,plot_height=400)\n",
    "figure_1.xgrid.grid_line_color=None\n",
    "figure_1.ygrid.grid_line_alpha=0.7\n",
    "figure_1.xaxis.axis_label='time'\n",
    "figure_1.yaxis.axis_label='leavel glucose'\n",
    "figure_1.vbar(x=WEEK_DATE_PER_DAY_BIGGER_THAN_125.index,top=WEEK_DATE_PER_DAY_BIGGER_THAN_125.glucose,color='#FF0000',width=0.9)\n",
    "figure_1.vbar(x=WEEK_DATE_PER_DAY_LESS_THAN_125.index,top=WEEK_DATE_PER_DAY_LESS_THAN_125.glucose,color='#008000',width=0.9)\n",
    "# bloque de codigo 2\n",
    "figure_2=figure(x_axis_type='datetime',title='isig value by day',plot_width=800,plot_height=400)\n",
    "figure_2.xgrid.grid_line_color=None\n",
    "figure_2.ygrid.grid_line_alpha=0.7\n",
    "figure_2.xaxis.axis_label='time'\n",
    "figure_2.yaxis.axis_label='leavel isig'\n",
    "figure_2.line(WEEK_DATE.index,WEEK_DATE.isig_value,color='#000080',line_width=1.5)\n",
    "\n",
    "# bloque de codigo 3\n",
    "figure_3=figure(x_axis_type='datetime',title='level glucose by date mean',plot_width=800,plot_height=400)\n",
    "figure_3.xgrid.grid_line_color=None\n",
    "figure_3.ygrid.grid_line_alpha=0.7\n",
    "figure_3.xaxis.axis_label='time'\n",
    "figure_3.yaxis.axis_label='leavel glucose'\n",
    "figure_3.circle(WEEK_DATE_BIGGER_THAN_125.index,WEEK_DATE_BIGGER_THAN_125.glucose,\n",
    "               size=10,line_color='navy',fill_color='#FF0000',fill_alpha=0.9)\n",
    "figure_3.circle(WEEK_DATE_LESS_THAN_125.index,WEEK_DATE_LESS_THAN_125.glucose,\n",
    "               size=10,line_color='navy',fill_color='#008000',fill_alpha=0.9)\n",
    "\n",
    "# bloque de codigo 2\n",
    "figure_4=figure(x_axis_type='datetime',title='isig value by day mean',plot_width=800,plot_height=400)\n",
    "figure_4.xgrid.grid_line_color=None\n",
    "figure_4.ygrid.grid_line_alpha=0.7\n",
    "figure_4.xaxis.axis_label='time'\n",
    "figure_4.yaxis.axis_label='leavel isig'\n",
    "figure_4.circle(WEEK_DATE_BIGGER_THAN_12.index,WEEK_DATE_BIGGER_THAN_12.isig_value,\n",
    "               size=10,line_color='navy',fill_color='#FF0000',fill_alpha=0.9)\n",
    "figure_4.circle(WEEK_DATE_LESS_THAN_12.index,WEEK_DATE_LESS_THAN_12.isig_value,\n",
    "               size=10,line_color='navy',fill_color='#008000',fill_alpha=0.9)\n",
    "\n",
    "\n"
   ]
  },
  {
   "cell_type": "markdown",
   "id": "67630d32",
   "metadata": {},
   "source": [
    "# Mostrando resultado"
   ]
  },
  {
   "cell_type": "code",
   "execution_count": 26,
   "id": "34eace41",
   "metadata": {},
   "outputs": [],
   "source": [
    "lay_out_project=layout([[figure_h1,figure_h2],[figure_1,figure_2],[figure_3,figure_4]])\n",
    "show(lay_out_project)"
   ]
  },
  {
   "cell_type": "code",
   "execution_count": null,
   "id": "15ffa51b",
   "metadata": {},
   "outputs": [],
   "source": []
  }
 ],
 "metadata": {
  "kernelspec": {
   "display_name": "Python 3 (ipykernel)",
   "language": "python",
   "name": "python3"
  },
  "language_info": {
   "codemirror_mode": {
    "name": "ipython",
    "version": 3
   },
   "file_extension": ".py",
   "mimetype": "text/x-python",
   "name": "python",
   "nbconvert_exporter": "python",
   "pygments_lexer": "ipython3",
   "version": "3.10.1"
  },
  "toc": {
   "base_numbering": 1,
   "nav_menu": {},
   "number_sections": true,
   "sideBar": true,
   "skip_h1_title": false,
   "title_cell": "Table of Contents",
   "title_sidebar": "Contents",
   "toc_cell": false,
   "toc_position": {},
   "toc_section_display": true,
   "toc_window_display": false
  }
 },
 "nbformat": 4,
 "nbformat_minor": 5
}
