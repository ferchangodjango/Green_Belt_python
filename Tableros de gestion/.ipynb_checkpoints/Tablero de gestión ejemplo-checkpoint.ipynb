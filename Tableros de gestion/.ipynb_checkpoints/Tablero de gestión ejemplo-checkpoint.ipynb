{
 "cells": [
  {
   "cell_type": "markdown",
   "id": "fe97d815",
   "metadata": {
    "heading_collapsed": true
   },
   "source": [
    "# Importacion de librerias"
   ]
  },
  {
   "cell_type": "code",
   "execution_count": 1,
   "id": "fbdead95",
   "metadata": {
    "hidden": true
   },
   "outputs": [],
   "source": [
    "from bokeh.io import output_notebook,show\n",
    "from bokeh.plotting import figure\n",
    "from bokeh.layouts import layout\n",
    "import pandas as pd\n",
    "import numpy as np\n",
    "import datetime as dt\n",
    "import Local_funtion as Lf\n",
    "from bokeh.sampledata.glucose import data"
   ]
  },
  {
   "cell_type": "markdown",
   "id": "67744cd4",
   "metadata": {},
   "source": [
    "# Cleaning & preparing data"
   ]
  },
  {
   "cell_type": "code",
   "execution_count": 2,
   "id": "a10cb93a",
   "metadata": {},
   "outputs": [
    {
     "name": "stdout",
     "output_type": "stream",
     "text": [
      "<class 'pandas.core.frame.DataFrame'>\n",
      "DatetimeIndex: 52281 entries, 2010-03-24 09:51:00 to 2010-10-10 23:57:00\n",
      "Data columns (total 2 columns):\n",
      " #   Column   Non-Null Count  Dtype \n",
      "---  ------   --------------  ----- \n",
      " 0   isig     52281 non-null  object\n",
      " 1   glucose  52281 non-null  int64 \n",
      "dtypes: int64(1), object(1)\n",
      "memory usage: 1.2+ MB\n"
     ]
    }
   ],
   "source": [
    "#Is important to know what kind of data we have\n",
    "data.info()"
   ]
  },
  {
   "cell_type": "code",
   "execution_count": 3,
   "id": "9c09bb35",
   "metadata": {},
   "outputs": [],
   "source": [
    "# For good practice is correct copy the data set, for modify the copy, and don´t touch the original data_set\n",
    "data_glucose=data.copy()\n",
    "\n",
    "#We have a problem, the problem is that we have one column, with string, and we want float data\n",
    "#For this reason we create a function that can covert isig column in float data.\n",
    "def convert_in_number(data_value):\n",
    "    try: \n",
    "        data_value=float(data_value)\n",
    "        return data_value\n",
    "    except:\n",
    "        data_value=0\n",
    "        return data_value\n",
    "data_glucose['isig_value']=data_glucose['isig'].apply(convert_in_number)"
   ]
  },
  {
   "cell_type": "code",
   "execution_count": 4,
   "id": "77f8f1d0",
   "metadata": {},
   "outputs": [
    {
     "data": {
      "text/html": [
       "<div>\n",
       "<style scoped>\n",
       "    .dataframe tbody tr th:only-of-type {\n",
       "        vertical-align: middle;\n",
       "    }\n",
       "\n",
       "    .dataframe tbody tr th {\n",
       "        vertical-align: top;\n",
       "    }\n",
       "\n",
       "    .dataframe thead th {\n",
       "        text-align: right;\n",
       "    }\n",
       "</style>\n",
       "<table border=\"1\" class=\"dataframe\">\n",
       "  <thead>\n",
       "    <tr style=\"text-align: right;\">\n",
       "      <th></th>\n",
       "      <th>datetime</th>\n",
       "      <th>isig</th>\n",
       "      <th>glucose</th>\n",
       "      <th>isig_value</th>\n",
       "    </tr>\n",
       "  </thead>\n",
       "  <tbody>\n",
       "    <tr>\n",
       "      <th>0</th>\n",
       "      <td>2010-03-24 09:51:00</td>\n",
       "      <td>22.59</td>\n",
       "      <td>258</td>\n",
       "      <td>22.59</td>\n",
       "    </tr>\n",
       "    <tr>\n",
       "      <th>1</th>\n",
       "      <td>2010-03-24 09:56:00</td>\n",
       "      <td>22.52</td>\n",
       "      <td>260</td>\n",
       "      <td>22.52</td>\n",
       "    </tr>\n",
       "    <tr>\n",
       "      <th>2</th>\n",
       "      <td>2010-03-24 10:01:00</td>\n",
       "      <td>22.23</td>\n",
       "      <td>258</td>\n",
       "      <td>22.23</td>\n",
       "    </tr>\n",
       "    <tr>\n",
       "      <th>3</th>\n",
       "      <td>2010-03-24 10:06:00</td>\n",
       "      <td>21.56</td>\n",
       "      <td>254</td>\n",
       "      <td>21.56</td>\n",
       "    </tr>\n",
       "    <tr>\n",
       "      <th>4</th>\n",
       "      <td>2010-03-24 10:11:00</td>\n",
       "      <td>20.79</td>\n",
       "      <td>246</td>\n",
       "      <td>20.79</td>\n",
       "    </tr>\n",
       "  </tbody>\n",
       "</table>\n",
       "</div>"
      ],
      "text/plain": [
       "             datetime   isig  glucose  isig_value\n",
       "0 2010-03-24 09:51:00  22.59      258       22.59\n",
       "1 2010-03-24 09:56:00  22.52      260       22.52\n",
       "2 2010-03-24 10:01:00  22.23      258       22.23\n",
       "3 2010-03-24 10:06:00  21.56      254       21.56\n",
       "4 2010-03-24 10:11:00  20.79      246       20.79"
      ]
     },
     "execution_count": 4,
     "metadata": {},
     "output_type": "execute_result"
    }
   ],
   "source": [
    "# reseteando el indice para poder aplicar las funcion apply scalar\n",
    "data_glucose=data_glucose.reset_index()\n",
    "data_glucose.head()"
   ]
  },
  {
   "cell_type": "code",
   "execution_count": 5,
   "id": "a4114653",
   "metadata": {},
   "outputs": [],
   "source": [
    "#Desglosando el HXH.\n",
    "data_hxh=Lf.apply_scalars(data_glucose,timestamp_col='datetime',hxh=True)\n"
   ]
  },
  {
   "cell_type": "code",
   "execution_count": 6,
   "id": "2af87156",
   "metadata": {},
   "outputs": [
    {
     "name": "stdout",
     "output_type": "stream",
     "text": [
      "<class 'pandas.core.frame.DataFrame'>\n",
      "DatetimeIndex: 52281 entries, 2010-03-24 09:51:00 to 2010-10-10 23:57:00\n",
      "Data columns (total 6 columns):\n",
      " #   Column      Non-Null Count  Dtype         \n",
      "---  ------      --------------  -----         \n",
      " 0   isig        52281 non-null  object        \n",
      " 1   glucose     52281 non-null  int64         \n",
      " 2   isig_value  52281 non-null  float64       \n",
      " 3   HXH         52281 non-null  object        \n",
      " 4   SHIFT       52281 non-null  object        \n",
      " 5   DATE        52281 non-null  datetime64[ns]\n",
      "dtypes: datetime64[ns](1), float64(1), int64(1), object(3)\n",
      "memory usage: 2.8+ MB\n"
     ]
    }
   ],
   "source": [
    "#Reseteando la data, ahora con las columnas que necesitamos para el analisis\n",
    "data_hxh=data_hxh.set_index('datetime')\n",
    "data_hxh['DATE']=pd.to_datetime(data_hxh['DATE'])\n",
    "data_hxh.info()"
   ]
  },
  {
   "cell_type": "code",
   "execution_count": 7,
   "id": "4624e8ca",
   "metadata": {},
   "outputs": [],
   "source": [
    "#Agrupando a la tabla por semana\n",
    "#De este primer pedazo, queremos saber 4 cosas\n",
    "#Distribución de los datos.\n",
    "#Grafica de todos los datos con el valor de la glucosa\n",
    "#Grafica de todos los datos con el valor de isig_value\n",
    "#Grafica de unicamente la media por dia.\n",
    "\n",
    "WEEK_DATE=data_hxh.loc['2010-04-06':'2010-05-03']\n",
    "\n",
    "WEEK_DATE_GROUP_GLUCOSE=WEEK_DATE.groupby(['DATE'])['glucose'].mean().reset_index()\n",
    "WEEK_DATE_GROUP_GLUCOSE=WEEK_DATE_GROUP_GLUCOSE.set_index('DATE')\n",
    "\n",
    "WEEK_DATE_GROUP_ISIG=WEEK_DATE.groupby(['DATE'])['isig_value'].mean().reset_index()\n",
    "WEEK_DATE_GROUP_ISIG=WEEK_DATE_GROUP_ISIG.set_index('DATE')"
   ]
  },
  {
   "cell_type": "markdown",
   "id": "59a096df",
   "metadata": {},
   "source": [
    "# Generación de gráficas"
   ]
  },
  {
   "cell_type": "markdown",
   "id": "702c6f8c",
   "metadata": {
    "heading_collapsed": true
   },
   "source": [
    "## Histogram in bokeh"
   ]
  },
  {
   "cell_type": "code",
   "execution_count": 8,
   "id": "a588824f",
   "metadata": {
    "hidden": true
   },
   "outputs": [
    {
     "data": {
      "text/html": [
       "<div style=\"display: table;\"><div style=\"display: table-row;\"><div style=\"display: table-cell;\"><b title=\"bokeh.models.renderers.GlyphRenderer\">GlyphRenderer</b>(</div><div style=\"display: table-cell;\">id&nbsp;=&nbsp;'1090', <span id=\"1105\" style=\"cursor: pointer;\">&hellip;)</span></div></div><div class=\"1104\" style=\"display: none;\"><div style=\"display: table-cell;\"></div><div style=\"display: table-cell;\">coordinates&nbsp;=&nbsp;None,</div></div><div class=\"1104\" style=\"display: none;\"><div style=\"display: table-cell;\"></div><div style=\"display: table-cell;\">data_source&nbsp;=&nbsp;ColumnDataSource(id='1086', ...),</div></div><div class=\"1104\" style=\"display: none;\"><div style=\"display: table-cell;\"></div><div style=\"display: table-cell;\">glyph&nbsp;=&nbsp;Quad(id='1087', ...),</div></div><div class=\"1104\" style=\"display: none;\"><div style=\"display: table-cell;\"></div><div style=\"display: table-cell;\">group&nbsp;=&nbsp;None,</div></div><div class=\"1104\" style=\"display: none;\"><div style=\"display: table-cell;\"></div><div style=\"display: table-cell;\">hover_glyph&nbsp;=&nbsp;None,</div></div><div class=\"1104\" style=\"display: none;\"><div style=\"display: table-cell;\"></div><div style=\"display: table-cell;\">js_event_callbacks&nbsp;=&nbsp;{},</div></div><div class=\"1104\" style=\"display: none;\"><div style=\"display: table-cell;\"></div><div style=\"display: table-cell;\">js_property_callbacks&nbsp;=&nbsp;{},</div></div><div class=\"1104\" style=\"display: none;\"><div style=\"display: table-cell;\"></div><div style=\"display: table-cell;\">level&nbsp;=&nbsp;'glyph',</div></div><div class=\"1104\" style=\"display: none;\"><div style=\"display: table-cell;\"></div><div style=\"display: table-cell;\">muted&nbsp;=&nbsp;False,</div></div><div class=\"1104\" style=\"display: none;\"><div style=\"display: table-cell;\"></div><div style=\"display: table-cell;\">muted_glyph&nbsp;=&nbsp;Quad(id='1089', ...),</div></div><div class=\"1104\" style=\"display: none;\"><div style=\"display: table-cell;\"></div><div style=\"display: table-cell;\">name&nbsp;=&nbsp;None,</div></div><div class=\"1104\" style=\"display: none;\"><div style=\"display: table-cell;\"></div><div style=\"display: table-cell;\">nonselection_glyph&nbsp;=&nbsp;Quad(id='1088', ...),</div></div><div class=\"1104\" style=\"display: none;\"><div style=\"display: table-cell;\"></div><div style=\"display: table-cell;\">selection_glyph&nbsp;=&nbsp;'auto',</div></div><div class=\"1104\" style=\"display: none;\"><div style=\"display: table-cell;\"></div><div style=\"display: table-cell;\">subscribed_events&nbsp;=&nbsp;[],</div></div><div class=\"1104\" style=\"display: none;\"><div style=\"display: table-cell;\"></div><div style=\"display: table-cell;\">syncable&nbsp;=&nbsp;True,</div></div><div class=\"1104\" style=\"display: none;\"><div style=\"display: table-cell;\"></div><div style=\"display: table-cell;\">tags&nbsp;=&nbsp;[],</div></div><div class=\"1104\" style=\"display: none;\"><div style=\"display: table-cell;\"></div><div style=\"display: table-cell;\">view&nbsp;=&nbsp;CDSView(id='1091', ...),</div></div><div class=\"1104\" style=\"display: none;\"><div style=\"display: table-cell;\"></div><div style=\"display: table-cell;\">visible&nbsp;=&nbsp;True,</div></div><div class=\"1104\" style=\"display: none;\"><div style=\"display: table-cell;\"></div><div style=\"display: table-cell;\">x_range_name&nbsp;=&nbsp;'default',</div></div><div class=\"1104\" style=\"display: none;\"><div style=\"display: table-cell;\"></div><div style=\"display: table-cell;\">y_range_name&nbsp;=&nbsp;'default')</div></div></div>\n",
       "<script>\n",
       "(function() {\n",
       "  let expanded = false;\n",
       "  const ellipsis = document.getElementById(\"1105\");\n",
       "  ellipsis.addEventListener(\"click\", function() {\n",
       "    const rows = document.getElementsByClassName(\"1104\");\n",
       "    for (let i = 0; i < rows.length; i++) {\n",
       "      const el = rows[i];\n",
       "      el.style.display = expanded ? \"none\" : \"table-row\";\n",
       "    }\n",
       "    ellipsis.innerHTML = expanded ? \"&hellip;)\" : \"&lsaquo;&lsaquo;&lsaquo;\";\n",
       "    expanded = !expanded;\n",
       "  });\n",
       "})();\n",
       "</script>\n"
      ],
      "text/plain": [
       "GlyphRenderer(id='1090', ...)"
      ]
     },
     "execution_count": 8,
     "metadata": {},
     "output_type": "execute_result"
    }
   ],
   "source": [
    "# Generando un histograma 1\n",
    "figure_h1=figure(title='Histogram of level of glucose',plot_width=800,plot_height=400)\n",
    "hist,edges=np.histogram(WEEK_DATE.glucose,density=True,bins=20)\n",
    "figure_h1.quad(top=hist,bottom=0,left=edges[:-1],right=edges[1:],\n",
    "      fill_color='#008080',line_color='black',legend_label='Glucose')\n",
    "\n",
    "# Generando un histograma 2\n",
    "figure_h2=figure(title='Histogram of level of isig',plot_width=800,plot_height=400)\n",
    "hist,edges=np.histogram(WEEK_DATE.isig_value,density=True,bins=20)\n",
    "figure_h2.quad(top=hist,bottom=0,left=edges[:-1],right=edges[1:],\n",
    "      fill_color='#008080',line_color='black',legend_label='isig')"
   ]
  },
  {
   "cell_type": "markdown",
   "id": "a15fc543",
   "metadata": {},
   "source": [
    "## Normal Graphs in Bokeh"
   ]
  },
  {
   "cell_type": "code",
   "execution_count": 9,
   "id": "744ee6f5",
   "metadata": {},
   "outputs": [
    {
     "data": {
      "text/html": [
       "<div style=\"display: table;\"><div style=\"display: table-row;\"><div style=\"display: table-cell;\"><b title=\"bokeh.models.renderers.GlyphRenderer\">GlyphRenderer</b>(</div><div style=\"display: table-cell;\">id&nbsp;=&nbsp;'1260', <span id=\"1263\" style=\"cursor: pointer;\">&hellip;)</span></div></div><div class=\"1262\" style=\"display: none;\"><div style=\"display: table-cell;\"></div><div style=\"display: table-cell;\">coordinates&nbsp;=&nbsp;None,</div></div><div class=\"1262\" style=\"display: none;\"><div style=\"display: table-cell;\"></div><div style=\"display: table-cell;\">data_source&nbsp;=&nbsp;ColumnDataSource(id='1256', ...),</div></div><div class=\"1262\" style=\"display: none;\"><div style=\"display: table-cell;\"></div><div style=\"display: table-cell;\">glyph&nbsp;=&nbsp;Scatter(id='1257', ...),</div></div><div class=\"1262\" style=\"display: none;\"><div style=\"display: table-cell;\"></div><div style=\"display: table-cell;\">group&nbsp;=&nbsp;None,</div></div><div class=\"1262\" style=\"display: none;\"><div style=\"display: table-cell;\"></div><div style=\"display: table-cell;\">hover_glyph&nbsp;=&nbsp;None,</div></div><div class=\"1262\" style=\"display: none;\"><div style=\"display: table-cell;\"></div><div style=\"display: table-cell;\">js_event_callbacks&nbsp;=&nbsp;{},</div></div><div class=\"1262\" style=\"display: none;\"><div style=\"display: table-cell;\"></div><div style=\"display: table-cell;\">js_property_callbacks&nbsp;=&nbsp;{},</div></div><div class=\"1262\" style=\"display: none;\"><div style=\"display: table-cell;\"></div><div style=\"display: table-cell;\">level&nbsp;=&nbsp;'glyph',</div></div><div class=\"1262\" style=\"display: none;\"><div style=\"display: table-cell;\"></div><div style=\"display: table-cell;\">muted&nbsp;=&nbsp;False,</div></div><div class=\"1262\" style=\"display: none;\"><div style=\"display: table-cell;\"></div><div style=\"display: table-cell;\">muted_glyph&nbsp;=&nbsp;Scatter(id='1259', ...),</div></div><div class=\"1262\" style=\"display: none;\"><div style=\"display: table-cell;\"></div><div style=\"display: table-cell;\">name&nbsp;=&nbsp;None,</div></div><div class=\"1262\" style=\"display: none;\"><div style=\"display: table-cell;\"></div><div style=\"display: table-cell;\">nonselection_glyph&nbsp;=&nbsp;Scatter(id='1258', ...),</div></div><div class=\"1262\" style=\"display: none;\"><div style=\"display: table-cell;\"></div><div style=\"display: table-cell;\">selection_glyph&nbsp;=&nbsp;'auto',</div></div><div class=\"1262\" style=\"display: none;\"><div style=\"display: table-cell;\"></div><div style=\"display: table-cell;\">subscribed_events&nbsp;=&nbsp;[],</div></div><div class=\"1262\" style=\"display: none;\"><div style=\"display: table-cell;\"></div><div style=\"display: table-cell;\">syncable&nbsp;=&nbsp;True,</div></div><div class=\"1262\" style=\"display: none;\"><div style=\"display: table-cell;\"></div><div style=\"display: table-cell;\">tags&nbsp;=&nbsp;[],</div></div><div class=\"1262\" style=\"display: none;\"><div style=\"display: table-cell;\"></div><div style=\"display: table-cell;\">view&nbsp;=&nbsp;CDSView(id='1261', ...),</div></div><div class=\"1262\" style=\"display: none;\"><div style=\"display: table-cell;\"></div><div style=\"display: table-cell;\">visible&nbsp;=&nbsp;True,</div></div><div class=\"1262\" style=\"display: none;\"><div style=\"display: table-cell;\"></div><div style=\"display: table-cell;\">x_range_name&nbsp;=&nbsp;'default',</div></div><div class=\"1262\" style=\"display: none;\"><div style=\"display: table-cell;\"></div><div style=\"display: table-cell;\">y_range_name&nbsp;=&nbsp;'default')</div></div></div>\n",
       "<script>\n",
       "(function() {\n",
       "  let expanded = false;\n",
       "  const ellipsis = document.getElementById(\"1263\");\n",
       "  ellipsis.addEventListener(\"click\", function() {\n",
       "    const rows = document.getElementsByClassName(\"1262\");\n",
       "    for (let i = 0; i < rows.length; i++) {\n",
       "      const el = rows[i];\n",
       "      el.style.display = expanded ? \"none\" : \"table-row\";\n",
       "    }\n",
       "    ellipsis.innerHTML = expanded ? \"&hellip;)\" : \"&lsaquo;&lsaquo;&lsaquo;\";\n",
       "    expanded = !expanded;\n",
       "  });\n",
       "})();\n",
       "</script>\n"
      ],
      "text/plain": [
       "GlyphRenderer(id='1260', ...)"
      ]
     },
     "execution_count": 9,
     "metadata": {},
     "output_type": "execute_result"
    }
   ],
   "source": [
    "# bloque de codigo 1\n",
    "figure_1=figure(x_axis_type='datetime',title='level glucose by day',plot_width=400,plot_height=400)\n",
    "figure_1.xgrid.grid_line_color=None\n",
    "figure_1.ygrid.grid_line_alpha=0.7\n",
    "figure_1.xaxis.axis_label='time'\n",
    "figure_1.yaxis.axis_label='leavel glucose'\n",
    "figure_1.line(WEEK_DATE.index,WEEK_DATE.glucose,color='#000080',line_width=1.5)\n",
    "\n",
    "# bloque de codigo 2\n",
    "figure_2=figure(x_axis_type='datetime',title='isig value by day',plot_width=400,plot_height=400)\n",
    "figure_2.xgrid.grid_line_color=None\n",
    "figure_2.ygrid.grid_line_alpha=0.7\n",
    "figure_2.xaxis.axis_label='time'\n",
    "figure_2.yaxis.axis_label='leavel isig'\n",
    "figure_2.line(WEEK_DATE.index,WEEK_DATE.isig_value,color='#000080',line_width=1.5)\n",
    "\n",
    "# bloque de codigo 3\n",
    "figure_3=figure(x_axis_type='datetime',title='level glucose by date mean',plot_width=400,plot_height=400)\n",
    "figure_3.xgrid.grid_line_color=None\n",
    "figure_3.ygrid.grid_line_alpha=0.7\n",
    "figure_3.xaxis.axis_label='time'\n",
    "figure_3.yaxis.axis_label='leavel glucose'\n",
    "figure_3.circle(WEEK_DATE_GROUP_GLUCOSE.index,WEEK_DATE_GROUP_GLUCOSE.glucose,\n",
    "               size=10,line_color='navy',fill_color='#C0C0C0',fill_alpha=0.9)\n",
    "\n",
    "# bloque de codigo 2\n",
    "figure_4=figure(x_axis_type='datetime',title='isig value by day mean',plot_width=400,plot_height=400)\n",
    "figure_4.xgrid.grid_line_color=None\n",
    "figure_4.ygrid.grid_line_alpha=0.7\n",
    "figure_4.xaxis.axis_label='time'\n",
    "figure_4.yaxis.axis_label='leavel isig'\n",
    "figure_4.diamond(WEEK_DATE_GROUP_ISIG.index,WEEK_DATE_GROUP_ISIG.isig_value,\n",
    "               size=20,line_color='navy',fill_color='orange',fill_alpha=0.9)\n",
    "\n",
    "\n"
   ]
  },
  {
   "cell_type": "markdown",
   "id": "7503f799",
   "metadata": {},
   "source": [
    "## Diferents color in Bokeh"
   ]
  },
  {
   "cell_type": "code",
   "execution_count": 10,
   "id": "20c806d6",
   "metadata": {},
   "outputs": [],
   "source": [
    "#WEEK_DATE.head()\n",
    "WEEK_DATE_BIGGER_THAN_125=WEEK_DATE_GROUP_GLUCOSE.loc[(WEEK_DATE_GROUP_GLUCOSE['glucose']>=125)]\n",
    "WEEK_DATE_LESS_THAN_125=WEEK_DATE_GROUP_GLUCOSE.loc[(WEEK_DATE_GROUP_GLUCOSE['glucose']<125)]"
   ]
  },
  {
   "cell_type": "code",
   "execution_count": 11,
   "id": "9af5b7fc",
   "metadata": {},
   "outputs": [
    {
     "data": {
      "text/html": [
       "<div style=\"display: table;\"><div style=\"display: table-row;\"><div style=\"display: table-cell;\"><b title=\"bokeh.models.renderers.GlyphRenderer\">GlyphRenderer</b>(</div><div style=\"display: table-cell;\">id&nbsp;=&nbsp;'1307', <span id=\"1310\" style=\"cursor: pointer;\">&hellip;)</span></div></div><div class=\"1309\" style=\"display: none;\"><div style=\"display: table-cell;\"></div><div style=\"display: table-cell;\">coordinates&nbsp;=&nbsp;None,</div></div><div class=\"1309\" style=\"display: none;\"><div style=\"display: table-cell;\"></div><div style=\"display: table-cell;\">data_source&nbsp;=&nbsp;ColumnDataSource(id='1303', ...),</div></div><div class=\"1309\" style=\"display: none;\"><div style=\"display: table-cell;\"></div><div style=\"display: table-cell;\">glyph&nbsp;=&nbsp;Circle(id='1304', ...),</div></div><div class=\"1309\" style=\"display: none;\"><div style=\"display: table-cell;\"></div><div style=\"display: table-cell;\">group&nbsp;=&nbsp;None,</div></div><div class=\"1309\" style=\"display: none;\"><div style=\"display: table-cell;\"></div><div style=\"display: table-cell;\">hover_glyph&nbsp;=&nbsp;None,</div></div><div class=\"1309\" style=\"display: none;\"><div style=\"display: table-cell;\"></div><div style=\"display: table-cell;\">js_event_callbacks&nbsp;=&nbsp;{},</div></div><div class=\"1309\" style=\"display: none;\"><div style=\"display: table-cell;\"></div><div style=\"display: table-cell;\">js_property_callbacks&nbsp;=&nbsp;{},</div></div><div class=\"1309\" style=\"display: none;\"><div style=\"display: table-cell;\"></div><div style=\"display: table-cell;\">level&nbsp;=&nbsp;'glyph',</div></div><div class=\"1309\" style=\"display: none;\"><div style=\"display: table-cell;\"></div><div style=\"display: table-cell;\">muted&nbsp;=&nbsp;False,</div></div><div class=\"1309\" style=\"display: none;\"><div style=\"display: table-cell;\"></div><div style=\"display: table-cell;\">muted_glyph&nbsp;=&nbsp;Circle(id='1306', ...),</div></div><div class=\"1309\" style=\"display: none;\"><div style=\"display: table-cell;\"></div><div style=\"display: table-cell;\">name&nbsp;=&nbsp;None,</div></div><div class=\"1309\" style=\"display: none;\"><div style=\"display: table-cell;\"></div><div style=\"display: table-cell;\">nonselection_glyph&nbsp;=&nbsp;Circle(id='1305', ...),</div></div><div class=\"1309\" style=\"display: none;\"><div style=\"display: table-cell;\"></div><div style=\"display: table-cell;\">selection_glyph&nbsp;=&nbsp;'auto',</div></div><div class=\"1309\" style=\"display: none;\"><div style=\"display: table-cell;\"></div><div style=\"display: table-cell;\">subscribed_events&nbsp;=&nbsp;[],</div></div><div class=\"1309\" style=\"display: none;\"><div style=\"display: table-cell;\"></div><div style=\"display: table-cell;\">syncable&nbsp;=&nbsp;True,</div></div><div class=\"1309\" style=\"display: none;\"><div style=\"display: table-cell;\"></div><div style=\"display: table-cell;\">tags&nbsp;=&nbsp;[],</div></div><div class=\"1309\" style=\"display: none;\"><div style=\"display: table-cell;\"></div><div style=\"display: table-cell;\">view&nbsp;=&nbsp;CDSView(id='1308', ...),</div></div><div class=\"1309\" style=\"display: none;\"><div style=\"display: table-cell;\"></div><div style=\"display: table-cell;\">visible&nbsp;=&nbsp;True,</div></div><div class=\"1309\" style=\"display: none;\"><div style=\"display: table-cell;\"></div><div style=\"display: table-cell;\">x_range_name&nbsp;=&nbsp;'default',</div></div><div class=\"1309\" style=\"display: none;\"><div style=\"display: table-cell;\"></div><div style=\"display: table-cell;\">y_range_name&nbsp;=&nbsp;'default')</div></div></div>\n",
       "<script>\n",
       "(function() {\n",
       "  let expanded = false;\n",
       "  const ellipsis = document.getElementById(\"1310\");\n",
       "  ellipsis.addEventListener(\"click\", function() {\n",
       "    const rows = document.getElementsByClassName(\"1309\");\n",
       "    for (let i = 0; i < rows.length; i++) {\n",
       "      const el = rows[i];\n",
       "      el.style.display = expanded ? \"none\" : \"table-row\";\n",
       "    }\n",
       "    ellipsis.innerHTML = expanded ? \"&hellip;)\" : \"&lsaquo;&lsaquo;&lsaquo;\";\n",
       "    expanded = !expanded;\n",
       "  });\n",
       "})();\n",
       "</script>\n"
      ],
      "text/plain": [
       "GlyphRenderer(id='1307', ...)"
      ]
     },
     "execution_count": 11,
     "metadata": {},
     "output_type": "execute_result"
    }
   ],
   "source": [
    "# bloque de codigo 1\n",
    "figure_5=figure(x_axis_type='datetime',title='level glucose by date mean',plot_width=400,plot_height=400)\n",
    "figure_5.xgrid.grid_line_color=None\n",
    "figure_5.ygrid.grid_line_alpha=0.7\n",
    "figure_5.xaxis.axis_label='time'\n",
    "figure_5.yaxis.axis_label='leavel glucose'\n",
    "figure_5.circle(WEEK_DATE_BIGGER_THAN_125.index,WEEK_DATE_BIGGER_THAN_125.glucose,\n",
    "               size=10,line_color='navy',fill_color='#FF0000',fill_alpha=0.9)\n",
    "figure_5.circle(WEEK_DATE_LESS_THAN_125.index,WEEK_DATE_LESS_THAN_125.glucose,\n",
    "               size=10,line_color='navy',fill_color='#008000',fill_alpha=0.9)\n"
   ]
  },
  {
   "cell_type": "code",
   "execution_count": null,
   "id": "c5d8e1e9",
   "metadata": {},
   "outputs": [],
   "source": []
  },
  {
   "cell_type": "markdown",
   "id": "f1909c1e",
   "metadata": {},
   "source": [
    "# Mostrando resultado"
   ]
  },
  {
   "cell_type": "code",
   "execution_count": 12,
   "id": "20a96d51",
   "metadata": {},
   "outputs": [],
   "source": [
    "lay_out_project=layout([[figure_h1,figure_h2],[figure_1,figure_3,figure_2,figure_4],[figure_5]])\n",
    "show(lay_out_project)"
   ]
  },
  {
   "cell_type": "code",
   "execution_count": null,
   "id": "2799ef9b",
   "metadata": {},
   "outputs": [],
   "source": []
  }
 ],
 "metadata": {
  "kernelspec": {
   "display_name": "Python 3 (ipykernel)",
   "language": "python",
   "name": "python3"
  },
  "language_info": {
   "codemirror_mode": {
    "name": "ipython",
    "version": 3
   },
   "file_extension": ".py",
   "mimetype": "text/x-python",
   "name": "python",
   "nbconvert_exporter": "python",
   "pygments_lexer": "ipython3",
   "version": "3.10.1"
  },
  "toc": {
   "base_numbering": 1,
   "nav_menu": {},
   "number_sections": true,
   "sideBar": true,
   "skip_h1_title": false,
   "title_cell": "Table of Contents",
   "title_sidebar": "Contents",
   "toc_cell": false,
   "toc_position": {},
   "toc_section_display": true,
   "toc_window_display": false
  }
 },
 "nbformat": 4,
 "nbformat_minor": 5
}
