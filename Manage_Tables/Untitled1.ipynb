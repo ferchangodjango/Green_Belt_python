{
 "cells": [
  {
   "cell_type": "code",
   "execution_count": 6,
   "id": "1cb7c10e",
   "metadata": {},
   "outputs": [],
   "source": [
    "from numpy import cos, linspace, pi, sin\n",
    "\n",
    "#from bokeh.core.enums import LegendLocation\n",
    "from bokeh.io import show\n",
    "from bokeh.models import (ColumnDataSource, DataRange1d, Legend, Line, LinearAxis,\n",
    "                          PanTool, Plot, SaveTool, Scatter, WheelZoomTool)\n"
   ]
  },
  {
   "cell_type": "code",
   "execution_count": 7,
   "id": "3ddf7dce",
   "metadata": {},
   "outputs": [],
   "source": [
    "\n",
    "x = linspace(-2*pi, 2*pi, 400)\n",
    "y = sin(x)\n",
    "y2 = cos(x)\n",
    "\n",
    "source = ColumnDataSource(data=dict(x=x, y=y, y2=y2))\n",
    "\n",
    "xdr = DataRange1d()\n",
    "ydr = DataRange1d()\n"
   ]
  },
  {
   "cell_type": "code",
   "execution_count": 8,
   "id": "3677816d",
   "metadata": {},
   "outputs": [],
   "source": [
    "\n",
    "plot = Plot(\n",
    "    x_range=xdr,\n",
    "    y_range=ydr,\n",
    "    width=1000,\n",
    "    height=1000,\n",
    "    min_border=0,\n",
    "    toolbar_location=None,\n",
    "    background_fill_color=\"#F0F0F0\",\n",
    "    border_fill_color=\"lightgray\",\n",
    ")\n",
    "\n",
    "line_glyph = Line(x=\"x\", y=\"y\", line_color=\"navy\", line_width=2, line_dash=\"dashed\")\n",
    "line = plot.add_glyph(source, line_glyph)\n",
    "circle = Scatter(x=\"x\", y=\"y2\", size=6, line_color=\"red\", fill_color=\"orange\", fill_alpha=0.6)\n",
    "circle = plot.add_glyph(source, circle)\n",
    "\n",
    "pan = PanTool()\n",
    "wheel_zoom = WheelZoomTool()\n",
    "preview_save = SaveTool()\n",
    "\n",
    "plot.add_tools(pan, wheel_zoom, preview_save)\n",
    "\n",
    "# Add axes (Note it's important to add these before adding legends in side panels)\n",
    "plot.add_layout(LinearAxis(), \"below\")\n",
    "plot.add_layout(LinearAxis(), \"left\")\n",
    "plot.add_layout(LinearAxis(), \"right\")\n",
    "\n"
   ]
  },
  {
   "cell_type": "code",
   "execution_count": 9,
   "id": "0e4722d2",
   "metadata": {},
   "outputs": [],
   "source": [
    "Value_1=100\n",
    "Value_2=200"
   ]
  },
  {
   "cell_type": "code",
   "execution_count": 10,
   "id": "17b8b78b",
   "metadata": {},
   "outputs": [],
   "source": [
    "def add_legend(location, orientation, side,Number1,Number2,background_fill_color=\"#FFFFFF\"):\n",
    "    legend = Legend(\n",
    "        items=[(\"line\", [line])],#, (\"circle\", [circle])],\n",
    "        location=location,\n",
    "        orientation=orientation,\n",
    "        border_line_color=\"black\",\n",
    "        background_fill_color=background_fill_color,\n",
    "        title=f\"Legend at\\n{Number1!r}\\n{orientation!r}\\n{Number2!r}\",\n",
    "    )\n",
    "    plot.add_layout(legend, side)\n",
    "\n",
    "# Add legends in names positions e.g. \"top_right\", \"top_left\" (see plot for all)\n",
    "#for location in LegendLocation:\n",
    "#    # redundant positions get a different background color and a vertical orientation to show ambiguity\n",
    "#    if \"_\" not in location:\n",
    "#        background_fill_color = \"#999999\"\n",
    "#        orientation = \"vertical\"\n",
    "#    else:\n",
    "#        background_fill_color =\"#CCCCCC\"\n",
    "#        orientation = \"horizontal\"\n",
    "#    add_legend(location, orientation, \"center\", background_fill_color=background_fill_color)\n",
    "\n",
    "# Add legend at fixed positions\n",
    "#add_legend((150, 50), \"horizontal\", \"center\")\n",
    "\n",
    "# Add legend in side panels\n",
    "#add_legend(\"center_left\", \"horizontal\", \"above\")\n",
    "#add_legend(\"center\", \"horizontal\", \"below\")\n",
    "#add_legend(\"center\", \"vertical\", \"left\")\n",
    "add_legend(\"bottom_center\", \"vertical\", \"right\",Value_1,Value_2)\n",
    "\n"
   ]
  },
  {
   "cell_type": "code",
   "execution_count": 11,
   "id": "37592bb0",
   "metadata": {},
   "outputs": [],
   "source": [
    "show(plot)"
   ]
  },
  {
   "cell_type": "code",
   "execution_count": null,
   "id": "dfe4ee9c",
   "metadata": {},
   "outputs": [],
   "source": []
  }
 ],
 "metadata": {
  "kernelspec": {
   "display_name": "Python 3 (ipykernel)",
   "language": "python",
   "name": "python3"
  },
  "language_info": {
   "codemirror_mode": {
    "name": "ipython",
    "version": 3
   },
   "file_extension": ".py",
   "mimetype": "text/x-python",
   "name": "python",
   "nbconvert_exporter": "python",
   "pygments_lexer": "ipython3",
   "version": "3.10.1"
  },
  "toc": {
   "base_numbering": 1,
   "nav_menu": {},
   "number_sections": true,
   "sideBar": true,
   "skip_h1_title": false,
   "title_cell": "Table of Contents",
   "title_sidebar": "Contents",
   "toc_cell": false,
   "toc_position": {},
   "toc_section_display": true,
   "toc_window_display": false
  }
 },
 "nbformat": 4,
 "nbformat_minor": 5
}
