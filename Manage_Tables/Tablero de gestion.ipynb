{
 "cells": [
  {
   "cell_type": "markdown",
   "id": "519fe8b2",
   "metadata": {},
   "source": [
    "# Importacion de librerias"
   ]
  },
  {
   "cell_type": "code",
   "execution_count": 1,
   "id": "c81bc3fe",
   "metadata": {},
   "outputs": [],
   "source": [
    "from bokeh.io import output_notebook,show\n",
    "from bokeh.plotting import figure\n",
    "import pandas as pd\n",
    "import numpy as np\n",
    "import datetime as dt"
   ]
  },
  {
   "cell_type": "code",
   "execution_count": 2,
   "id": "c0470d88",
   "metadata": {},
   "outputs": [],
   "source": [
    "import Local_funtion as Lf"
   ]
  },
  {
   "cell_type": "markdown",
   "id": "41e8ef12",
   "metadata": {
    "heading_collapsed": true
   },
   "source": [
    "# Importación de datos"
   ]
  },
  {
   "cell_type": "code",
   "execution_count": 3,
   "id": "0eb8765c",
   "metadata": {
    "hidden": true
   },
   "outputs": [],
   "source": [
    "#import bokeh.sampledata\n",
    "#bokeh.sampledata.download()"
   ]
  },
  {
   "cell_type": "code",
   "execution_count": 4,
   "id": "9c3a4507",
   "metadata": {
    "hidden": true
   },
   "outputs": [],
   "source": [
    "children_violenc=pd.read_csv('C:/Users/ferna/Documents/Green Belt/Tableros de gestion/Datasets/childrens_violence new.csv')\n",
    "Only_Foods=pd.read_csv('C:/Users/ferna/Documents/Green Belt/Tableros de gestion/Datasets/onlinefoods.csv')\n"
   ]
  },
  {
   "cell_type": "code",
   "execution_count": 5,
   "id": "a16e7941",
   "metadata": {
    "hidden": true
   },
   "outputs": [],
   "source": [
    "Violencia_niños_años=children_violenc.groupby(['Year'])['Childrens Violent Discipline Rate\\n\\n\\n\\n\\n\\n'].sum()\n",
    "Violencia_niños_años_R=Violencia_niños_años.reset_index()\n",
    "#Violencia_niños_años_R"
   ]
  },
  {
   "cell_type": "code",
   "execution_count": 6,
   "id": "4ec05169",
   "metadata": {
    "hidden": true
   },
   "outputs": [
    {
     "data": {
      "text/html": [
       "<div>\n",
       "<style scoped>\n",
       "    .dataframe tbody tr th:only-of-type {\n",
       "        vertical-align: middle;\n",
       "    }\n",
       "\n",
       "    .dataframe tbody tr th {\n",
       "        vertical-align: top;\n",
       "    }\n",
       "\n",
       "    .dataframe thead th {\n",
       "        text-align: right;\n",
       "    }\n",
       "</style>\n",
       "<table border=\"1\" class=\"dataframe\">\n",
       "  <thead>\n",
       "    <tr style=\"text-align: right;\">\n",
       "      <th></th>\n",
       "      <th>Age</th>\n",
       "      <th>Gender</th>\n",
       "      <th>Marital Status</th>\n",
       "      <th>Occupation</th>\n",
       "      <th>Monthly Income</th>\n",
       "      <th>Educational Qualifications</th>\n",
       "      <th>Family size</th>\n",
       "      <th>latitude</th>\n",
       "      <th>longitude</th>\n",
       "      <th>Pin code</th>\n",
       "      <th>Output</th>\n",
       "      <th>Feedback</th>\n",
       "      <th>Unnamed: 12</th>\n",
       "    </tr>\n",
       "  </thead>\n",
       "  <tbody>\n",
       "    <tr>\n",
       "      <th>0</th>\n",
       "      <td>20</td>\n",
       "      <td>Female</td>\n",
       "      <td>Single</td>\n",
       "      <td>Student</td>\n",
       "      <td>No Income</td>\n",
       "      <td>Post Graduate</td>\n",
       "      <td>4</td>\n",
       "      <td>12.9766</td>\n",
       "      <td>77.5993</td>\n",
       "      <td>560001</td>\n",
       "      <td>Yes</td>\n",
       "      <td>Positive</td>\n",
       "      <td>Yes</td>\n",
       "    </tr>\n",
       "    <tr>\n",
       "      <th>1</th>\n",
       "      <td>24</td>\n",
       "      <td>Female</td>\n",
       "      <td>Single</td>\n",
       "      <td>Student</td>\n",
       "      <td>Below Rs.10000</td>\n",
       "      <td>Graduate</td>\n",
       "      <td>3</td>\n",
       "      <td>12.9770</td>\n",
       "      <td>77.5773</td>\n",
       "      <td>560009</td>\n",
       "      <td>Yes</td>\n",
       "      <td>Positive</td>\n",
       "      <td>Yes</td>\n",
       "    </tr>\n",
       "    <tr>\n",
       "      <th>2</th>\n",
       "      <td>22</td>\n",
       "      <td>Male</td>\n",
       "      <td>Single</td>\n",
       "      <td>Student</td>\n",
       "      <td>Below Rs.10000</td>\n",
       "      <td>Post Graduate</td>\n",
       "      <td>3</td>\n",
       "      <td>12.9551</td>\n",
       "      <td>77.6593</td>\n",
       "      <td>560017</td>\n",
       "      <td>Yes</td>\n",
       "      <td>Negative</td>\n",
       "      <td>Yes</td>\n",
       "    </tr>\n",
       "    <tr>\n",
       "      <th>3</th>\n",
       "      <td>22</td>\n",
       "      <td>Female</td>\n",
       "      <td>Single</td>\n",
       "      <td>Student</td>\n",
       "      <td>No Income</td>\n",
       "      <td>Graduate</td>\n",
       "      <td>6</td>\n",
       "      <td>12.9473</td>\n",
       "      <td>77.5616</td>\n",
       "      <td>560019</td>\n",
       "      <td>Yes</td>\n",
       "      <td>Positive</td>\n",
       "      <td>Yes</td>\n",
       "    </tr>\n",
       "    <tr>\n",
       "      <th>4</th>\n",
       "      <td>22</td>\n",
       "      <td>Male</td>\n",
       "      <td>Single</td>\n",
       "      <td>Student</td>\n",
       "      <td>Below Rs.10000</td>\n",
       "      <td>Post Graduate</td>\n",
       "      <td>4</td>\n",
       "      <td>12.9850</td>\n",
       "      <td>77.5533</td>\n",
       "      <td>560010</td>\n",
       "      <td>Yes</td>\n",
       "      <td>Positive</td>\n",
       "      <td>Yes</td>\n",
       "    </tr>\n",
       "    <tr>\n",
       "      <th>...</th>\n",
       "      <td>...</td>\n",
       "      <td>...</td>\n",
       "      <td>...</td>\n",
       "      <td>...</td>\n",
       "      <td>...</td>\n",
       "      <td>...</td>\n",
       "      <td>...</td>\n",
       "      <td>...</td>\n",
       "      <td>...</td>\n",
       "      <td>...</td>\n",
       "      <td>...</td>\n",
       "      <td>...</td>\n",
       "      <td>...</td>\n",
       "    </tr>\n",
       "    <tr>\n",
       "      <th>383</th>\n",
       "      <td>23</td>\n",
       "      <td>Female</td>\n",
       "      <td>Single</td>\n",
       "      <td>Student</td>\n",
       "      <td>No Income</td>\n",
       "      <td>Post Graduate</td>\n",
       "      <td>2</td>\n",
       "      <td>12.9766</td>\n",
       "      <td>77.5993</td>\n",
       "      <td>560001</td>\n",
       "      <td>Yes</td>\n",
       "      <td>Positive</td>\n",
       "      <td>Yes</td>\n",
       "    </tr>\n",
       "    <tr>\n",
       "      <th>384</th>\n",
       "      <td>23</td>\n",
       "      <td>Female</td>\n",
       "      <td>Single</td>\n",
       "      <td>Student</td>\n",
       "      <td>No Income</td>\n",
       "      <td>Post Graduate</td>\n",
       "      <td>4</td>\n",
       "      <td>12.9854</td>\n",
       "      <td>77.7081</td>\n",
       "      <td>560048</td>\n",
       "      <td>Yes</td>\n",
       "      <td>Positive</td>\n",
       "      <td>Yes</td>\n",
       "    </tr>\n",
       "    <tr>\n",
       "      <th>385</th>\n",
       "      <td>22</td>\n",
       "      <td>Female</td>\n",
       "      <td>Single</td>\n",
       "      <td>Student</td>\n",
       "      <td>No Income</td>\n",
       "      <td>Post Graduate</td>\n",
       "      <td>5</td>\n",
       "      <td>12.9850</td>\n",
       "      <td>77.5533</td>\n",
       "      <td>560010</td>\n",
       "      <td>Yes</td>\n",
       "      <td>Positive</td>\n",
       "      <td>Yes</td>\n",
       "    </tr>\n",
       "    <tr>\n",
       "      <th>386</th>\n",
       "      <td>23</td>\n",
       "      <td>Male</td>\n",
       "      <td>Single</td>\n",
       "      <td>Student</td>\n",
       "      <td>Below Rs.10000</td>\n",
       "      <td>Post Graduate</td>\n",
       "      <td>2</td>\n",
       "      <td>12.9770</td>\n",
       "      <td>77.5773</td>\n",
       "      <td>560009</td>\n",
       "      <td>Yes</td>\n",
       "      <td>Positive</td>\n",
       "      <td>Yes</td>\n",
       "    </tr>\n",
       "    <tr>\n",
       "      <th>387</th>\n",
       "      <td>23</td>\n",
       "      <td>Male</td>\n",
       "      <td>Single</td>\n",
       "      <td>Student</td>\n",
       "      <td>No Income</td>\n",
       "      <td>Post Graduate</td>\n",
       "      <td>5</td>\n",
       "      <td>12.8988</td>\n",
       "      <td>77.5764</td>\n",
       "      <td>560078</td>\n",
       "      <td>Yes</td>\n",
       "      <td>Positive</td>\n",
       "      <td>Yes</td>\n",
       "    </tr>\n",
       "  </tbody>\n",
       "</table>\n",
       "<p>388 rows × 13 columns</p>\n",
       "</div>"
      ],
      "text/plain": [
       "     Age  Gender Marital Status Occupation  Monthly Income  \\\n",
       "0     20  Female         Single    Student       No Income   \n",
       "1     24  Female         Single    Student  Below Rs.10000   \n",
       "2     22    Male         Single    Student  Below Rs.10000   \n",
       "3     22  Female         Single    Student       No Income   \n",
       "4     22    Male         Single    Student  Below Rs.10000   \n",
       "..   ...     ...            ...        ...             ...   \n",
       "383   23  Female         Single    Student       No Income   \n",
       "384   23  Female         Single    Student       No Income   \n",
       "385   22  Female         Single    Student       No Income   \n",
       "386   23    Male         Single    Student  Below Rs.10000   \n",
       "387   23    Male         Single    Student       No Income   \n",
       "\n",
       "    Educational Qualifications  Family size  latitude  longitude  Pin code  \\\n",
       "0                Post Graduate            4   12.9766    77.5993    560001   \n",
       "1                     Graduate            3   12.9770    77.5773    560009   \n",
       "2                Post Graduate            3   12.9551    77.6593    560017   \n",
       "3                     Graduate            6   12.9473    77.5616    560019   \n",
       "4                Post Graduate            4   12.9850    77.5533    560010   \n",
       "..                         ...          ...       ...        ...       ...   \n",
       "383              Post Graduate            2   12.9766    77.5993    560001   \n",
       "384              Post Graduate            4   12.9854    77.7081    560048   \n",
       "385              Post Graduate            5   12.9850    77.5533    560010   \n",
       "386              Post Graduate            2   12.9770    77.5773    560009   \n",
       "387              Post Graduate            5   12.8988    77.5764    560078   \n",
       "\n",
       "    Output   Feedback Unnamed: 12  \n",
       "0      Yes   Positive         Yes  \n",
       "1      Yes   Positive         Yes  \n",
       "2      Yes  Negative          Yes  \n",
       "3      Yes   Positive         Yes  \n",
       "4      Yes   Positive         Yes  \n",
       "..     ...        ...         ...  \n",
       "383    Yes   Positive         Yes  \n",
       "384    Yes   Positive         Yes  \n",
       "385    Yes   Positive         Yes  \n",
       "386    Yes   Positive         Yes  \n",
       "387    Yes   Positive         Yes  \n",
       "\n",
       "[388 rows x 13 columns]"
      ]
     },
     "execution_count": 6,
     "metadata": {},
     "output_type": "execute_result"
    }
   ],
   "source": [
    "Only_Foods"
   ]
  },
  {
   "cell_type": "markdown",
   "id": "0403fe54",
   "metadata": {
    "heading_collapsed": true
   },
   "source": [
    "# Prueba de graficos"
   ]
  },
  {
   "cell_type": "markdown",
   "id": "3f5258fd",
   "metadata": {
    "heading_collapsed": true,
    "hidden": true
   },
   "source": [
    "## Grafico de linea"
   ]
  },
  {
   "cell_type": "code",
   "execution_count": 7,
   "id": "2089a209",
   "metadata": {
    "hidden": true
   },
   "outputs": [],
   "source": [
    "p=figure()\n",
    "p.line(children_violenc['Year'],children_violenc['Childrens Violent Discipline Rate\\n\\n\\n\\n\\n\\n'])\n",
    "p.yaxis.axis_label='Rate'\n",
    "show(p)"
   ]
  },
  {
   "cell_type": "markdown",
   "id": "63193bd7",
   "metadata": {
    "heading_collapsed": true,
    "hidden": true
   },
   "source": [
    "## Grafico de Circulos"
   ]
  },
  {
   "cell_type": "code",
   "execution_count": 8,
   "id": "a7c1e14e",
   "metadata": {
    "hidden": true
   },
   "outputs": [],
   "source": [
    "p=figure(plot_width=800,plot_height=400)\n",
    "p.circle(Violencia_niños_años_R['Year'],\n",
    "         Violencia_niños_años_R['Childrens Violent Discipline Rate\\n\\n\\n\\n\\n\\n'],\n",
    "        size=10,line_color='navy',fill_color='orange',fill_alpha=0.9)\n",
    "show(p)"
   ]
  },
  {
   "cell_type": "markdown",
   "id": "f5091919",
   "metadata": {
    "heading_collapsed": true,
    "hidden": true
   },
   "source": [
    "## Grafico de cuadros"
   ]
  },
  {
   "cell_type": "code",
   "execution_count": 9,
   "id": "e402ada9",
   "metadata": {
    "hidden": true
   },
   "outputs": [],
   "source": [
    "p=figure(plot_width=800,plot_height=400)\n",
    "p.square(children_violenc['Year'],\n",
    "         children_violenc['Childrens Violent Discipline Rate\\n\\n\\n\\n\\n\\n'],\n",
    "         size=children_violenc['Childrens Violent Discipline Rate\\n\\n\\n\\n\\n\\n'],color='firebrick',alpha=0.6)\n",
    "show(p)"
   ]
  },
  {
   "cell_type": "markdown",
   "id": "9ccf7fbc",
   "metadata": {
    "heading_collapsed": true,
    "hidden": true
   },
   "source": [
    "## Histograma"
   ]
  },
  {
   "cell_type": "code",
   "execution_count": 10,
   "id": "af25a444",
   "metadata": {
    "hidden": true
   },
   "outputs": [],
   "source": [
    "#Para realizar el histograma nos apoyaremos de numpy.\n",
    "q=figure(plot_width=800,plot_height=400)\n",
    "hist,edges=np.histogram(Only_Foods['longitude'],density=True,bins=20)\n",
    "q.quad(top=hist,bottom=0,left=edges[:-1],right=edges[1:],\n",
    "      fill_color='skyblue',line_color='white',legend_label='latitud')\n",
    "show(q)"
   ]
  },
  {
   "cell_type": "markdown",
   "id": "a560adef",
   "metadata": {},
   "source": [
    "# Ejercicio practico con data sets de Bokeh"
   ]
  },
  {
   "cell_type": "code",
   "execution_count": 3,
   "id": "42c7d7ec",
   "metadata": {},
   "outputs": [],
   "source": [
    "from bokeh.sampledata.glucose import data"
   ]
  },
  {
   "cell_type": "markdown",
   "id": "45050eac",
   "metadata": {},
   "source": [
    "# Cleaning data"
   ]
  },
  {
   "cell_type": "code",
   "execution_count": 4,
   "id": "72790a4b",
   "metadata": {},
   "outputs": [
    {
     "name": "stdout",
     "output_type": "stream",
     "text": [
      "<class 'pandas.core.frame.DataFrame'>\n",
      "DatetimeIndex: 52281 entries, 2010-03-24 09:51:00 to 2010-10-10 23:57:00\n",
      "Data columns (total 2 columns):\n",
      " #   Column   Non-Null Count  Dtype \n",
      "---  ------   --------------  ----- \n",
      " 0   isig     52281 non-null  object\n",
      " 1   glucose  52281 non-null  int64 \n",
      "dtypes: int64(1), object(1)\n",
      "memory usage: 1.2+ MB\n"
     ]
    }
   ],
   "source": [
    "#Is important to know what kind of data we have\n",
    "data.info()"
   ]
  },
  {
   "cell_type": "code",
   "execution_count": 5,
   "id": "b3aab6db",
   "metadata": {},
   "outputs": [],
   "source": [
    "# For good practice is correct copy the data set, for modify the copy, and don´t touch the original data_set\n",
    "data_glucose=data.copy()\n",
    "\n",
    "#We have a problem, the problem is that we have one column, with string, and we want float data\n",
    "#For this reason we create a function that can covert isig column in float data.\n",
    "def convert_in_number(data_value):\n",
    "    try: \n",
    "        data_value=float(data_value)\n",
    "        return data_value\n",
    "    except:\n",
    "        data_value=0\n",
    "        return data_value\n",
    "data_glucose['isig_value']=data_glucose['isig'].apply(convert_in_number)"
   ]
  },
  {
   "cell_type": "code",
   "execution_count": 6,
   "id": "2d041716",
   "metadata": {},
   "outputs": [
    {
     "data": {
      "text/html": [
       "<div>\n",
       "<style scoped>\n",
       "    .dataframe tbody tr th:only-of-type {\n",
       "        vertical-align: middle;\n",
       "    }\n",
       "\n",
       "    .dataframe tbody tr th {\n",
       "        vertical-align: top;\n",
       "    }\n",
       "\n",
       "    .dataframe thead th {\n",
       "        text-align: right;\n",
       "    }\n",
       "</style>\n",
       "<table border=\"1\" class=\"dataframe\">\n",
       "  <thead>\n",
       "    <tr style=\"text-align: right;\">\n",
       "      <th></th>\n",
       "      <th>datetime</th>\n",
       "      <th>isig</th>\n",
       "      <th>glucose</th>\n",
       "      <th>isig_value</th>\n",
       "    </tr>\n",
       "  </thead>\n",
       "  <tbody>\n",
       "    <tr>\n",
       "      <th>0</th>\n",
       "      <td>2010-03-24 09:51:00</td>\n",
       "      <td>22.59</td>\n",
       "      <td>258</td>\n",
       "      <td>22.59</td>\n",
       "    </tr>\n",
       "    <tr>\n",
       "      <th>1</th>\n",
       "      <td>2010-03-24 09:56:00</td>\n",
       "      <td>22.52</td>\n",
       "      <td>260</td>\n",
       "      <td>22.52</td>\n",
       "    </tr>\n",
       "    <tr>\n",
       "      <th>2</th>\n",
       "      <td>2010-03-24 10:01:00</td>\n",
       "      <td>22.23</td>\n",
       "      <td>258</td>\n",
       "      <td>22.23</td>\n",
       "    </tr>\n",
       "    <tr>\n",
       "      <th>3</th>\n",
       "      <td>2010-03-24 10:06:00</td>\n",
       "      <td>21.56</td>\n",
       "      <td>254</td>\n",
       "      <td>21.56</td>\n",
       "    </tr>\n",
       "    <tr>\n",
       "      <th>4</th>\n",
       "      <td>2010-03-24 10:11:00</td>\n",
       "      <td>20.79</td>\n",
       "      <td>246</td>\n",
       "      <td>20.79</td>\n",
       "    </tr>\n",
       "  </tbody>\n",
       "</table>\n",
       "</div>"
      ],
      "text/plain": [
       "             datetime   isig  glucose  isig_value\n",
       "0 2010-03-24 09:51:00  22.59      258       22.59\n",
       "1 2010-03-24 09:56:00  22.52      260       22.52\n",
       "2 2010-03-24 10:01:00  22.23      258       22.23\n",
       "3 2010-03-24 10:06:00  21.56      254       21.56\n",
       "4 2010-03-24 10:11:00  20.79      246       20.79"
      ]
     },
     "execution_count": 6,
     "metadata": {},
     "output_type": "execute_result"
    }
   ],
   "source": [
    "# reseteando el indice para poder aplicar las funcion apply scalar\n",
    "data_glucose=data_glucose.reset_index()\n",
    "data_glucose.head()"
   ]
  },
  {
   "cell_type": "code",
   "execution_count": 7,
   "id": "84ff54cf",
   "metadata": {},
   "outputs": [],
   "source": [
    "#Desglosando el HXH.\n",
    "data_hxh=Lf.apply_scalars(data_glucose,timestamp_col='datetime',hxh=True)\n"
   ]
  },
  {
   "cell_type": "code",
   "execution_count": 8,
   "id": "700b337b",
   "metadata": {},
   "outputs": [
    {
     "name": "stdout",
     "output_type": "stream",
     "text": [
      "<class 'pandas.core.frame.DataFrame'>\n",
      "DatetimeIndex: 52281 entries, 2010-03-24 09:51:00 to 2010-10-10 23:57:00\n",
      "Data columns (total 6 columns):\n",
      " #   Column      Non-Null Count  Dtype         \n",
      "---  ------      --------------  -----         \n",
      " 0   isig        52281 non-null  object        \n",
      " 1   glucose     52281 non-null  int64         \n",
      " 2   isig_value  52281 non-null  float64       \n",
      " 3   HXH         52281 non-null  object        \n",
      " 4   SHIFT       52281 non-null  object        \n",
      " 5   DATE        52281 non-null  datetime64[ns]\n",
      "dtypes: datetime64[ns](1), float64(1), int64(1), object(3)\n",
      "memory usage: 2.8+ MB\n"
     ]
    }
   ],
   "source": [
    "#Reseteando la data, ahora con las columnas que necesitamos para el analisis\n",
    "data_hxh=data_hxh.set_index('datetime')\n",
    "data_hxh['DATE']=pd.to_datetime(data_hxh['DATE'])\n",
    "data_hxh.info()"
   ]
  },
  {
   "cell_type": "code",
   "execution_count": 11,
   "id": "db44ba6c",
   "metadata": {},
   "outputs": [
    {
     "data": {
      "text/html": [
       "<div>\n",
       "<style scoped>\n",
       "    .dataframe tbody tr th:only-of-type {\n",
       "        vertical-align: middle;\n",
       "    }\n",
       "\n",
       "    .dataframe tbody tr th {\n",
       "        vertical-align: top;\n",
       "    }\n",
       "\n",
       "    .dataframe thead th {\n",
       "        text-align: right;\n",
       "    }\n",
       "</style>\n",
       "<table border=\"1\" class=\"dataframe\">\n",
       "  <thead>\n",
       "    <tr style=\"text-align: right;\">\n",
       "      <th></th>\n",
       "      <th>isig</th>\n",
       "      <th>glucose</th>\n",
       "      <th>isig_value</th>\n",
       "      <th>HXH</th>\n",
       "      <th>SHIFT</th>\n",
       "      <th>DATE</th>\n",
       "    </tr>\n",
       "    <tr>\n",
       "      <th>datetime</th>\n",
       "      <th></th>\n",
       "      <th></th>\n",
       "      <th></th>\n",
       "      <th></th>\n",
       "      <th></th>\n",
       "      <th></th>\n",
       "    </tr>\n",
       "  </thead>\n",
       "  <tbody>\n",
       "    <tr>\n",
       "      <th>2010-04-06 00:24:00</th>\n",
       "      <td>8.18</td>\n",
       "      <td>50</td>\n",
       "      <td>8.18</td>\n",
       "      <td>23.5 - 00.5</td>\n",
       "      <td>3</td>\n",
       "      <td>2010-04-05</td>\n",
       "    </tr>\n",
       "    <tr>\n",
       "      <th>2010-04-06 00:29:00</th>\n",
       "      <td>8.11</td>\n",
       "      <td>48</td>\n",
       "      <td>8.11</td>\n",
       "      <td>23.5 - 00.5</td>\n",
       "      <td>3</td>\n",
       "      <td>2010-04-05</td>\n",
       "    </tr>\n",
       "    <tr>\n",
       "      <th>2010-04-06 00:34:00</th>\n",
       "      <td>7.97</td>\n",
       "      <td>48</td>\n",
       "      <td>7.97</td>\n",
       "      <td>00.5 - 01.5</td>\n",
       "      <td>3</td>\n",
       "      <td>2010-04-05</td>\n",
       "    </tr>\n",
       "    <tr>\n",
       "      <th>2010-04-06 00:39:00</th>\n",
       "      <td>7.94</td>\n",
       "      <td>48</td>\n",
       "      <td>7.94</td>\n",
       "      <td>00.5 - 01.5</td>\n",
       "      <td>3</td>\n",
       "      <td>2010-04-05</td>\n",
       "    </tr>\n",
       "    <tr>\n",
       "      <th>2010-04-06 00:44:00</th>\n",
       "      <td>8.02</td>\n",
       "      <td>48</td>\n",
       "      <td>8.02</td>\n",
       "      <td>00.5 - 01.5</td>\n",
       "      <td>3</td>\n",
       "      <td>2010-04-05</td>\n",
       "    </tr>\n",
       "    <tr>\n",
       "      <th>...</th>\n",
       "      <td>...</td>\n",
       "      <td>...</td>\n",
       "      <td>...</td>\n",
       "      <td>...</td>\n",
       "      <td>...</td>\n",
       "      <td>...</td>\n",
       "    </tr>\n",
       "    <tr>\n",
       "      <th>2010-05-03 23:36:00</th>\n",
       "      <td>13.74</td>\n",
       "      <td>102</td>\n",
       "      <td>13.74</td>\n",
       "      <td>23.5 - 00.5</td>\n",
       "      <td>3</td>\n",
       "      <td>2010-05-03</td>\n",
       "    </tr>\n",
       "    <tr>\n",
       "      <th>2010-05-03 23:41:00</th>\n",
       "      <td>13.87</td>\n",
       "      <td>102</td>\n",
       "      <td>13.87</td>\n",
       "      <td>23.5 - 00.5</td>\n",
       "      <td>3</td>\n",
       "      <td>2010-05-03</td>\n",
       "    </tr>\n",
       "    <tr>\n",
       "      <th>2010-05-03 23:46:00</th>\n",
       "      <td>13.95</td>\n",
       "      <td>102</td>\n",
       "      <td>13.95</td>\n",
       "      <td>23.5 - 00.5</td>\n",
       "      <td>3</td>\n",
       "      <td>2010-05-03</td>\n",
       "    </tr>\n",
       "    <tr>\n",
       "      <th>2010-05-03 23:51:00</th>\n",
       "      <td>13.96</td>\n",
       "      <td>104</td>\n",
       "      <td>13.96</td>\n",
       "      <td>23.5 - 00.5</td>\n",
       "      <td>3</td>\n",
       "      <td>2010-05-03</td>\n",
       "    </tr>\n",
       "    <tr>\n",
       "      <th>2010-05-03 23:56:00</th>\n",
       "      <td>13.96</td>\n",
       "      <td>104</td>\n",
       "      <td>13.96</td>\n",
       "      <td>23.5 - 00.5</td>\n",
       "      <td>3</td>\n",
       "      <td>2010-05-03</td>\n",
       "    </tr>\n",
       "  </tbody>\n",
       "</table>\n",
       "<p>6947 rows × 6 columns</p>\n",
       "</div>"
      ],
      "text/plain": [
       "                      isig  glucose  isig_value          HXH SHIFT       DATE\n",
       "datetime                                                                     \n",
       "2010-04-06 00:24:00   8.18       50        8.18  23.5 - 00.5     3 2010-04-05\n",
       "2010-04-06 00:29:00   8.11       48        8.11  23.5 - 00.5     3 2010-04-05\n",
       "2010-04-06 00:34:00   7.97       48        7.97  00.5 - 01.5     3 2010-04-05\n",
       "2010-04-06 00:39:00   7.94       48        7.94  00.5 - 01.5     3 2010-04-05\n",
       "2010-04-06 00:44:00   8.02       48        8.02  00.5 - 01.5     3 2010-04-05\n",
       "...                    ...      ...         ...          ...   ...        ...\n",
       "2010-05-03 23:36:00  13.74      102       13.74  23.5 - 00.5     3 2010-05-03\n",
       "2010-05-03 23:41:00  13.87      102       13.87  23.5 - 00.5     3 2010-05-03\n",
       "2010-05-03 23:46:00  13.95      102       13.95  23.5 - 00.5     3 2010-05-03\n",
       "2010-05-03 23:51:00  13.96      104       13.96  23.5 - 00.5     3 2010-05-03\n",
       "2010-05-03 23:56:00  13.96      104       13.96  23.5 - 00.5     3 2010-05-03\n",
       "\n",
       "[6947 rows x 6 columns]"
      ]
     },
     "execution_count": 11,
     "metadata": {},
     "output_type": "execute_result"
    }
   ],
   "source": [
    "#Agrupando a la tabla por semana\n",
    "WEEK_DATE=data_hxh.loc['2010-04-06':'2010-05-03']\n",
    "WEEK_DATE\n",
    "#table_order_by_date_G=WEEK_DATE.groupby(['DATE'])['glucose'].mean().reset_index()\n",
    "#table_order_by_date_G.info()\n"
   ]
  },
  {
   "cell_type": "code",
   "execution_count": 129,
   "id": "67fb6a2d",
   "metadata": {},
   "outputs": [
    {
     "data": {
      "text/html": [
       "<div>\n",
       "<style scoped>\n",
       "    .dataframe tbody tr th:only-of-type {\n",
       "        vertical-align: middle;\n",
       "    }\n",
       "\n",
       "    .dataframe tbody tr th {\n",
       "        vertical-align: top;\n",
       "    }\n",
       "\n",
       "    .dataframe thead th {\n",
       "        text-align: right;\n",
       "    }\n",
       "</style>\n",
       "<table border=\"1\" class=\"dataframe\">\n",
       "  <thead>\n",
       "    <tr style=\"text-align: right;\">\n",
       "      <th></th>\n",
       "      <th>DATE</th>\n",
       "      <th>glucose</th>\n",
       "    </tr>\n",
       "  </thead>\n",
       "  <tbody>\n",
       "    <tr>\n",
       "      <th>0</th>\n",
       "      <td>2010-01-04</td>\n",
       "      <td>109.023256</td>\n",
       "    </tr>\n",
       "    <tr>\n",
       "      <th>1</th>\n",
       "      <td>2010-03-24</td>\n",
       "      <td>134.818182</td>\n",
       "    </tr>\n",
       "    <tr>\n",
       "      <th>2</th>\n",
       "      <td>2010-03-25</td>\n",
       "      <td>132.090278</td>\n",
       "    </tr>\n",
       "    <tr>\n",
       "      <th>3</th>\n",
       "      <td>2010-03-26</td>\n",
       "      <td>106.666667</td>\n",
       "    </tr>\n",
       "    <tr>\n",
       "      <th>4</th>\n",
       "      <td>2010-03-27</td>\n",
       "      <td>150.925926</td>\n",
       "    </tr>\n",
       "    <tr>\n",
       "      <th>5</th>\n",
       "      <td>2010-03-28</td>\n",
       "      <td>102.743056</td>\n",
       "    </tr>\n",
       "    <tr>\n",
       "      <th>6</th>\n",
       "      <td>2010-03-29</td>\n",
       "      <td>153.032787</td>\n",
       "    </tr>\n",
       "    <tr>\n",
       "      <th>7</th>\n",
       "      <td>2010-03-30</td>\n",
       "      <td>143.768421</td>\n",
       "    </tr>\n",
       "    <tr>\n",
       "      <th>8</th>\n",
       "      <td>2010-03-31</td>\n",
       "      <td>157.584906</td>\n",
       "    </tr>\n",
       "  </tbody>\n",
       "</table>\n",
       "</div>"
      ],
      "text/plain": [
       "        DATE     glucose\n",
       "0 2010-01-04  109.023256\n",
       "1 2010-03-24  134.818182\n",
       "2 2010-03-25  132.090278\n",
       "3 2010-03-26  106.666667\n",
       "4 2010-03-27  150.925926\n",
       "5 2010-03-28  102.743056\n",
       "6 2010-03-29  153.032787\n",
       "7 2010-03-30  143.768421\n",
       "8 2010-03-31  157.584906"
      ]
     },
     "execution_count": 129,
     "metadata": {},
     "output_type": "execute_result"
    }
   ],
   "source": [
    "table_order_by_date_G['DATE']=pd.to_datetime(table_order_by_date_G['DATE'],format='%Y-%m-%d')\n",
    "table_order_by_date_G"
   ]
  },
  {
   "cell_type": "code",
   "execution_count": 128,
   "id": "48e24873",
   "metadata": {},
   "outputs": [],
   "source": [
    "# Para graficar con Date times es importante indicarle el tipo de eje a la figura\n",
    "p=figure(x_axis_type='datetime',title='Glucose',plot_width=800,plot_height=400)\n",
    "p.xgrid.grid_line_color=None\n",
    "p.ygrid.grid_line_alpha=0.7\n",
    "p.xaxis.axis_label='time'\n",
    "p.yaxis.axis_label='leavel glucose'\n",
    "p.line(table_order_by_date_G.DATE,table_order_by_date_G.glucose)\n",
    "show(p)"
   ]
  },
  {
   "cell_type": "code",
   "execution_count": null,
   "id": "dbcb188b",
   "metadata": {},
   "outputs": [],
   "source": []
  }
 ],
 "metadata": {
  "kernelspec": {
   "display_name": "Python 3 (ipykernel)",
   "language": "python",
   "name": "python3"
  },
  "language_info": {
   "codemirror_mode": {
    "name": "ipython",
    "version": 3
   },
   "file_extension": ".py",
   "mimetype": "text/x-python",
   "name": "python",
   "nbconvert_exporter": "python",
   "pygments_lexer": "ipython3",
   "version": "3.10.1"
  },
  "toc": {
   "base_numbering": 1,
   "nav_menu": {},
   "number_sections": true,
   "sideBar": true,
   "skip_h1_title": false,
   "title_cell": "Table of Contents",
   "title_sidebar": "Contents",
   "toc_cell": false,
   "toc_position": {},
   "toc_section_display": true,
   "toc_window_display": false
  }
 },
 "nbformat": 4,
 "nbformat_minor": 5
}
