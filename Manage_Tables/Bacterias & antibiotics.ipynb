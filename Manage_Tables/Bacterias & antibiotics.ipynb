{
 "cells": [
  {
   "cell_type": "markdown",
   "id": "65fc05f9",
   "metadata": {},
   "source": [
    "# Importación de liberias"
   ]
  },
  {
   "cell_type": "code",
   "execution_count": 5,
   "id": "f3c22301",
   "metadata": {},
   "outputs": [],
   "source": [
    "from bokeh.io import output_notebook,show\n",
    "from bokeh.plotting import figure\n",
    "import pandas as pd\n",
    "import numpy as np\n",
    "import datetime as dt\n",
    "import Local_funtion as Lf"
   ]
  },
  {
   "cell_type": "markdown",
   "id": "24cbe44c",
   "metadata": {},
   "source": [
    "# Importacion de datos"
   ]
  },
  {
   "cell_type": "code",
   "execution_count": 6,
   "id": "fa8a4e28",
   "metadata": {},
   "outputs": [],
   "source": [
    "from bokeh.sampledata.antibiotics import data"
   ]
  },
  {
   "cell_type": "code",
   "execution_count": 7,
   "id": "23e90e77",
   "metadata": {},
   "outputs": [
    {
     "name": "stdout",
     "output_type": "stream",
     "text": [
      "<class 'pandas.core.frame.DataFrame'>\n",
      "Int64Index: 16 entries, 8 to 13\n",
      "Data columns (total 4 columns):\n",
      " #   Column        Non-Null Count  Dtype  \n",
      "---  ------        --------------  -----  \n",
      " 0   bacteria      16 non-null     object \n",
      " 1   penicillin    16 non-null     float64\n",
      " 2   streptomycin  16 non-null     float64\n",
      " 3   neomycin      16 non-null     float64\n",
      "dtypes: float64(3), object(1)\n",
      "memory usage: 640.0+ bytes\n"
     ]
    }
   ],
   "source": [
    "data_bacteria=data[['bacteria','penicillin','streptomycin','neomycin']]\n",
    "data_bacteria=data_bacteria.sort_values(by='penicillin',ascending=False)\n",
    "data_bacteria.info()"
   ]
  },
  {
   "cell_type": "code",
   "execution_count": 8,
   "id": "633e1906",
   "metadata": {},
   "outputs": [
    {
     "data": {
      "text/plain": [
       "['penicillin', 'streptomycin', 'neomycin']"
      ]
     },
     "execution_count": 8,
     "metadata": {},
     "output_type": "execute_result"
    }
   ],
   "source": [
    "lista_columnas=list(data_bacteria.columns)\n",
    "lista_columnas[1:]"
   ]
  },
  {
   "cell_type": "code",
   "execution_count": 9,
   "id": "11f5ca18",
   "metadata": {},
   "outputs": [],
   "source": [
    "lista2_columnas=list(data_bacteria.bacteria)\n"
   ]
  },
  {
   "cell_type": "markdown",
   "id": "a88a7f75",
   "metadata": {},
   "source": [
    "# Cración de grafica "
   ]
  },
  {
   "cell_type": "code",
   "execution_count": 10,
   "id": "56a37024",
   "metadata": {},
   "outputs": [],
   "source": [
    "figure_1=figure(x_range=lista2_columnas,height=250,title='Antibiotics',\n",
    "                plot_width=1600,plot_height=1000,\n",
    "                toolbar_location=None, tools=\"hover\", tooltips=\"$name @lista2_columnas: @$name\")"
   ]
  },
  {
   "cell_type": "code",
   "execution_count": 11,
   "id": "94a9efe6",
   "metadata": {},
   "outputs": [
    {
     "data": {
      "text/plain": [
       "[GlyphRenderer(id='1034', ...),\n",
       " GlyphRenderer(id='1052', ...),\n",
       " GlyphRenderer(id='1071', ...)]"
      ]
     },
     "execution_count": 11,
     "metadata": {},
     "output_type": "execute_result"
    }
   ],
   "source": [
    "figure_1.vbar_stack(lista_columnas[1:], x='bacteria', width=0.9, color=['#48C9B0','#3498DB','#EC7063'], \n",
    "                    source=data_bacteria,\n",
    "             legend_label=lista_columnas[1:])"
   ]
  },
  {
   "cell_type": "code",
   "execution_count": 12,
   "id": "644585eb",
   "metadata": {},
   "outputs": [],
   "source": [
    "figure_1.y_range.start = 0\n",
    "figure_1.x_range.range_padding = 0.1\n",
    "figure_1.xaxis.major_label_orientation = 1\n",
    "figure_1.xgrid.grid_line_color = None"
   ]
  },
  {
   "cell_type": "code",
   "execution_count": 13,
   "id": "e6e39bf4",
   "metadata": {},
   "outputs": [],
   "source": [
    "show(figure_1)"
   ]
  },
  {
   "cell_type": "code",
   "execution_count": null,
   "id": "9f377ec7",
   "metadata": {},
   "outputs": [],
   "source": []
  }
 ],
 "metadata": {
  "kernelspec": {
   "display_name": "Python 3 (ipykernel)",
   "language": "python",
   "name": "python3"
  },
  "language_info": {
   "codemirror_mode": {
    "name": "ipython",
    "version": 3
   },
   "file_extension": ".py",
   "mimetype": "text/x-python",
   "name": "python",
   "nbconvert_exporter": "python",
   "pygments_lexer": "ipython3",
   "version": "3.10.1"
  },
  "toc": {
   "base_numbering": 1,
   "nav_menu": {},
   "number_sections": true,
   "sideBar": true,
   "skip_h1_title": false,
   "title_cell": "Table of Contents",
   "title_sidebar": "Contents",
   "toc_cell": false,
   "toc_position": {},
   "toc_section_display": true,
   "toc_window_display": false
  }
 },
 "nbformat": 4,
 "nbformat_minor": 5
}
