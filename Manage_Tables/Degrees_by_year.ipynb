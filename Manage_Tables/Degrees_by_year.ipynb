{
 "cells": [
  {
   "cell_type": "markdown",
   "id": "921918a3",
   "metadata": {
    "heading_collapsed": true
   },
   "source": [
    "# Importacion de librerias"
   ]
  },
  {
   "cell_type": "code",
   "execution_count": 1,
   "id": "b13e1907",
   "metadata": {
    "hidden": true
   },
   "outputs": [],
   "source": [
    "from bokeh.io import output_notebook,show\n",
    "from bokeh.plotting import figure\n",
    "from bokeh.layouts import layout\n",
    "import pandas as pd\n",
    "import numpy as np\n",
    "import datetime as dt\n",
    "import Local_funtion as Lf\n"
   ]
  },
  {
   "cell_type": "markdown",
   "id": "bac0a35e",
   "metadata": {
    "heading_collapsed": true
   },
   "source": [
    "# Importacion de datos"
   ]
  },
  {
   "cell_type": "code",
   "execution_count": 2,
   "id": "0d93ecb6",
   "metadata": {
    "hidden": true
   },
   "outputs": [],
   "source": [
    "from bokeh.sampledata.degrees import data "
   ]
  },
  {
   "cell_type": "markdown",
   "id": "81ec8018",
   "metadata": {
    "heading_collapsed": true
   },
   "source": [
    "# Analisis de datos"
   ]
  },
  {
   "cell_type": "code",
   "execution_count": 15,
   "id": "ecceead5",
   "metadata": {
    "hidden": true
   },
   "outputs": [
    {
     "name": "stdout",
     "output_type": "stream",
     "text": [
      "<class 'pandas.core.frame.DataFrame'>\n",
      "RangeIndex: 42 entries, 0 to 41\n",
      "Data columns (total 18 columns):\n",
      " #   Column                         Non-Null Count  Dtype  \n",
      "---  ------                         --------------  -----  \n",
      " 0   Year                           42 non-null     int64  \n",
      " 1   Agriculture                    42 non-null     float64\n",
      " 2   Architecture                   42 non-null     float64\n",
      " 3   Art and Performance            42 non-null     float64\n",
      " 4   Biology                        42 non-null     float64\n",
      " 5   Business                       42 non-null     float64\n",
      " 6   Communications and Journalism  42 non-null     float64\n",
      " 7   Computer Science               42 non-null     float64\n",
      " 8   Education                      42 non-null     float64\n",
      " 9   Engineering                    42 non-null     float64\n",
      " 10  English                        42 non-null     float64\n",
      " 11  Foreign Languages              42 non-null     float64\n",
      " 12  Health Professions             42 non-null     float64\n",
      " 13  Math and Statistics            42 non-null     float64\n",
      " 14  Physical Sciences              42 non-null     float64\n",
      " 15  Psychology                     42 non-null     float64\n",
      " 16  Public Administration          42 non-null     float64\n",
      " 17  Social Sciences and History    42 non-null     float64\n",
      "dtypes: float64(17), int64(1)\n",
      "memory usage: 6.0 KB\n"
     ]
    }
   ],
   "source": [
    "data.info()"
   ]
  },
  {
   "cell_type": "code",
   "execution_count": 22,
   "id": "8da28476",
   "metadata": {
    "hidden": true
   },
   "outputs": [
    {
     "name": "stdout",
     "output_type": "stream",
     "text": [
      "<class 'pandas.core.frame.DataFrame'>\n",
      "Int64Index: 42 entries, 1970 to 2011\n",
      "Data columns (total 17 columns):\n",
      " #   Column                         Non-Null Count  Dtype  \n",
      "---  ------                         --------------  -----  \n",
      " 0   Agriculture                    42 non-null     float64\n",
      " 1   Architecture                   42 non-null     float64\n",
      " 2   Art and Performance            42 non-null     float64\n",
      " 3   Biology                        42 non-null     float64\n",
      " 4   Business                       42 non-null     float64\n",
      " 5   Communications and Journalism  42 non-null     float64\n",
      " 6   Computer Science               42 non-null     float64\n",
      " 7   Education                      42 non-null     float64\n",
      " 8   Engineering                    42 non-null     float64\n",
      " 9   English                        42 non-null     float64\n",
      " 10  Foreign Languages              42 non-null     float64\n",
      " 11  Health Professions             42 non-null     float64\n",
      " 12  Math and Statistics            42 non-null     float64\n",
      " 13  Physical Sciences              42 non-null     float64\n",
      " 14  Psychology                     42 non-null     float64\n",
      " 15  Public Administration          42 non-null     float64\n",
      " 16  Social Sciences and History    42 non-null     float64\n",
      "dtypes: float64(17)\n",
      "memory usage: 5.9 KB\n"
     ]
    }
   ],
   "source": [
    "data=data.set_index('Year')\n",
    "data.info()"
   ]
  },
  {
   "cell_type": "code",
   "execution_count": 25,
   "id": "f7e5b79b",
   "metadata": {
    "hidden": true
   },
   "outputs": [
    {
     "data": {
      "text/plain": [
       "['Agriculture',\n",
       " 'Architecture',\n",
       " 'Art and Performance',\n",
       " 'Biology',\n",
       " 'Business',\n",
       " 'Communications and Journalism',\n",
       " 'Computer Science',\n",
       " 'Education',\n",
       " 'Engineering',\n",
       " 'English',\n",
       " 'Foreign Languages',\n",
       " 'Health Professions',\n",
       " 'Math and Statistics',\n",
       " 'Physical Sciences',\n",
       " 'Psychology',\n",
       " 'Public Administration',\n",
       " 'Social Sciences and History']"
      ]
     },
     "execution_count": 25,
     "metadata": {},
     "output_type": "execute_result"
    }
   ],
   "source": [
    "All_degrees=list(data.columns)\n",
    "All_degrees"
   ]
  },
  {
   "cell_type": "code",
   "execution_count": 26,
   "id": "0bca2408",
   "metadata": {
    "hidden": true
   },
   "outputs": [],
   "source": [
    "histogramas_list=[]\n",
    "edges_list=[]\n",
    "for i in range(len(All_degrees)):\n",
    "    Signature_graduate=data[[All_degrees[i]]]\n",
    "    Signature_graduate_histogram,edges=np.histogram(Signature_graduate,density=True)\n",
    "    histogramas_list.append(Signature_graduate_histogram)\n",
    "    edges_list.append(edges)\n",
    "    "
   ]
  },
  {
   "cell_type": "markdown",
   "id": "6432fb45",
   "metadata": {},
   "source": [
    "# Generacion de graficas"
   ]
  },
  {
   "cell_type": "code",
   "execution_count": 28,
   "id": "58a2023b",
   "metadata": {},
   "outputs": [],
   "source": [
    "figure_list=[]\n",
    "for i in range(len(All_degrees)):\n",
    "    figure_h1=figure(title='Histogram of Agriculture',plot_width=800,plot_height=400)\n",
    "    figure_h1.quad(top=histogramas_list[i],bottom=0,left=edges_list[i][:-1],right=edges_list[i][1:],\n",
    "                   fill_color='#008080',line_color='black',legend_label='Graduates')\n",
    "    figure_list.append(figure_h1)"
   ]
  },
  {
   "cell_type": "code",
   "execution_count": 81,
   "id": "0f3c36c4",
   "metadata": {},
   "outputs": [
    {
     "data": {
      "text/plain": [
       "17"
      ]
     },
     "execution_count": 81,
     "metadata": {},
     "output_type": "execute_result"
    }
   ],
   "source": [
    "len(figure_list)"
   ]
  },
  {
   "cell_type": "code",
   "execution_count": 86,
   "id": "7ad7b0cf",
   "metadata": {},
   "outputs": [
    {
     "data": {
      "text/html": [
       "<div style=\"display: table;\"><div style=\"display: table-row;\"><div style=\"display: table-cell;\"><b title=\"bokeh.models.layouts.Column\">Column</b>(</div><div style=\"display: table-cell;\">id&nbsp;=&nbsp;'2194', <span id=\"2196\" style=\"cursor: pointer;\">&hellip;)</span></div></div><div class=\"2195\" style=\"display: none;\"><div style=\"display: table-cell;\"></div><div style=\"display: table-cell;\">align&nbsp;=&nbsp;'start',</div></div><div class=\"2195\" style=\"display: none;\"><div style=\"display: table-cell;\"></div><div style=\"display: table-cell;\">aspect_ratio&nbsp;=&nbsp;None,</div></div><div class=\"2195\" style=\"display: none;\"><div style=\"display: table-cell;\"></div><div style=\"display: table-cell;\">background&nbsp;=&nbsp;None,</div></div><div class=\"2195\" style=\"display: none;\"><div style=\"display: table-cell;\"></div><div style=\"display: table-cell;\">children&nbsp;=&nbsp;[Figure(id='1186', ...), Figure(id='1237', ...)],</div></div><div class=\"2195\" style=\"display: none;\"><div style=\"display: table-cell;\"></div><div style=\"display: table-cell;\">css_classes&nbsp;=&nbsp;[],</div></div><div class=\"2195\" style=\"display: none;\"><div style=\"display: table-cell;\"></div><div style=\"display: table-cell;\">disabled&nbsp;=&nbsp;False,</div></div><div class=\"2195\" style=\"display: none;\"><div style=\"display: table-cell;\"></div><div style=\"display: table-cell;\">height&nbsp;=&nbsp;None,</div></div><div class=\"2195\" style=\"display: none;\"><div style=\"display: table-cell;\"></div><div style=\"display: table-cell;\">height_policy&nbsp;=&nbsp;'auto',</div></div><div class=\"2195\" style=\"display: none;\"><div style=\"display: table-cell;\"></div><div style=\"display: table-cell;\">js_event_callbacks&nbsp;=&nbsp;{},</div></div><div class=\"2195\" style=\"display: none;\"><div style=\"display: table-cell;\"></div><div style=\"display: table-cell;\">js_property_callbacks&nbsp;=&nbsp;{},</div></div><div class=\"2195\" style=\"display: none;\"><div style=\"display: table-cell;\"></div><div style=\"display: table-cell;\">margin&nbsp;=&nbsp;(0, 0, 0, 0),</div></div><div class=\"2195\" style=\"display: none;\"><div style=\"display: table-cell;\"></div><div style=\"display: table-cell;\">max_height&nbsp;=&nbsp;None,</div></div><div class=\"2195\" style=\"display: none;\"><div style=\"display: table-cell;\"></div><div style=\"display: table-cell;\">max_width&nbsp;=&nbsp;None,</div></div><div class=\"2195\" style=\"display: none;\"><div style=\"display: table-cell;\"></div><div style=\"display: table-cell;\">min_height&nbsp;=&nbsp;None,</div></div><div class=\"2195\" style=\"display: none;\"><div style=\"display: table-cell;\"></div><div style=\"display: table-cell;\">min_width&nbsp;=&nbsp;None,</div></div><div class=\"2195\" style=\"display: none;\"><div style=\"display: table-cell;\"></div><div style=\"display: table-cell;\">name&nbsp;=&nbsp;None,</div></div><div class=\"2195\" style=\"display: none;\"><div style=\"display: table-cell;\"></div><div style=\"display: table-cell;\">rows&nbsp;=&nbsp;'auto',</div></div><div class=\"2195\" style=\"display: none;\"><div style=\"display: table-cell;\"></div><div style=\"display: table-cell;\">sizing_mode&nbsp;=&nbsp;None,</div></div><div class=\"2195\" style=\"display: none;\"><div style=\"display: table-cell;\"></div><div style=\"display: table-cell;\">spacing&nbsp;=&nbsp;0,</div></div><div class=\"2195\" style=\"display: none;\"><div style=\"display: table-cell;\"></div><div style=\"display: table-cell;\">subscribed_events&nbsp;=&nbsp;[],</div></div><div class=\"2195\" style=\"display: none;\"><div style=\"display: table-cell;\"></div><div style=\"display: table-cell;\">syncable&nbsp;=&nbsp;True,</div></div><div class=\"2195\" style=\"display: none;\"><div style=\"display: table-cell;\"></div><div style=\"display: table-cell;\">tags&nbsp;=&nbsp;[],</div></div><div class=\"2195\" style=\"display: none;\"><div style=\"display: table-cell;\"></div><div style=\"display: table-cell;\">visible&nbsp;=&nbsp;True,</div></div><div class=\"2195\" style=\"display: none;\"><div style=\"display: table-cell;\"></div><div style=\"display: table-cell;\">width&nbsp;=&nbsp;None,</div></div><div class=\"2195\" style=\"display: none;\"><div style=\"display: table-cell;\"></div><div style=\"display: table-cell;\">width_policy&nbsp;=&nbsp;'auto')</div></div></div>\n",
       "<script>\n",
       "(function() {\n",
       "  let expanded = false;\n",
       "  const ellipsis = document.getElementById(\"2196\");\n",
       "  ellipsis.addEventListener(\"click\", function() {\n",
       "    const rows = document.getElementsByClassName(\"2195\");\n",
       "    for (let i = 0; i < rows.length; i++) {\n",
       "      const el = rows[i];\n",
       "      el.style.display = expanded ? \"none\" : \"table-row\";\n",
       "    }\n",
       "    ellipsis.innerHTML = expanded ? \"&hellip;)\" : \"&lsaquo;&lsaquo;&lsaquo;\";\n",
       "    expanded = !expanded;\n",
       "  });\n",
       "})();\n",
       "</script>\n"
      ],
      "text/plain": [
       "Column(id='2194', ...)"
      ]
     },
     "execution_count": 86,
     "metadata": {},
     "output_type": "execute_result"
    }
   ],
   "source": [
    "layout([figure_list[0],figure_list[1]])"
   ]
  },
  {
   "cell_type": "code",
   "execution_count": 88,
   "id": "bf3713b4",
   "metadata": {},
   "outputs": [],
   "source": [
    "show(figure_list[0])"
   ]
  },
  {
   "cell_type": "code",
   "execution_count": null,
   "id": "03229533",
   "metadata": {},
   "outputs": [],
   "source": []
  }
 ],
 "metadata": {
  "kernelspec": {
   "display_name": "Python 3 (ipykernel)",
   "language": "python",
   "name": "python3"
  },
  "language_info": {
   "codemirror_mode": {
    "name": "ipython",
    "version": 3
   },
   "file_extension": ".py",
   "mimetype": "text/x-python",
   "name": "python",
   "nbconvert_exporter": "python",
   "pygments_lexer": "ipython3",
   "version": "3.10.1"
  },
  "toc": {
   "base_numbering": 1,
   "nav_menu": {},
   "number_sections": true,
   "sideBar": true,
   "skip_h1_title": false,
   "title_cell": "Table of Contents",
   "title_sidebar": "Contents",
   "toc_cell": false,
   "toc_position": {},
   "toc_section_display": true,
   "toc_window_display": false
  }
 },
 "nbformat": 4,
 "nbformat_minor": 5
}
