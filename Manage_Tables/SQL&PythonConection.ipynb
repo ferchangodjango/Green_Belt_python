{
 "cells": [
  {
   "cell_type": "markdown",
   "id": "f42b1853",
   "metadata": {
    "heading_collapsed": true
   },
   "source": [
    "# Importando librerias"
   ]
  },
  {
   "cell_type": "code",
   "execution_count": 21,
   "id": "0d38ea82",
   "metadata": {
    "hidden": true
   },
   "outputs": [],
   "source": [
    "#Importando librerias\n",
    "import sqlite3\n",
    "import pandas as pd\n",
    "from bokeh.io import output_notebook,show\n",
    "from bokeh.plotting import figure\n",
    "from bokeh.layouts import layout"
   ]
  },
  {
   "cell_type": "markdown",
   "id": "d033b7bb",
   "metadata": {
    "heading_collapsed": true
   },
   "source": [
    "# Realizando conecciones a la base de datos SQLite3"
   ]
  },
  {
   "cell_type": "code",
   "execution_count": 22,
   "id": "c6ce5842",
   "metadata": {
    "hidden": true
   },
   "outputs": [],
   "source": [
    "conection_northwind=sqlite3.connect('E:/DB SQL3/DATA_BASE_NORTHWIND/Northwind.db')\n",
    "query_top_seller='''\n",
    "    SELECT Employees.FirstName|| \" \" || Employees.LastName AS FullName,Products.Price,OrderDetails.Quantity,Products.Price*OrderDetails.Quantity AS TotalProfit\n",
    "    FROM OrderDetails \n",
    "    INNER JOIN Orders ON Orders.OrderID=OrderDetails.OrderID\n",
    "    INNER JOIN Products ON OrderDetails.ProductID=Products.ProductID\n",
    "    INNER JOIN Employees ON Employees.EmployeeID=Orders.EmployeeID\n",
    "    GROUP BY FullName \n",
    "    ORDER BY TotalProfit DESC'''\n",
    "\n",
    "TopSeller=pd.read_sql_query(query_top_seller,conection_northwind)"
   ]
  },
  {
   "cell_type": "code",
   "execution_count": 23,
   "id": "98ca9af3",
   "metadata": {
    "hidden": true
   },
   "outputs": [],
   "source": [
    "query_top_products='''\n",
    "   SELECT P.ProductID,P.ProductName,Price*Quantity AS Profit\n",
    "   FROM OrderDetails AS OD\n",
    "   INNER JOIN Products AS P ON OD.ProductID=P.ProductID\n",
    "   GROUP BY OD.ProductID\n",
    "   ORDER BY Profit DESC\n",
    "   LIMIT 10'''\n",
    "\n",
    "Top_products=pd.read_sql_query(query_top_products,conection_northwind)"
   ]
  },
  {
   "cell_type": "code",
   "execution_count": 24,
   "id": "73f196d0",
   "metadata": {
    "hidden": true
   },
   "outputs": [],
   "source": [
    "#TopSeller['FullName']=TopSeller['FullName'].astype('string')\n",
    "#TopSeller.info()"
   ]
  },
  {
   "cell_type": "markdown",
   "id": "a0f1bb8a",
   "metadata": {
    "heading_collapsed": true
   },
   "source": [
    "# Definiendo condiciones"
   ]
  },
  {
   "cell_type": "code",
   "execution_count": 25,
   "id": "fbb8b05e",
   "metadata": {
    "hidden": true
   },
   "outputs": [],
   "source": [
    "TopSellerBetterThanAvg=TopSeller.loc[TopSeller.TotalProfit>=TopSeller.TotalProfit.mean()]\n",
    "TopSellerLessThanAvg=TopSeller.loc[TopSeller.TotalProfit<TopSeller.TotalProfit.mean()]\n"
   ]
  },
  {
   "cell_type": "code",
   "execution_count": 26,
   "id": "67b17848",
   "metadata": {
    "hidden": true
   },
   "outputs": [],
   "source": [
    "TopProductsThanAvg=Top_products.loc[Top_products.Profit>=Top_products.Profit.mean()]\n",
    "TopProductsLessAvg=Top_products.loc[Top_products.Profit<Top_products.Profit.mean()]"
   ]
  },
  {
   "cell_type": "markdown",
   "id": "d3620778",
   "metadata": {},
   "source": [
    "# Realizando graficas"
   ]
  },
  {
   "cell_type": "code",
   "execution_count": 27,
   "id": "1ff14fe9",
   "metadata": {},
   "outputs": [
    {
     "data": {
      "text/html": [
       "<div style=\"display: table;\"><div style=\"display: table-row;\"><div style=\"display: table-cell;\"><b title=\"bokeh.models.renderers.GlyphRenderer\">GlyphRenderer</b>(</div><div style=\"display: table-cell;\">id&nbsp;=&nbsp;'1864', <span id=\"1867\" style=\"cursor: pointer;\">&hellip;)</span></div></div><div class=\"1866\" style=\"display: none;\"><div style=\"display: table-cell;\"></div><div style=\"display: table-cell;\">coordinates&nbsp;=&nbsp;None,</div></div><div class=\"1866\" style=\"display: none;\"><div style=\"display: table-cell;\"></div><div style=\"display: table-cell;\">data_source&nbsp;=&nbsp;ColumnDataSource(id='1860', ...),</div></div><div class=\"1866\" style=\"display: none;\"><div style=\"display: table-cell;\"></div><div style=\"display: table-cell;\">glyph&nbsp;=&nbsp;VBar(id='1861', ...),</div></div><div class=\"1866\" style=\"display: none;\"><div style=\"display: table-cell;\"></div><div style=\"display: table-cell;\">group&nbsp;=&nbsp;None,</div></div><div class=\"1866\" style=\"display: none;\"><div style=\"display: table-cell;\"></div><div style=\"display: table-cell;\">hover_glyph&nbsp;=&nbsp;None,</div></div><div class=\"1866\" style=\"display: none;\"><div style=\"display: table-cell;\"></div><div style=\"display: table-cell;\">js_event_callbacks&nbsp;=&nbsp;{},</div></div><div class=\"1866\" style=\"display: none;\"><div style=\"display: table-cell;\"></div><div style=\"display: table-cell;\">js_property_callbacks&nbsp;=&nbsp;{},</div></div><div class=\"1866\" style=\"display: none;\"><div style=\"display: table-cell;\"></div><div style=\"display: table-cell;\">level&nbsp;=&nbsp;'glyph',</div></div><div class=\"1866\" style=\"display: none;\"><div style=\"display: table-cell;\"></div><div style=\"display: table-cell;\">muted&nbsp;=&nbsp;False,</div></div><div class=\"1866\" style=\"display: none;\"><div style=\"display: table-cell;\"></div><div style=\"display: table-cell;\">muted_glyph&nbsp;=&nbsp;VBar(id='1863', ...),</div></div><div class=\"1866\" style=\"display: none;\"><div style=\"display: table-cell;\"></div><div style=\"display: table-cell;\">name&nbsp;=&nbsp;None,</div></div><div class=\"1866\" style=\"display: none;\"><div style=\"display: table-cell;\"></div><div style=\"display: table-cell;\">nonselection_glyph&nbsp;=&nbsp;VBar(id='1862', ...),</div></div><div class=\"1866\" style=\"display: none;\"><div style=\"display: table-cell;\"></div><div style=\"display: table-cell;\">selection_glyph&nbsp;=&nbsp;'auto',</div></div><div class=\"1866\" style=\"display: none;\"><div style=\"display: table-cell;\"></div><div style=\"display: table-cell;\">subscribed_events&nbsp;=&nbsp;[],</div></div><div class=\"1866\" style=\"display: none;\"><div style=\"display: table-cell;\"></div><div style=\"display: table-cell;\">syncable&nbsp;=&nbsp;True,</div></div><div class=\"1866\" style=\"display: none;\"><div style=\"display: table-cell;\"></div><div style=\"display: table-cell;\">tags&nbsp;=&nbsp;[],</div></div><div class=\"1866\" style=\"display: none;\"><div style=\"display: table-cell;\"></div><div style=\"display: table-cell;\">view&nbsp;=&nbsp;CDSView(id='1865', ...),</div></div><div class=\"1866\" style=\"display: none;\"><div style=\"display: table-cell;\"></div><div style=\"display: table-cell;\">visible&nbsp;=&nbsp;True,</div></div><div class=\"1866\" style=\"display: none;\"><div style=\"display: table-cell;\"></div><div style=\"display: table-cell;\">x_range_name&nbsp;=&nbsp;'default',</div></div><div class=\"1866\" style=\"display: none;\"><div style=\"display: table-cell;\"></div><div style=\"display: table-cell;\">y_range_name&nbsp;=&nbsp;'default')</div></div></div>\n",
       "<script>\n",
       "(function() {\n",
       "  let expanded = false;\n",
       "  const ellipsis = document.getElementById(\"1867\");\n",
       "  ellipsis.addEventListener(\"click\", function() {\n",
       "    const rows = document.getElementsByClassName(\"1866\");\n",
       "    for (let i = 0; i < rows.length; i++) {\n",
       "      const el = rows[i];\n",
       "      el.style.display = expanded ? \"none\" : \"table-row\";\n",
       "    }\n",
       "    ellipsis.innerHTML = expanded ? \"&hellip;)\" : \"&lsaquo;&lsaquo;&lsaquo;\";\n",
       "    expanded = !expanded;\n",
       "  });\n",
       "})();\n",
       "</script>\n"
      ],
      "text/plain": [
       "GlyphRenderer(id='1864', ...)"
      ]
     },
     "execution_count": 27,
     "metadata": {},
     "output_type": "execute_result"
    }
   ],
   "source": [
    "figure_1=figure(x_range=TopSeller.FullName,title='TOP_SELLER',plot_width=400,plot_height=400)\n",
    "figure_1.xgrid.grid_line_color=None\n",
    "figure_1.ygrid.grid_line_alpha=0.7\n",
    "figure_1.xaxis.axis_label='Seller'\n",
    "figure_1.yaxis.axis_label='Total Profit'\n",
    "figure_1.y_range.start = 0\n",
    "figure_1.xaxis.major_label_orientation = 1\n",
    "figure_1.vbar(TopSellerBetterThanAvg.FullName,top=TopSellerBetterThanAvg.TotalProfit,color='#008000',width=0.9)\n",
    "figure_1.vbar(TopSellerLessThanAvg.FullName,top=TopSellerLessThanAvg.TotalProfit,color='#E74C3C',width=0.9)"
   ]
  },
  {
   "cell_type": "code",
   "execution_count": 28,
   "id": "ea0d0b8c",
   "metadata": {},
   "outputs": [
    {
     "data": {
      "text/html": [
       "<div style=\"display: table;\"><div style=\"display: table-row;\"><div style=\"display: table-cell;\"><b title=\"bokeh.models.renderers.GlyphRenderer\">GlyphRenderer</b>(</div><div style=\"display: table-cell;\">id&nbsp;=&nbsp;'1910', <span id=\"1913\" style=\"cursor: pointer;\">&hellip;)</span></div></div><div class=\"1912\" style=\"display: none;\"><div style=\"display: table-cell;\"></div><div style=\"display: table-cell;\">coordinates&nbsp;=&nbsp;None,</div></div><div class=\"1912\" style=\"display: none;\"><div style=\"display: table-cell;\"></div><div style=\"display: table-cell;\">data_source&nbsp;=&nbsp;ColumnDataSource(id='1906', ...),</div></div><div class=\"1912\" style=\"display: none;\"><div style=\"display: table-cell;\"></div><div style=\"display: table-cell;\">glyph&nbsp;=&nbsp;VBar(id='1907', ...),</div></div><div class=\"1912\" style=\"display: none;\"><div style=\"display: table-cell;\"></div><div style=\"display: table-cell;\">group&nbsp;=&nbsp;None,</div></div><div class=\"1912\" style=\"display: none;\"><div style=\"display: table-cell;\"></div><div style=\"display: table-cell;\">hover_glyph&nbsp;=&nbsp;None,</div></div><div class=\"1912\" style=\"display: none;\"><div style=\"display: table-cell;\"></div><div style=\"display: table-cell;\">js_event_callbacks&nbsp;=&nbsp;{},</div></div><div class=\"1912\" style=\"display: none;\"><div style=\"display: table-cell;\"></div><div style=\"display: table-cell;\">js_property_callbacks&nbsp;=&nbsp;{},</div></div><div class=\"1912\" style=\"display: none;\"><div style=\"display: table-cell;\"></div><div style=\"display: table-cell;\">level&nbsp;=&nbsp;'glyph',</div></div><div class=\"1912\" style=\"display: none;\"><div style=\"display: table-cell;\"></div><div style=\"display: table-cell;\">muted&nbsp;=&nbsp;False,</div></div><div class=\"1912\" style=\"display: none;\"><div style=\"display: table-cell;\"></div><div style=\"display: table-cell;\">muted_glyph&nbsp;=&nbsp;VBar(id='1909', ...),</div></div><div class=\"1912\" style=\"display: none;\"><div style=\"display: table-cell;\"></div><div style=\"display: table-cell;\">name&nbsp;=&nbsp;None,</div></div><div class=\"1912\" style=\"display: none;\"><div style=\"display: table-cell;\"></div><div style=\"display: table-cell;\">nonselection_glyph&nbsp;=&nbsp;VBar(id='1908', ...),</div></div><div class=\"1912\" style=\"display: none;\"><div style=\"display: table-cell;\"></div><div style=\"display: table-cell;\">selection_glyph&nbsp;=&nbsp;'auto',</div></div><div class=\"1912\" style=\"display: none;\"><div style=\"display: table-cell;\"></div><div style=\"display: table-cell;\">subscribed_events&nbsp;=&nbsp;[],</div></div><div class=\"1912\" style=\"display: none;\"><div style=\"display: table-cell;\"></div><div style=\"display: table-cell;\">syncable&nbsp;=&nbsp;True,</div></div><div class=\"1912\" style=\"display: none;\"><div style=\"display: table-cell;\"></div><div style=\"display: table-cell;\">tags&nbsp;=&nbsp;[],</div></div><div class=\"1912\" style=\"display: none;\"><div style=\"display: table-cell;\"></div><div style=\"display: table-cell;\">view&nbsp;=&nbsp;CDSView(id='1911', ...),</div></div><div class=\"1912\" style=\"display: none;\"><div style=\"display: table-cell;\"></div><div style=\"display: table-cell;\">visible&nbsp;=&nbsp;True,</div></div><div class=\"1912\" style=\"display: none;\"><div style=\"display: table-cell;\"></div><div style=\"display: table-cell;\">x_range_name&nbsp;=&nbsp;'default',</div></div><div class=\"1912\" style=\"display: none;\"><div style=\"display: table-cell;\"></div><div style=\"display: table-cell;\">y_range_name&nbsp;=&nbsp;'default')</div></div></div>\n",
       "<script>\n",
       "(function() {\n",
       "  let expanded = false;\n",
       "  const ellipsis = document.getElementById(\"1913\");\n",
       "  ellipsis.addEventListener(\"click\", function() {\n",
       "    const rows = document.getElementsByClassName(\"1912\");\n",
       "    for (let i = 0; i < rows.length; i++) {\n",
       "      const el = rows[i];\n",
       "      el.style.display = expanded ? \"none\" : \"table-row\";\n",
       "    }\n",
       "    ellipsis.innerHTML = expanded ? \"&hellip;)\" : \"&lsaquo;&lsaquo;&lsaquo;\";\n",
       "    expanded = !expanded;\n",
       "  });\n",
       "})();\n",
       "</script>\n"
      ],
      "text/plain": [
       "GlyphRenderer(id='1910', ...)"
      ]
     },
     "execution_count": 28,
     "metadata": {},
     "output_type": "execute_result"
    }
   ],
   "source": [
    "figure_2=figure(x_range=Top_products.ProductName,title='TOP_PRODUCTS',plot_width=400,plot_height=400)\n",
    "figure_2.xgrid.grid_line_color=None\n",
    "figure_2.ygrid.grid_line_alpha=0.7\n",
    "figure_2.xaxis.axis_label='Products'\n",
    "figure_2.yaxis.axis_label='Profit'\n",
    "figure_2.y_range.start = 0\n",
    "figure_2.xaxis.major_label_orientation = 1\n",
    "figure_2.vbar(TopProductsThanAvg.ProductName,top=TopProductsThanAvg.Profit,color='#008000',width=0.9)\n",
    "figure_2.vbar(TopProductsLessAvg.ProductName,top=TopProductsLessAvg.Profit,color='#E74C3C',width=0.9)"
   ]
  },
  {
   "cell_type": "code",
   "execution_count": 29,
   "id": "1970ac50",
   "metadata": {},
   "outputs": [
    {
     "data": {
      "text/html": [
       "<div style=\"display: table;\"><div style=\"display: table-row;\"><div style=\"display: table-cell;\"><b title=\"bokeh.models.layouts.Column\">Column</b>(</div><div style=\"display: table-cell;\">id&nbsp;=&nbsp;'1916', <span id=\"1918\" style=\"cursor: pointer;\">&hellip;)</span></div></div><div class=\"1917\" style=\"display: none;\"><div style=\"display: table-cell;\"></div><div style=\"display: table-cell;\">align&nbsp;=&nbsp;'start',</div></div><div class=\"1917\" style=\"display: none;\"><div style=\"display: table-cell;\"></div><div style=\"display: table-cell;\">aspect_ratio&nbsp;=&nbsp;None,</div></div><div class=\"1917\" style=\"display: none;\"><div style=\"display: table-cell;\"></div><div style=\"display: table-cell;\">background&nbsp;=&nbsp;None,</div></div><div class=\"1917\" style=\"display: none;\"><div style=\"display: table-cell;\"></div><div style=\"display: table-cell;\">children&nbsp;=&nbsp;[Row(id='1914', ...), Row(id='1915', ...)],</div></div><div class=\"1917\" style=\"display: none;\"><div style=\"display: table-cell;\"></div><div style=\"display: table-cell;\">css_classes&nbsp;=&nbsp;[],</div></div><div class=\"1917\" style=\"display: none;\"><div style=\"display: table-cell;\"></div><div style=\"display: table-cell;\">disabled&nbsp;=&nbsp;False,</div></div><div class=\"1917\" style=\"display: none;\"><div style=\"display: table-cell;\"></div><div style=\"display: table-cell;\">height&nbsp;=&nbsp;None,</div></div><div class=\"1917\" style=\"display: none;\"><div style=\"display: table-cell;\"></div><div style=\"display: table-cell;\">height_policy&nbsp;=&nbsp;'auto',</div></div><div class=\"1917\" style=\"display: none;\"><div style=\"display: table-cell;\"></div><div style=\"display: table-cell;\">js_event_callbacks&nbsp;=&nbsp;{},</div></div><div class=\"1917\" style=\"display: none;\"><div style=\"display: table-cell;\"></div><div style=\"display: table-cell;\">js_property_callbacks&nbsp;=&nbsp;{},</div></div><div class=\"1917\" style=\"display: none;\"><div style=\"display: table-cell;\"></div><div style=\"display: table-cell;\">margin&nbsp;=&nbsp;(0, 0, 0, 0),</div></div><div class=\"1917\" style=\"display: none;\"><div style=\"display: table-cell;\"></div><div style=\"display: table-cell;\">max_height&nbsp;=&nbsp;None,</div></div><div class=\"1917\" style=\"display: none;\"><div style=\"display: table-cell;\"></div><div style=\"display: table-cell;\">max_width&nbsp;=&nbsp;None,</div></div><div class=\"1917\" style=\"display: none;\"><div style=\"display: table-cell;\"></div><div style=\"display: table-cell;\">min_height&nbsp;=&nbsp;None,</div></div><div class=\"1917\" style=\"display: none;\"><div style=\"display: table-cell;\"></div><div style=\"display: table-cell;\">min_width&nbsp;=&nbsp;None,</div></div><div class=\"1917\" style=\"display: none;\"><div style=\"display: table-cell;\"></div><div style=\"display: table-cell;\">name&nbsp;=&nbsp;None,</div></div><div class=\"1917\" style=\"display: none;\"><div style=\"display: table-cell;\"></div><div style=\"display: table-cell;\">rows&nbsp;=&nbsp;'auto',</div></div><div class=\"1917\" style=\"display: none;\"><div style=\"display: table-cell;\"></div><div style=\"display: table-cell;\">sizing_mode&nbsp;=&nbsp;None,</div></div><div class=\"1917\" style=\"display: none;\"><div style=\"display: table-cell;\"></div><div style=\"display: table-cell;\">spacing&nbsp;=&nbsp;0,</div></div><div class=\"1917\" style=\"display: none;\"><div style=\"display: table-cell;\"></div><div style=\"display: table-cell;\">subscribed_events&nbsp;=&nbsp;[],</div></div><div class=\"1917\" style=\"display: none;\"><div style=\"display: table-cell;\"></div><div style=\"display: table-cell;\">syncable&nbsp;=&nbsp;True,</div></div><div class=\"1917\" style=\"display: none;\"><div style=\"display: table-cell;\"></div><div style=\"display: table-cell;\">tags&nbsp;=&nbsp;[],</div></div><div class=\"1917\" style=\"display: none;\"><div style=\"display: table-cell;\"></div><div style=\"display: table-cell;\">visible&nbsp;=&nbsp;True,</div></div><div class=\"1917\" style=\"display: none;\"><div style=\"display: table-cell;\"></div><div style=\"display: table-cell;\">width&nbsp;=&nbsp;None,</div></div><div class=\"1917\" style=\"display: none;\"><div style=\"display: table-cell;\"></div><div style=\"display: table-cell;\">width_policy&nbsp;=&nbsp;'auto')</div></div></div>\n",
       "<script>\n",
       "(function() {\n",
       "  let expanded = false;\n",
       "  const ellipsis = document.getElementById(\"1918\");\n",
       "  ellipsis.addEventListener(\"click\", function() {\n",
       "    const rows = document.getElementsByClassName(\"1917\");\n",
       "    for (let i = 0; i < rows.length; i++) {\n",
       "      const el = rows[i];\n",
       "      el.style.display = expanded ? \"none\" : \"table-row\";\n",
       "    }\n",
       "    ellipsis.innerHTML = expanded ? \"&hellip;)\" : \"&lsaquo;&lsaquo;&lsaquo;\";\n",
       "    expanded = !expanded;\n",
       "  });\n",
       "})();\n",
       "</script>\n"
      ],
      "text/plain": [
       "Column(id='1916', ...)"
      ]
     },
     "execution_count": 29,
     "metadata": {},
     "output_type": "execute_result"
    }
   ],
   "source": [
    "Lay_Out_Productos=layout([[figure_1],[figure_2]])\n",
    "Lay_Out_Productos"
   ]
  },
  {
   "cell_type": "code",
   "execution_count": 30,
   "id": "7a907530",
   "metadata": {},
   "outputs": [],
   "source": [
    "show(Lay_Out_Productos)"
   ]
  },
  {
   "cell_type": "code",
   "execution_count": null,
   "id": "1a0c0898",
   "metadata": {},
   "outputs": [],
   "source": []
  }
 ],
 "metadata": {
  "kernelspec": {
   "display_name": "Python 3 (ipykernel)",
   "language": "python",
   "name": "python3"
  },
  "language_info": {
   "codemirror_mode": {
    "name": "ipython",
    "version": 3
   },
   "file_extension": ".py",
   "mimetype": "text/x-python",
   "name": "python",
   "nbconvert_exporter": "python",
   "pygments_lexer": "ipython3",
   "version": "3.10.1"
  },
  "toc": {
   "base_numbering": 1,
   "nav_menu": {},
   "number_sections": true,
   "sideBar": true,
   "skip_h1_title": false,
   "title_cell": "Table of Contents",
   "title_sidebar": "Contents",
   "toc_cell": false,
   "toc_position": {},
   "toc_section_display": true,
   "toc_window_display": false
  }
 },
 "nbformat": 4,
 "nbformat_minor": 5
}
