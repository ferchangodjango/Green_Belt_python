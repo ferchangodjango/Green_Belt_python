{
 "cells": [
  {
   "cell_type": "markdown",
   "id": "64cb775e",
   "metadata": {
    "heading_collapsed": true
   },
   "source": [
    "# Importando las librerias "
   ]
  },
  {
   "cell_type": "code",
   "execution_count": 7,
   "id": "bf4347a5",
   "metadata": {
    "hidden": true
   },
   "outputs": [],
   "source": [
    "import statsmodels.api as sm\n",
    "from scipy import stats\n",
    "import numpy as np\n",
    "import random\n",
    "import pandas as pd\n",
    "from bokeh.io import output_notebook,show\n",
    "from bokeh.plotting import figure\n",
    "from bokeh.layouts import layout\n",
    "import math"
   ]
  },
  {
   "cell_type": "markdown",
   "id": "7368b9bb",
   "metadata": {},
   "source": [
    "# Creando funciones del histograma y grafica Q-Q"
   ]
  },
  {
   "cell_type": "code",
   "execution_count": 8,
   "id": "fd29cfd6",
   "metadata": {},
   "outputs": [],
   "source": [
    "#Q_Q_Graphs(Data,column,distribution,s,n,p)\n",
    "#You need to pass the Data, column\n",
    "#You can change the kind of distribution ['normal','lognormal','binomial']\n",
    "#Scale for distribution lognormal\n",
    "#n y p for distribution binomial\n",
    "\n",
    "def Q_Q_Graphs(Data,column,distribution,s=0.9,n=500,p=0.1):\n",
    "    if distribution=='normal':\n",
    "        Datos_Q_Q=Data[[column]].sort_values(by=column)\n",
    "        Datos_Q_Q=Datos_Q_Q.reset_index(drop=True)\n",
    "        Datos_Q_Q=Datos_Q_Q.reset_index()\n",
    "        Datos_Q_Q['i']=Datos_Q_Q['index']+1\n",
    "        Datos_Q_Q['j']=(Datos_Q_Q['i']-(1/2))/Datos_Q_Q['index'].count()\n",
    "        Datos_Q_Q['Z']=stats.norm().ppf(Datos_Q_Q['j'])\n",
    "        \n",
    "        figure_Q_Q=figure(title='Q-Q of '+str(column),plot_width=600,plot_height=400)\n",
    "        figure_Q_Q.xgrid.grid_line_color=None\n",
    "        figure_Q_Q.ygrid.grid_line_alpha=0.7\n",
    "        figure_Q_Q.xaxis.axis_label='Size'\n",
    "        figure_Q_Q.yaxis.axis_label='Probability desity'\n",
    "        figure_Q_Q.y_range.start = Datos_Q_Q[column].min()\n",
    "        figure_Q_Q.x_range.start = Datos_Q_Q['Z'].min()\n",
    "        figure_Q_Q.scatter(Datos_Q_Q.Z,Datos_Q_Q[column])\n",
    "        return Datos_Q_Q,figure_Q_Q\n",
    "\n",
    "    elif distribution=='lognormal':\n",
    "        Datos_Q_Q=Data[[column]].sort_values(by=column)\n",
    "        Datos_Q_Q=Datos_Q_Q.reset_index(drop=True)\n",
    "        Datos_Q_Q=Datos_Q_Q.reset_index()\n",
    "        Datos_Q_Q['i']=Datos_Q_Q['index']+1\n",
    "        Datos_Q_Q['j']=(Datos_Q_Q['i']-(1/2))/Datos_Q_Q['index'].count()\n",
    "        Datos_Q_Q['Z']=stats.lognorm.ppf(Datos_Q_Q['j'],s)\n",
    "        \n",
    "        figure_Q_Q=figure(title='Q-Q of '+str(column),plot_width=600,plot_height=400)\n",
    "        figure_Q_Q.xgrid.grid_line_color=None\n",
    "        figure_Q_Q.ygrid.grid_line_alpha=0.7\n",
    "        figure_Q_Q.xaxis.axis_label='Size'\n",
    "        figure_Q_Q.yaxis.axis_label='Probability desity'\n",
    "        figure_Q_Q.y_range.start = Datos_Q_Q[column].min()\n",
    "        figure_Q_Q.x_range.start = Datos_Q_Q['Z'].min()\n",
    "        figure_Q_Q.scatter(Datos_Q_Q.Z,Datos_Q_Q[column])\n",
    "        return Datos_Q_Q,figure_Q_Q\n",
    "    \n",
    "    elif distribution=='binomial':\n",
    "        Datos_Q_Q=Data[[column]].sort_values(by=column)\n",
    "        Datos_Q_Q=Datos_Q_Q.reset_index(drop=True)\n",
    "        Datos_Q_Q=Datos_Q_Q.reset_index()\n",
    "        Datos_Q_Q['i']=Datos_Q_Q['index']+1\n",
    "        Datos_Q_Q['j']=(Datos_Q_Q['i']-(1/2))/Datos_Q_Q['index'].count()\n",
    "        Datos_Q_Q['Z']=stats.binom.ppf(Datos_Q_Q['j'],n,p)\n",
    "        \n",
    "        figure_Q_Q=figure(title='Q-Q of '+str(column),plot_width=600,plot_height=400)\n",
    "        figure_Q_Q.xgrid.grid_line_color=None\n",
    "        figure_Q_Q.ygrid.grid_line_alpha=0.7\n",
    "        figure_Q_Q.xaxis.axis_label='Size'\n",
    "        figure_Q_Q.yaxis.axis_label='Probability desity'\n",
    "        figure_Q_Q.y_range.start = Datos_Q_Q[column].min()\n",
    "        figure_Q_Q.x_range.start = Datos_Q_Q['Z'].min()\n",
    "        figure_Q_Q.scatter(Datos_Q_Q.Z,Datos_Q_Q[column])\n",
    "        return Datos_Q_Q,figure_Q_Q\n",
    "        \n"
   ]
  },
  {
   "cell_type": "code",
   "execution_count": 9,
   "id": "5a604030",
   "metadata": {},
   "outputs": [],
   "source": [
    "#histogram_plot(Data,column,distribution,m=0,std=1)\n",
    "#You need to pass the Data, column\n",
    "#You can change the kind of distribution ['normal','lognormal','binomial']\n",
    "#Scale for distribution lognormal\n",
    "#n y p for distribution binomial\n",
    "\n",
    "def histogram_plot(Data,column,distribution,m=0,std=1,s=0.9,n=500,p=0.1):\n",
    "    N=Data[column].count()\n",
    "    Number_intervals=int(round(1+3.322*math.log10(N),0))\n",
    "    if distribution=='normal':\n",
    "        hist,edges=np.histogram(Data[column],density=True,bins=Number_intervals)\n",
    "        x = np.linspace(min(Data[column]), max(Data[column]), num=N)\n",
    "        y = stats.norm.pdf(x,m,std)\n",
    "        # Histograma distribución normal\n",
    "        figure_h=figure(title='NORMAL_DISTRIBUTION',plot_width=600,plot_height=400)\n",
    "        figure_h.xgrid.grid_line_color=None\n",
    "        figure_h.ygrid.grid_line_alpha=0.7\n",
    "        figure_h.xaxis.axis_label='STD_DESV'\n",
    "        figure_h.yaxis.axis_label='Probability'\n",
    "        figure_h.quad(top=hist,bottom=0,left=edges[:-1],right=edges[1:],\n",
    "              fill_color='#008080',line_color='black',legend_label='Normal_distribution')\n",
    "        figure_h.line(x,y,color='#181515',line_width=2)\n",
    "        return figure_h \n",
    "        \n",
    "    elif distribution=='lognormal':\n",
    "        hist,edges=np.histogram(Data[column],density=True,bins=100)\n",
    "        x = np.linspace(min(Data[column]), max(Data[column]), num=N)\n",
    "        y = stats.lognorm.pdf(x,s)\n",
    "        figure_h=figure(title='LOGNORMAL_DISTRIBUTION',plot_width=600,plot_height=400)\n",
    "        figure_h.xgrid.grid_line_color=None\n",
    "        figure_h.ygrid.grid_line_alpha=0.7\n",
    "        figure_h.xaxis.axis_label='STD_DESV'\n",
    "        figure_h.yaxis.axis_label='Probability'\n",
    "        figure_h.quad(top=hist,bottom=0,left=edges[:-1],right=edges[1:],\n",
    "              fill_color='#008080',line_color='black',legend_label='Logormal_distribution')\n",
    "        figure_h.line(x,y,color='#181515',line_width=2)\n",
    "        return figure_h\n",
    "        \n",
    "    elif distribution=='binomial':\n",
    "        hist,edges=np.histogram(Data[column],density=True,bins=Number_intervals)\n",
    "        x = np.linspace(min(Data[column]), max(Data[column]), num=N)\n",
    "        y = stats.binom.pmf(x,n,p)\n",
    "        figure_h=figure(title='BINOMIAL_DISTRIBUTION',plot_width=600,plot_height=400)\n",
    "        figure_h.xgrid.grid_line_color=None\n",
    "        figure_h.ygrid.grid_line_alpha=0.7\n",
    "        figure_h.xaxis.axis_label='STD_DESV'\n",
    "        figure_h.yaxis.axis_label='Probability'\n",
    "        figure_h.quad(top=hist,bottom=0,left=edges[:-1],right=edges[1:],\n",
    "              fill_color='#008080',line_color='black',legend_label='Binomial_distribution')\n",
    "        figure_h.line(x,y,color='#181515',line_width=2)\n",
    "        return figure_h"
   ]
  },
  {
   "cell_type": "code",
   "execution_count": 21,
   "id": "983241bd",
   "metadata": {},
   "outputs": [],
   "source": [
    "#histogram_plot_limit(Data,column,distribution,m=0,std=1,s=0.9,n=500,p=0.1,limit1,limit2)\n",
    "#You need to pass the Data, column\n",
    "#You can change the kind of distribution ['normal','lognormal','binomial']\n",
    "#Scale for distribution lognormal\n",
    "#n y p for distribution binomial\n",
    "#limit 1 is the min value for you want to calculated the probability\n",
    "#limit 2 is the max value for you want to calculated the probability\n",
    "\n",
    "def histogram_plot_limit(Data,column,distribution,limit1,limit2,m=0,std=1,s=0.9,n=500,p=0.1):\n",
    "    N=Data[column].count()\n",
    "    Number_intervals=int(round(1+3.322*math.log10(N),0))\n",
    "    if distribution=='normal':\n",
    "        hist,edges=np.histogram(Data[column],density=True,bins=100)\n",
    "        x = np.linspace(min(Data[column]), max(Data[column]), num=N)\n",
    "        y = stats.norm.pdf(x,m,std)\n",
    "        posiciones=np.where((edges>=limit1)&(edges<limit2))\n",
    "        index_Incial=posiciones[0][0]\n",
    "        index_final=posiciones[0][-1]\n",
    "        edges_marcado=edges[index_Incial:index_final+1]\n",
    "        hist_marcado=hist[index_Incial:index_final+1]\n",
    "        # Histograma distribución normal\n",
    "        figure_h=figure(title='NORMAL_DISTRIBUTION',plot_width=600,plot_height=400)\n",
    "        figure_h.xgrid.grid_line_color=None\n",
    "        figure_h.ygrid.grid_line_alpha=0.7\n",
    "        figure_h.xaxis.axis_label='STD_DESV'\n",
    "        figure_h.yaxis.axis_label='Probability'\n",
    "        figure_h.quad(top=hist,bottom=0,left=edges[:-1],right=edges[1:],\n",
    "              fill_color='#008080',line_color='black',legend_label='Normal_distribution')\n",
    "        figure_h.line(x,y,color='#181515',line_width=2)\n",
    "        figure_h.quad(top=hist_marcado,bottom=0,left=edges_marcado[:-1],right=edges_marcado[1:],\n",
    "                      fill_color='#512E5F',line_color='black',legend_label='Normal_distribution')\n",
    "        return figure_h \n",
    "        \n",
    "    elif distribution=='lognormal':\n",
    "        hist,edges=np.histogram(Data[column],density=True,bins=100)\n",
    "        x = np.linspace(min(Data[column]), max(Data[column]), num=N)\n",
    "        y = stats.lognorm.pdf(x,s)\n",
    "        figure_h=figure(title='LOGNORMAL_DISTRIBUTION',plot_width=600,plot_height=400)\n",
    "        figure_h.xgrid.grid_line_color=None\n",
    "        figure_h.ygrid.grid_line_alpha=0.7\n",
    "        figure_h.xaxis.axis_label='STD_DESV'\n",
    "        figure_h.yaxis.axis_label='Probability'\n",
    "        figure_h.quad(top=hist,bottom=0,left=edges[:-1],right=edges[1:],\n",
    "              fill_color='#008080',line_color='black',legend_label='Logormal_distribution')\n",
    "        figure_h.line(x,y,color='#181515',line_width=2)\n",
    "        return figure_h\n",
    "        \n",
    "    elif distribution=='binomial':\n",
    "        hist,edges=np.histogram(Data[column],density=True,bins=Number_intervals)\n",
    "        x = np.linspace(min(Data[column]), max(Data[column]), num=N)\n",
    "        y = stats.binom.pmf(x,n,p)\n",
    "        figure_h=figure(title='BINOMIAL_DISTRIBUTION',plot_width=600,plot_height=400)\n",
    "        figure_h.xgrid.grid_line_color=None\n",
    "        figure_h.ygrid.grid_line_alpha=0.7\n",
    "        figure_h.xaxis.axis_label='STD_DESV'\n",
    "        figure_h.yaxis.axis_label='Probability'\n",
    "        figure_h.quad(top=hist,bottom=0,left=edges[:-1],right=edges[1:],\n",
    "              fill_color='#008080',line_color='black',legend_label='Binomial_distribution')\n",
    "        figure_h.line(x,y,color='#181515',line_width=2)\n",
    "        return figure_h"
   ]
  },
  {
   "cell_type": "markdown",
   "id": "82556f0b",
   "metadata": {},
   "source": [
    "# Analisis de datos"
   ]
  },
  {
   "cell_type": "markdown",
   "id": "bd9c8729",
   "metadata": {},
   "source": [
    "## Creando distribuciones"
   ]
  },
  {
   "cell_type": "code",
   "execution_count": 11,
   "id": "84c7e15a",
   "metadata": {},
   "outputs": [],
   "source": [
    "# Creación de la disttribucion normal\n",
    "normal_data=np.array([random.normalvariate(500,15) for i in range(50000)])"
   ]
  },
  {
   "cell_type": "code",
   "execution_count": 12,
   "id": "4a0f4079",
   "metadata": {},
   "outputs": [],
   "source": [
    "#Creacion de la distribución lognormal\n",
    "lognormal_data=np.random.lognormal(1,0.9,50000)"
   ]
  },
  {
   "cell_type": "code",
   "execution_count": 13,
   "id": "cce53571",
   "metadata": {},
   "outputs": [],
   "source": [
    "# Creación de la distribución binomial\n",
    "binomial_data=binm_data=np.random.binomial(n=500,p=0.1,size=50000)"
   ]
  },
  {
   "cell_type": "markdown",
   "id": "c99e65b5",
   "metadata": {},
   "source": [
    "## Creando el DataFrame"
   ]
  },
  {
   "cell_type": "code",
   "execution_count": 14,
   "id": "af5d7ab7",
   "metadata": {},
   "outputs": [],
   "source": [
    "#Creación del diccionario para usarlo en un DatFrame\n",
    "Data_distributions={\n",
    "    'bino':binomial_data,\n",
    "    'norm':normal_data,\n",
    "    'lognorm':lognormal_data\n",
    "}"
   ]
  },
  {
   "cell_type": "code",
   "execution_count": 15,
   "id": "94e279b2",
   "metadata": {},
   "outputs": [],
   "source": [
    "#Creación del DataFrame\n",
    "Distributions_to_study=pd.DataFrame(Data_distributions)"
   ]
  },
  {
   "cell_type": "markdown",
   "id": "c4cd849a",
   "metadata": {
    "heading_collapsed": true
   },
   "source": [
    "## Definiendo los valores Q-Q para las graficas Q-Q"
   ]
  },
  {
   "cell_type": "code",
   "execution_count": 16,
   "id": "4e37f27d",
   "metadata": {
    "hidden": true
   },
   "outputs": [],
   "source": [
    "#Q_Q_Graphs(Data,column,distribution,s,n,p)\n",
    "#You need to pass the Data, column\n",
    "#You can change the kind of distribution ['normal','lognormal','binomial']\n",
    "#Scale for distribution lognormal\n",
    "#n y p for distribution binomial\n",
    "\n",
    "Data_prueba,Grafica_Q_Q=Q_Q_Graphs(Distributions_to_study,'norm','normal',0.9,500,0.1)\n",
    "Data_prueba_log,Grafica_Q_Q_log=Q_Q_Graphs(Distributions_to_study,'lognorm','lognormal',0.9,500,0.1)\n",
    "Data_prueba_bin,Grafica_Q_Q_bin=Q_Q_Graphs(Distributions_to_study,'bino','binomial',0.9,500,0.1)"
   ]
  },
  {
   "cell_type": "markdown",
   "id": "3e23aabc",
   "metadata": {},
   "source": [
    "## Definiendo los intervalos en los histogramas"
   ]
  },
  {
   "cell_type": "code",
   "execution_count": 17,
   "id": "00a8ba66",
   "metadata": {},
   "outputs": [],
   "source": [
    "#histogram_plot(Data,column,distribution,m=0,std=1,s=0.9,n=500,p=0.1)\n",
    "#You need to pass the Data, column\n",
    "#You can change the kind of distribution ['normal','lognormal','binomial']\n",
    "#Scale for distribution lognormal\n",
    "#n y p for distribution binomial\n",
    "histograma_1=histogram_plot(Distributions_to_study,'norm','normal',m=500,std=15,s=0.9,n=500,p=0.1)\n",
    "histograma_2=histogram_plot(Distributions_to_study,'lognorm','lognormal',m=500,std=15,s=1,n=500,p=0.1)\n",
    "histograma_3=histogram_plot(Distributions_to_study,'bino','binomial',m=500,std=15,s=0.9,n=500,p=0.1)"
   ]
  },
  {
   "cell_type": "code",
   "execution_count": 22,
   "id": "7cb9f469",
   "metadata": {},
   "outputs": [
    {
     "name": "stderr",
     "output_type": "stream",
     "text": [
      "BokehUserWarning: ColumnDataSource's columns must be of the same length. Current lengths: ('left', 3), ('top', 4)\n",
      "BokehUserWarning: ColumnDataSource's columns must be of the same length. Current lengths: ('left', 3), ('right', 3), ('top', 4)\n"
     ]
    }
   ],
   "source": [
    "#histogram_plot_limit(Data,column,distribution,m=0,std=1,s=0.9,n=500,p=0.1,limit1,limit2)\n",
    "#You need to pass the Data, column\n",
    "#You can change the kind of distribution ['normal','lognormal','binomial']\n",
    "#Scale for distribution lognormal\n",
    "#n y p for distribution binomial\n",
    "#limit 1 is the min value for you want to calculated the probability\n",
    "#limit 2 is the max value for you want to calculated the probability\n",
    "histograma_11=histogram_plot_limit(Distributions_to_study,'norm','normal',505,510,m=500,std=15,s=0.9,\n",
    "                                    n=500,p=0.1)"
   ]
  },
  {
   "cell_type": "markdown",
   "id": "85836baa",
   "metadata": {
    "heading_collapsed": true
   },
   "source": [
    "## Curtosis & Sesgo"
   ]
  },
  {
   "cell_type": "code",
   "execution_count": 23,
   "id": "2c780491",
   "metadata": {
    "hidden": true
   },
   "outputs": [
    {
     "name": "stdout",
     "output_type": "stream",
     "text": [
      "Kursotis: 0.017429989249463596\n",
      "Skewness: -0.018343441926216817\n"
     ]
    }
   ],
   "source": [
    "print('Kursotis:', stats.kurtosis(Distributions_to_study.norm))\n",
    "print('Skewness:', stats.skew(Distributions_to_study.norm))"
   ]
  },
  {
   "cell_type": "markdown",
   "id": "06d417f0",
   "metadata": {
    "heading_collapsed": true
   },
   "source": [
    "## Test Shapiro Wilik\n",
    "### H0: Normalidad de datos\n",
    "### H1: No normalidad de los datos\n",
    "### p>signifigicancia(0.05) se acepta H0"
   ]
  },
  {
   "cell_type": "code",
   "execution_count": 24,
   "id": "4d9ef57d",
   "metadata": {
    "hidden": true
   },
   "outputs": [
    {
     "name": "stderr",
     "output_type": "stream",
     "text": [
      "C:\\Users\\ferna\\AppData\\Local\\Programs\\Python\\Python310\\lib\\site-packages\\scipy\\stats\\_morestats.py:1761: UserWarning: p-value may not be accurate for N > 5000.\n",
      "  warnings.warn(\"p-value may not be accurate for N > 5000.\")\n"
     ]
    },
    {
     "data": {
      "text/plain": [
       "ShapiroResult(statistic=0.9971585273742676, pvalue=2.2347855517787837e-28)"
      ]
     },
     "execution_count": 24,
     "metadata": {},
     "output_type": "execute_result"
    }
   ],
   "source": [
    "# Shapiro-Wilk test\n",
    "# ==============================================================================\n",
    "shapiro_test = stats.shapiro(Distributions_to_study.bino)\n",
    "shapiro_test"
   ]
  },
  {
   "cell_type": "markdown",
   "id": "fa7f6410",
   "metadata": {
    "heading_collapsed": true
   },
   "source": [
    "## Test Shapiro K Square (D' Agostino's)\n",
    "### H0: Normalidad de datos\n",
    "### H1: No normalidad de los datos\n",
    "### p>signifigicancia(0.05) se acepta H0"
   ]
  },
  {
   "cell_type": "code",
   "execution_count": 25,
   "id": "b3927264",
   "metadata": {
    "hidden": true
   },
   "outputs": [
    {
     "name": "stdout",
     "output_type": "stream",
     "text": [
      "Estadístico = 119.89452666673891, p-value = 9.230693466304165e-27\n"
     ]
    }
   ],
   "source": [
    "# D'Agostino's K-squared test\n",
    "# ==============================================================================\n",
    "k2, p_value = stats.normaltest(Distributions_to_study.bino)\n",
    "print(f\"Estadístico = {k2}, p-value = {p_value}\")"
   ]
  },
  {
   "cell_type": "markdown",
   "id": "39e4cc81",
   "metadata": {},
   "source": [
    "# Ordenamiento de graficos"
   ]
  },
  {
   "cell_type": "code",
   "execution_count": 26,
   "id": "1aa8159a",
   "metadata": {},
   "outputs": [],
   "source": [
    "layout_total=layout([[histograma_11,histograma_2,histograma_3],[Grafica_Q_Q,Grafica_Q_Q_log,Grafica_Q_Q_bin]])"
   ]
  },
  {
   "cell_type": "code",
   "execution_count": 27,
   "id": "a51fc3ac",
   "metadata": {},
   "outputs": [],
   "source": [
    "show(layout_total)"
   ]
  },
  {
   "cell_type": "markdown",
   "id": "2366ea20",
   "metadata": {},
   "source": [
    "# Abrimos un parentesis para el calculo de probabilidades"
   ]
  },
  {
   "cell_type": "code",
   "execution_count": 28,
   "id": "20116450",
   "metadata": {},
   "outputs": [
    {
     "data": {
      "text/plain": [
       "'\\nmu=500\\nsigma=15\\nP1=stats.norm.cdf(505,500,15)\\nP2=stats.norm.cdf(510,500,15)\\nprint(P2-P1)\\n'"
      ]
     },
     "execution_count": 28,
     "metadata": {},
     "output_type": "execute_result"
    }
   ],
   "source": [
    "#calcular la probabilidad de que tengamos valores entre 505<=x<=510\n",
    "\"\"\"\n",
    "mu=500\n",
    "sigma=15\n",
    "P1=stats.norm.cdf(505,500,15)\n",
    "P2=stats.norm.cdf(510,500,15)\n",
    "print(P2-P1)\n",
    "\"\"\""
   ]
  },
  {
   "cell_type": "code",
   "execution_count": 29,
   "id": "19586d44",
   "metadata": {},
   "outputs": [
    {
     "data": {
      "text/plain": [
       "'\\nmu2=1\\nsigma2=0.9\\nP3=stats.lognorm.cdf(2,mu2,sigma2)\\nprint(P3)\\n'"
      ]
     },
     "execution_count": 29,
     "metadata": {},
     "output_type": "execute_result"
    }
   ],
   "source": [
    "\"\"\"\n",
    "mu2=1\n",
    "sigma2=0.9\n",
    "P3=stats.lognorm.cdf(2,mu2,sigma2)\n",
    "print(P3)\n",
    "\"\"\""
   ]
  },
  {
   "cell_type": "code",
   "execution_count": 30,
   "id": "10f20ec6",
   "metadata": {},
   "outputs": [
    {
     "data": {
      "text/plain": [
       "'\\nn3=500\\np3=0.1\\nP3=stats.binom.cdf(40,n3,p3)\\nprint(P3)\\n'"
      ]
     },
     "execution_count": 30,
     "metadata": {},
     "output_type": "execute_result"
    }
   ],
   "source": [
    "\"\"\"\n",
    "n3=500\n",
    "p3=0.1\n",
    "P3=stats.binom.cdf(40,n3,p3)\n",
    "print(P3)\n",
    "\"\"\""
   ]
  },
  {
   "cell_type": "code",
   "execution_count": 31,
   "id": "2c7fd35b",
   "metadata": {},
   "outputs": [
    {
     "data": {
      "text/plain": [
       "\"\\nnormal_data=np.array([random.normalvariate(500,15) for i in range(5000)])\\n#Creación del diccionario para usarlo en un DatFrame\\nData_distributions={\\n    'norm':normal_data\\n}\\n#Creación del DataFrame\\nData=pd.DataFrame(Data_distributions)\\n\""
      ]
     },
     "execution_count": 31,
     "metadata": {},
     "output_type": "execute_result"
    }
   ],
   "source": [
    "# Creación de la disttribucion normal\n",
    "\"\"\"\n",
    "normal_data=np.array([random.normalvariate(500,15) for i in range(5000)])\n",
    "#Creación del diccionario para usarlo en un DatFrame\n",
    "Data_distributions={\n",
    "    'norm':normal_data\n",
    "}\n",
    "#Creación del DataFrame\n",
    "Data=pd.DataFrame(Data_distributions)\n",
    "\"\"\""
   ]
  },
  {
   "cell_type": "code",
   "execution_count": 32,
   "id": "63717a09",
   "metadata": {},
   "outputs": [
    {
     "data": {
      "text/plain": [
       "\"\\nN=Data['norm'].count()\\nNumber_intervals=int(round(1+3.322*math.log10(N),0))\\n\""
      ]
     },
     "execution_count": 32,
     "metadata": {},
     "output_type": "execute_result"
    }
   ],
   "source": [
    "\"\"\"\n",
    "N=Data['norm'].count()\n",
    "Number_intervals=int(round(1+3.322*math.log10(N),0))\n",
    "\"\"\""
   ]
  },
  {
   "cell_type": "code",
   "execution_count": 33,
   "id": "4bb05fa4",
   "metadata": {},
   "outputs": [],
   "source": [
    "#hist,edges=np.histogram(Data['norm'],density=True,bins=100)#Se editan los bins\n"
   ]
  },
  {
   "cell_type": "code",
   "execution_count": 34,
   "id": "d2348cf6",
   "metadata": {
    "scrolled": true
   },
   "outputs": [
    {
     "data": {
      "text/plain": [
       "'\\nposiciones=np.where((edges>=505)&(edges<510))\\nposiciones\\n'"
      ]
     },
     "execution_count": 34,
     "metadata": {},
     "output_type": "execute_result"
    }
   ],
   "source": [
    "\"\"\"\n",
    "posiciones=np.where((edges>=505)&(edges<510))\n",
    "posiciones\n",
    "\"\"\""
   ]
  },
  {
   "cell_type": "code",
   "execution_count": 35,
   "id": "db301bbe",
   "metadata": {},
   "outputs": [
    {
     "data": {
      "text/plain": [
       "'\\nindex_Incial=posiciones[0][0]\\nindex_final=posiciones[0][-1]\\nedges_marcado=edges[Index_Incial:Index_final+1]\\n'"
      ]
     },
     "execution_count": 35,
     "metadata": {},
     "output_type": "execute_result"
    }
   ],
   "source": [
    "\"\"\"\n",
    "index_Incial=posiciones[0][0]\n",
    "index_final=posiciones[0][-1]\n",
    "edges_marcado=edges[Index_Incial:Index_final+1]\n",
    "\"\"\""
   ]
  },
  {
   "cell_type": "code",
   "execution_count": 36,
   "id": "5d6a1cfe",
   "metadata": {},
   "outputs": [
    {
     "data": {
      "text/plain": [
       "'\\nindex_Incial=posiciones[0][0]\\nindex_final=posiciones[0][-1]\\nedges_marcado=edges[Index_Incial:Index_final+1]\\nhist_marcado=hist[Index_Incial:Index_final+1]\\n'"
      ]
     },
     "execution_count": 36,
     "metadata": {},
     "output_type": "execute_result"
    }
   ],
   "source": [
    "\"\"\"\n",
    "index_Incial=posiciones[0][0]\n",
    "index_final=posiciones[0][-1]\n",
    "edges_marcado=edges[Index_Incial:Index_final+1]\n",
    "hist_marcado=hist[Index_Incial:Index_final+1]\n",
    "\"\"\""
   ]
  },
  {
   "cell_type": "code",
   "execution_count": 37,
   "id": "8ab0c2a1",
   "metadata": {},
   "outputs": [],
   "source": [
    "#hist_marcado"
   ]
  },
  {
   "cell_type": "code",
   "execution_count": 38,
   "id": "8ecf3634",
   "metadata": {},
   "outputs": [
    {
     "data": {
      "text/plain": [
       "\"\\nx = np.linspace(min(Data['norm']), max(Data['norm']), num=N)\\ny = stats.norm.pdf(x,500,15)\\n        # Histograma distribución normal\\nfigure_h=figure(title='NORMAL_DISTRIBUTION',plot_width=600,plot_height=400)\\nfigure_h.xgrid.grid_line_color=None\\nfigure_h.ygrid.grid_line_alpha=0.7\\nfigure_h.xaxis.axis_label='STD_DESV'\\nfigure_h.yaxis.axis_label='Probability'\\nfigure_h.quad(top=hist,bottom=0,left=edges[:-1],right=edges[1:],\\n              fill_color='#008080',line_color='black',legend_label='Normal_distribution')\\nfigure_h.quad(top=hist_marcado,bottom=0,left=edges_marcado[:-1],right=edges_marcado[1:],\\n              fill_color='#512E5F',line_color='black',legend_label='Normal_distribution')\\n\\nfigure_h.line(x,y,color='#181515',line_width=2)\\n\""
      ]
     },
     "execution_count": 38,
     "metadata": {},
     "output_type": "execute_result"
    }
   ],
   "source": [
    "\"\"\"\n",
    "x = np.linspace(min(Data['norm']), max(Data['norm']), num=N)\n",
    "y = stats.norm.pdf(x,500,15)\n",
    "        # Histograma distribución normal\n",
    "figure_h=figure(title='NORMAL_DISTRIBUTION',plot_width=600,plot_height=400)\n",
    "figure_h.xgrid.grid_line_color=None\n",
    "figure_h.ygrid.grid_line_alpha=0.7\n",
    "figure_h.xaxis.axis_label='STD_DESV'\n",
    "figure_h.yaxis.axis_label='Probability'\n",
    "figure_h.quad(top=hist,bottom=0,left=edges[:-1],right=edges[1:],\n",
    "              fill_color='#008080',line_color='black',legend_label='Normal_distribution')\n",
    "figure_h.quad(top=hist_marcado,bottom=0,left=edges_marcado[:-1],right=edges_marcado[1:],\n",
    "              fill_color='#512E5F',line_color='black',legend_label='Normal_distribution')\n",
    "\n",
    "figure_h.line(x,y,color='#181515',line_width=2)\n",
    "\"\"\""
   ]
  },
  {
   "cell_type": "code",
   "execution_count": 39,
   "id": "05653a0a",
   "metadata": {},
   "outputs": [],
   "source": [
    "#show(figure_h)"
   ]
  },
  {
   "cell_type": "code",
   "execution_count": null,
   "id": "cfcae9cd",
   "metadata": {},
   "outputs": [],
   "source": []
  }
 ],
 "metadata": {
  "kernelspec": {
   "display_name": "Python 3 (ipykernel)",
   "language": "python",
   "name": "python3"
  },
  "language_info": {
   "codemirror_mode": {
    "name": "ipython",
    "version": 3
   },
   "file_extension": ".py",
   "mimetype": "text/x-python",
   "name": "python",
   "nbconvert_exporter": "python",
   "pygments_lexer": "ipython3",
   "version": "3.10.1"
  },
  "toc": {
   "base_numbering": 1,
   "nav_menu": {},
   "number_sections": true,
   "sideBar": true,
   "skip_h1_title": false,
   "title_cell": "Table of Contents",
   "title_sidebar": "Contents",
   "toc_cell": false,
   "toc_position": {},
   "toc_section_display": true,
   "toc_window_display": false
  }
 },
 "nbformat": 4,
 "nbformat_minor": 5
}
