{
 "cells": [
  {
   "cell_type": "markdown",
   "id": "a017395c",
   "metadata": {},
   "source": [
    "# Importando librerias"
   ]
  },
  {
   "cell_type": "code",
   "execution_count": 70,
   "id": "d0d99102",
   "metadata": {},
   "outputs": [],
   "source": [
    "import pandas as pd\n",
    "import numpy as np\n",
    "from bokeh.io import output_notebook,show\n",
    "from bokeh.plotting import figure\n",
    "from bokeh.layouts import layout\n",
    "import sqlite3"
   ]
  },
  {
   "cell_type": "code",
   "execution_count": 71,
   "id": "65902dbb",
   "metadata": {},
   "outputs": [],
   "source": [
    "from bokeh.models import (ColumnDataSource, DataRange1d, Legend, Line, LinearAxis,\n",
    "                          PanTool, Plot, SaveTool, Scatter, WheelZoomTool)"
   ]
  },
  {
   "cell_type": "code",
   "execution_count": 72,
   "id": "73d91a92",
   "metadata": {},
   "outputs": [],
   "source": [
    "# Librerias para el analisis estadistico\n",
    "import statsmodels.api as sm\n",
    "from scipy import stats"
   ]
  },
  {
   "cell_type": "code",
   "execution_count": 73,
   "id": "d7e20feb",
   "metadata": {},
   "outputs": [],
   "source": [
    "import math"
   ]
  },
  {
   "cell_type": "markdown",
   "id": "440c5f40",
   "metadata": {},
   "source": [
    "# Realizando conexiones"
   ]
  },
  {
   "cell_type": "code",
   "execution_count": 74,
   "id": "dbd08ed5",
   "metadata": {},
   "outputs": [],
   "source": [
    "conection=sqlite3.connect('E:/DB SQL3/DATA_BASE_FLOWERS_SIZE/DB_FLOWERS_SIZE.db')\n",
    "query_flowers=\"\"\"\n",
    "    SELECT *\n",
    "    FROM Flower_Size\n",
    "    \"\"\""
   ]
  },
  {
   "cell_type": "code",
   "execution_count": 75,
   "id": "6f2833e2",
   "metadata": {},
   "outputs": [],
   "source": [
    "DataFrameFlowers=pd.read_sql_query(query_flowers,conection)"
   ]
  },
  {
   "cell_type": "markdown",
   "id": "e4c1bf32",
   "metadata": {},
   "source": [
    "# Analisis de datos"
   ]
  },
  {
   "cell_type": "code",
   "execution_count": 76,
   "id": "a43a6f7f",
   "metadata": {},
   "outputs": [
    {
     "name": "stdout",
     "output_type": "stream",
     "text": [
      "<class 'pandas.core.frame.DataFrame'>\n",
      "RangeIndex: 1741 entries, 0 to 1740\n",
      "Data columns (total 3 columns):\n",
      " #   Column        Non-Null Count  Dtype\n",
      "---  ------        --------------  -----\n",
      " 0   Id_Event      1741 non-null   int64\n",
      " 1   Id_scientist  1741 non-null   int64\n",
      " 2   Size_flower   1741 non-null   int64\n",
      "dtypes: int64(3)\n",
      "memory usage: 40.9 KB\n"
     ]
    }
   ],
   "source": [
    "DataFrameFlowers.info()"
   ]
  },
  {
   "cell_type": "code",
   "execution_count": 77,
   "id": "05f893bc",
   "metadata": {},
   "outputs": [],
   "source": [
    "size_flowers=DataFrameFlowers[['Size_flower']].copy()\n",
    "size_flowers[['Size_flower']]=size_flowers[['Size_flower']]/1000000"
   ]
  },
  {
   "cell_type": "code",
   "execution_count": 78,
   "id": "e63e8b2b",
   "metadata": {},
   "outputs": [],
   "source": [
    "# Valores de la media (mu) y desviación típica (sigma) de los datos\n",
    "mu, sigma = stats.norm.fit(size_flowers)\n"
   ]
  },
  {
   "cell_type": "code",
   "execution_count": 79,
   "id": "d356e44e",
   "metadata": {},
   "outputs": [
    {
     "name": "stdout",
     "output_type": "stream",
     "text": [
      "1741 12\n"
     ]
    }
   ],
   "source": [
    "#Calculando el numero de intervalos del histograma\n",
    "N=size_flowers.Size_flower.count()\n",
    "Number_intervals=int(round(1+3.322*math.log10(N),0))\n",
    "print(N,Number_intervals)"
   ]
  },
  {
   "cell_type": "code",
   "execution_count": 80,
   "id": "6f3dcc42",
   "metadata": {},
   "outputs": [],
   "source": [
    "# Valores teóricos de la normal en el rango observado\n",
    "x_hat = np.linspace(min(size_flowers.Size_flower), max(size_flowers.Size_flower), num=N)\n",
    "y_hat = stats.norm.pdf(x_hat, mu, sigma)"
   ]
  },
  {
   "cell_type": "code",
   "execution_count": 81,
   "id": "06fb96f1",
   "metadata": {},
   "outputs": [
    {
     "name": "stdout",
     "output_type": "stream",
     "text": [
      "Mean with pandas 3669.9197450580127  Stats Mu 3669.9197450580127\n",
      "StdDev with pandas 2675.218036883959  Stats Sigma 2674.4496272639476\n",
      "The mean and STD Dev is ecual with the two methods\n"
     ]
    }
   ],
   "source": [
    "print(\"Mean with pandas\",size_flowers.Size_flower.mean(),\" Stats Mu\",mu)\n",
    "print(\"StdDev with pandas\",size_flowers.Size_flower.std(),\" Stats Sigma\",sigma)\n",
    "print(\"The mean and STD Dev is ecual with the two methods\")"
   ]
  },
  {
   "cell_type": "markdown",
   "id": "4520c552",
   "metadata": {},
   "source": [
    "## Datos de la grafica Q-Q"
   ]
  },
  {
   "cell_type": "code",
   "execution_count": 82,
   "id": "aaeadf2b",
   "metadata": {},
   "outputs": [],
   "source": [
    "# Grafica Q-Q\n",
    "Values_order=size_flowers.sort_values(by='Size_flower')  "
   ]
  },
  {
   "cell_type": "code",
   "execution_count": 83,
   "id": "64ccabfa",
   "metadata": {},
   "outputs": [
    {
     "data": {
      "text/plain": [
       "1741"
      ]
     },
     "execution_count": 83,
     "metadata": {},
     "output_type": "execute_result"
    }
   ],
   "source": [
    "N_Values_order=Values_order.Size_flower.count()\n",
    "N_Values_order"
   ]
  },
  {
   "cell_type": "code",
   "execution_count": 84,
   "id": "4d623b46",
   "metadata": {},
   "outputs": [],
   "source": [
    "Values_order=Values_order.reset_index(drop=True)\n",
    "Values_order=Values_order.reset_index()\n"
   ]
  },
  {
   "cell_type": "code",
   "execution_count": 85,
   "id": "ce43a7f1",
   "metadata": {},
   "outputs": [],
   "source": [
    "Values_order['i']=Values_order['index']+1\n",
    "Values_order['j']=(Values_order['i']-(1/2))/N_Values_order\n",
    "Values_order['Z']=stats.norm().ppf(Values_order['j'])\n"
   ]
  },
  {
   "cell_type": "markdown",
   "id": "9a79663b",
   "metadata": {},
   "source": [
    "## Curtosis y asimetria"
   ]
  },
  {
   "cell_type": "code",
   "execution_count": 86,
   "id": "34d9174e",
   "metadata": {},
   "outputs": [
    {
     "name": "stdout",
     "output_type": "stream",
     "text": [
      "Kursotis: -0.5557086667017597\n",
      "Skewness: 0.9097228938537244\n"
     ]
    }
   ],
   "source": [
    "print('Kursotis:', stats.kurtosis(size_flowers.Size_flower))\n",
    "print('Skewness:', stats.skew(size_flowers.Size_flower))"
   ]
  },
  {
   "cell_type": "markdown",
   "id": "b7683b35",
   "metadata": {},
   "source": [
    "## Test Shapiro -Wilk"
   ]
  },
  {
   "cell_type": "markdown",
   "id": "c9dd5cf9",
   "metadata": {},
   "source": [
    "### H0 : Los datos tienen normalidad\n",
    "###  H1: Los datos no tienen normalidad"
   ]
  },
  {
   "cell_type": "code",
   "execution_count": 87,
   "id": "9aae21d9",
   "metadata": {},
   "outputs": [
    {
     "data": {
      "text/plain": [
       "ShapiroResult(statistic=0.8186993598937988, pvalue=1.671538873169858e-40)"
      ]
     },
     "execution_count": 87,
     "metadata": {},
     "output_type": "execute_result"
    }
   ],
   "source": [
    "# Shapiro-Wilk test\n",
    "# ==============================================================================\n",
    "shapiro_test = stats.shapiro(size_flowers.Size_flower)\n",
    "shapiro_test"
   ]
  },
  {
   "cell_type": "markdown",
   "id": "948f5009",
   "metadata": {},
   "source": [
    "## Test  K-square"
   ]
  },
  {
   "cell_type": "markdown",
   "id": "d1c7accf",
   "metadata": {},
   "source": [
    "### H0 : Los datos tienen normalidad\n",
    "###  H1: Los datos no tienen normalidad"
   ]
  },
  {
   "cell_type": "code",
   "execution_count": 88,
   "id": "18bf66b1",
   "metadata": {},
   "outputs": [
    {
     "name": "stdout",
     "output_type": "stream",
     "text": [
      "Estadístico = 224.06785933579874, p-value = 2.2094417654625057e-49\n"
     ]
    }
   ],
   "source": [
    "# D'Agostino's K-squared test\n",
    "# ==============================================================================\n",
    "k2, p_value = stats.normaltest(size_flowers.Size_flower)\n",
    "print(f\"Estadístico = {k2}, p-value = {p_value}\")"
   ]
  },
  {
   "cell_type": "markdown",
   "id": "0837f4f0",
   "metadata": {
    "heading_collapsed": true
   },
   "source": [
    "# Generación de graficas"
   ]
  },
  {
   "cell_type": "code",
   "execution_count": 89,
   "id": "1677c272",
   "metadata": {
    "hidden": true
   },
   "outputs": [
    {
     "data": {
      "text/html": [
       "<div style=\"display: table;\"><div style=\"display: table-row;\"><div style=\"display: table-cell;\"><b title=\"bokeh.models.renderers.GlyphRenderer\">GlyphRenderer</b>(</div><div style=\"display: table-cell;\">id&nbsp;=&nbsp;'2028', <span id=\"2031\" style=\"cursor: pointer;\">&hellip;)</span></div></div><div class=\"2030\" style=\"display: none;\"><div style=\"display: table-cell;\"></div><div style=\"display: table-cell;\">coordinates&nbsp;=&nbsp;None,</div></div><div class=\"2030\" style=\"display: none;\"><div style=\"display: table-cell;\"></div><div style=\"display: table-cell;\">data_source&nbsp;=&nbsp;ColumnDataSource(id='2024', ...),</div></div><div class=\"2030\" style=\"display: none;\"><div style=\"display: table-cell;\"></div><div style=\"display: table-cell;\">glyph&nbsp;=&nbsp;Line(id='2025', ...),</div></div><div class=\"2030\" style=\"display: none;\"><div style=\"display: table-cell;\"></div><div style=\"display: table-cell;\">group&nbsp;=&nbsp;None,</div></div><div class=\"2030\" style=\"display: none;\"><div style=\"display: table-cell;\"></div><div style=\"display: table-cell;\">hover_glyph&nbsp;=&nbsp;None,</div></div><div class=\"2030\" style=\"display: none;\"><div style=\"display: table-cell;\"></div><div style=\"display: table-cell;\">js_event_callbacks&nbsp;=&nbsp;{},</div></div><div class=\"2030\" style=\"display: none;\"><div style=\"display: table-cell;\"></div><div style=\"display: table-cell;\">js_property_callbacks&nbsp;=&nbsp;{},</div></div><div class=\"2030\" style=\"display: none;\"><div style=\"display: table-cell;\"></div><div style=\"display: table-cell;\">level&nbsp;=&nbsp;'glyph',</div></div><div class=\"2030\" style=\"display: none;\"><div style=\"display: table-cell;\"></div><div style=\"display: table-cell;\">muted&nbsp;=&nbsp;False,</div></div><div class=\"2030\" style=\"display: none;\"><div style=\"display: table-cell;\"></div><div style=\"display: table-cell;\">muted_glyph&nbsp;=&nbsp;Line(id='2027', ...),</div></div><div class=\"2030\" style=\"display: none;\"><div style=\"display: table-cell;\"></div><div style=\"display: table-cell;\">name&nbsp;=&nbsp;None,</div></div><div class=\"2030\" style=\"display: none;\"><div style=\"display: table-cell;\"></div><div style=\"display: table-cell;\">nonselection_glyph&nbsp;=&nbsp;Line(id='2026', ...),</div></div><div class=\"2030\" style=\"display: none;\"><div style=\"display: table-cell;\"></div><div style=\"display: table-cell;\">selection_glyph&nbsp;=&nbsp;'auto',</div></div><div class=\"2030\" style=\"display: none;\"><div style=\"display: table-cell;\"></div><div style=\"display: table-cell;\">subscribed_events&nbsp;=&nbsp;[],</div></div><div class=\"2030\" style=\"display: none;\"><div style=\"display: table-cell;\"></div><div style=\"display: table-cell;\">syncable&nbsp;=&nbsp;True,</div></div><div class=\"2030\" style=\"display: none;\"><div style=\"display: table-cell;\"></div><div style=\"display: table-cell;\">tags&nbsp;=&nbsp;[],</div></div><div class=\"2030\" style=\"display: none;\"><div style=\"display: table-cell;\"></div><div style=\"display: table-cell;\">view&nbsp;=&nbsp;CDSView(id='2029', ...),</div></div><div class=\"2030\" style=\"display: none;\"><div style=\"display: table-cell;\"></div><div style=\"display: table-cell;\">visible&nbsp;=&nbsp;True,</div></div><div class=\"2030\" style=\"display: none;\"><div style=\"display: table-cell;\"></div><div style=\"display: table-cell;\">x_range_name&nbsp;=&nbsp;'default',</div></div><div class=\"2030\" style=\"display: none;\"><div style=\"display: table-cell;\"></div><div style=\"display: table-cell;\">y_range_name&nbsp;=&nbsp;'default')</div></div></div>\n",
       "<script>\n",
       "(function() {\n",
       "  let expanded = false;\n",
       "  const ellipsis = document.getElementById(\"2031\");\n",
       "  ellipsis.addEventListener(\"click\", function() {\n",
       "    const rows = document.getElementsByClassName(\"2030\");\n",
       "    for (let i = 0; i < rows.length; i++) {\n",
       "      const el = rows[i];\n",
       "      el.style.display = expanded ? \"none\" : \"table-row\";\n",
       "    }\n",
       "    ellipsis.innerHTML = expanded ? \"&hellip;)\" : \"&lsaquo;&lsaquo;&lsaquo;\";\n",
       "    expanded = !expanded;\n",
       "  });\n",
       "})();\n",
       "</script>\n"
      ],
      "text/plain": [
       "GlyphRenderer(id='2028', ...)"
      ]
     },
     "execution_count": 89,
     "metadata": {},
     "output_type": "execute_result"
    }
   ],
   "source": [
    "figure_1=figure(title='Histogram of size flowers',plot_width=1600,plot_height=400)\n",
    "hist,edges=np.histogram(size_flowers.Size_flower,density=True,bins=Number_intervals)\n",
    "figure_1.xgrid.grid_line_color=None\n",
    "figure_1.ygrid.grid_line_alpha=0.7\n",
    "figure_1.xaxis.axis_label='Size'\n",
    "figure_1.yaxis.axis_label='Probability desity'\n",
    "figure_1.y_range.start = 0\n",
    "figure_1.x_range.start = 0\n",
    "figure_1.quad(top=hist,bottom=0,left=edges[:-1],right=edges[1:],\n",
    "      fill_color='#008080',line_color='black',legend_label='Size Flower')\n",
    "figure_1.line(x_hat,y_hat,color='#181515',line_width=2)"
   ]
  },
  {
   "cell_type": "markdown",
   "id": "bad308e5",
   "metadata": {},
   "source": [
    "# Construyendo graficos Q-Q"
   ]
  },
  {
   "cell_type": "code",
   "execution_count": 90,
   "id": "a9d3108b",
   "metadata": {},
   "outputs": [
    {
     "data": {
      "text/html": [
       "<div style=\"display: table;\"><div style=\"display: table-row;\"><div style=\"display: table-cell;\"><b title=\"bokeh.models.renderers.GlyphRenderer\">GlyphRenderer</b>(</div><div style=\"display: table-cell;\">id&nbsp;=&nbsp;'2069', <span id=\"2084\" style=\"cursor: pointer;\">&hellip;)</span></div></div><div class=\"2083\" style=\"display: none;\"><div style=\"display: table-cell;\"></div><div style=\"display: table-cell;\">coordinates&nbsp;=&nbsp;None,</div></div><div class=\"2083\" style=\"display: none;\"><div style=\"display: table-cell;\"></div><div style=\"display: table-cell;\">data_source&nbsp;=&nbsp;ColumnDataSource(id='2065', ...),</div></div><div class=\"2083\" style=\"display: none;\"><div style=\"display: table-cell;\"></div><div style=\"display: table-cell;\">glyph&nbsp;=&nbsp;Scatter(id='2066', ...),</div></div><div class=\"2083\" style=\"display: none;\"><div style=\"display: table-cell;\"></div><div style=\"display: table-cell;\">group&nbsp;=&nbsp;None,</div></div><div class=\"2083\" style=\"display: none;\"><div style=\"display: table-cell;\"></div><div style=\"display: table-cell;\">hover_glyph&nbsp;=&nbsp;None,</div></div><div class=\"2083\" style=\"display: none;\"><div style=\"display: table-cell;\"></div><div style=\"display: table-cell;\">js_event_callbacks&nbsp;=&nbsp;{},</div></div><div class=\"2083\" style=\"display: none;\"><div style=\"display: table-cell;\"></div><div style=\"display: table-cell;\">js_property_callbacks&nbsp;=&nbsp;{},</div></div><div class=\"2083\" style=\"display: none;\"><div style=\"display: table-cell;\"></div><div style=\"display: table-cell;\">level&nbsp;=&nbsp;'glyph',</div></div><div class=\"2083\" style=\"display: none;\"><div style=\"display: table-cell;\"></div><div style=\"display: table-cell;\">muted&nbsp;=&nbsp;False,</div></div><div class=\"2083\" style=\"display: none;\"><div style=\"display: table-cell;\"></div><div style=\"display: table-cell;\">muted_glyph&nbsp;=&nbsp;Scatter(id='2068', ...),</div></div><div class=\"2083\" style=\"display: none;\"><div style=\"display: table-cell;\"></div><div style=\"display: table-cell;\">name&nbsp;=&nbsp;None,</div></div><div class=\"2083\" style=\"display: none;\"><div style=\"display: table-cell;\"></div><div style=\"display: table-cell;\">nonselection_glyph&nbsp;=&nbsp;Scatter(id='2067', ...),</div></div><div class=\"2083\" style=\"display: none;\"><div style=\"display: table-cell;\"></div><div style=\"display: table-cell;\">selection_glyph&nbsp;=&nbsp;'auto',</div></div><div class=\"2083\" style=\"display: none;\"><div style=\"display: table-cell;\"></div><div style=\"display: table-cell;\">subscribed_events&nbsp;=&nbsp;[],</div></div><div class=\"2083\" style=\"display: none;\"><div style=\"display: table-cell;\"></div><div style=\"display: table-cell;\">syncable&nbsp;=&nbsp;True,</div></div><div class=\"2083\" style=\"display: none;\"><div style=\"display: table-cell;\"></div><div style=\"display: table-cell;\">tags&nbsp;=&nbsp;[],</div></div><div class=\"2083\" style=\"display: none;\"><div style=\"display: table-cell;\"></div><div style=\"display: table-cell;\">view&nbsp;=&nbsp;CDSView(id='2070', ...),</div></div><div class=\"2083\" style=\"display: none;\"><div style=\"display: table-cell;\"></div><div style=\"display: table-cell;\">visible&nbsp;=&nbsp;True,</div></div><div class=\"2083\" style=\"display: none;\"><div style=\"display: table-cell;\"></div><div style=\"display: table-cell;\">x_range_name&nbsp;=&nbsp;'default',</div></div><div class=\"2083\" style=\"display: none;\"><div style=\"display: table-cell;\"></div><div style=\"display: table-cell;\">y_range_name&nbsp;=&nbsp;'default')</div></div></div>\n",
       "<script>\n",
       "(function() {\n",
       "  let expanded = false;\n",
       "  const ellipsis = document.getElementById(\"2084\");\n",
       "  ellipsis.addEventListener(\"click\", function() {\n",
       "    const rows = document.getElementsByClassName(\"2083\");\n",
       "    for (let i = 0; i < rows.length; i++) {\n",
       "      const el = rows[i];\n",
       "      el.style.display = expanded ? \"none\" : \"table-row\";\n",
       "    }\n",
       "    ellipsis.innerHTML = expanded ? \"&hellip;)\" : \"&lsaquo;&lsaquo;&lsaquo;\";\n",
       "    expanded = !expanded;\n",
       "  });\n",
       "})();\n",
       "</script>\n"
      ],
      "text/plain": [
       "GlyphRenderer(id='2069', ...)"
      ]
     },
     "execution_count": 90,
     "metadata": {},
     "output_type": "execute_result"
    }
   ],
   "source": [
    "figure_2=figure(title='Q-Q of size flowers',plot_width=1600,plot_height=400)\n",
    "figure_2.xgrid.grid_line_color=None\n",
    "figure_2.ygrid.grid_line_alpha=0.7\n",
    "figure_2.xaxis.axis_label='Size'\n",
    "figure_2.yaxis.axis_label='Probability desity'\n",
    "figure_2.y_range.start = 0\n",
    "figure_2.x_range.start = -5\n",
    "figure_2.scatter(Values_order.Z,Values_order.Size_flower,legend_label=f\"Legend at\\n{k2!r}\\n\")\n"
   ]
  },
  {
   "cell_type": "markdown",
   "id": "8c29b763",
   "metadata": {},
   "source": [
    "# Mostrando Datos"
   ]
  },
  {
   "cell_type": "code",
   "execution_count": 91,
   "id": "542630e8",
   "metadata": {},
   "outputs": [],
   "source": [
    "layout_total=layout([[figure_1],[figure_2]])\n",
    "show(layout_total)"
   ]
  },
  {
   "cell_type": "code",
   "execution_count": null,
   "id": "52f6f60a",
   "metadata": {},
   "outputs": [],
   "source": []
  }
 ],
 "metadata": {
  "kernelspec": {
   "display_name": "Python 3 (ipykernel)",
   "language": "python",
   "name": "python3"
  },
  "language_info": {
   "codemirror_mode": {
    "name": "ipython",
    "version": 3
   },
   "file_extension": ".py",
   "mimetype": "text/x-python",
   "name": "python",
   "nbconvert_exporter": "python",
   "pygments_lexer": "ipython3",
   "version": "3.10.1"
  },
  "toc": {
   "base_numbering": 1,
   "nav_menu": {},
   "number_sections": true,
   "sideBar": true,
   "skip_h1_title": false,
   "title_cell": "Table of Contents",
   "title_sidebar": "Contents",
   "toc_cell": false,
   "toc_position": {},
   "toc_section_display": true,
   "toc_window_display": false
  }
 },
 "nbformat": 4,
 "nbformat_minor": 5
}
