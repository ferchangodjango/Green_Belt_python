{
 "cells": [
  {
   "cell_type": "markdown",
   "id": "e1b8cc50",
   "metadata": {
    "heading_collapsed": true
   },
   "source": [
    "# Importacion de librerias"
   ]
  },
  {
   "cell_type": "code",
   "execution_count": 2,
   "id": "edb1d788",
   "metadata": {
    "hidden": true
   },
   "outputs": [],
   "source": [
    "import sqlite3"
   ]
  },
  {
   "cell_type": "code",
   "execution_count": 1,
   "id": "5ed3bc0b",
   "metadata": {
    "hidden": true
   },
   "outputs": [],
   "source": [
    "import pandas as pd\n",
    "import numpy as np\n",
    "import seaborn as sns\n",
    "import matplotlib.pyplot as plt\n",
    "import Histograms_QQ"
   ]
  },
  {
   "cell_type": "code",
   "execution_count": 3,
   "id": "49dcf02f",
   "metadata": {
    "hidden": true
   },
   "outputs": [],
   "source": [
    "from scipy import stats\n",
    "import pingouin as pg"
   ]
  },
  {
   "cell_type": "code",
   "execution_count": 14,
   "id": "fd07583f",
   "metadata": {
    "hidden": true
   },
   "outputs": [],
   "source": [
    "from bokeh.io import output_notebook,show\n",
    "from bokeh.plotting import figure\n",
    "from bokeh.layouts import layout"
   ]
  },
  {
   "cell_type": "markdown",
   "id": "ee6a6040",
   "metadata": {
    "heading_collapsed": true
   },
   "source": [
    "# Conección a la base Sqlite3"
   ]
  },
  {
   "cell_type": "code",
   "execution_count": 4,
   "id": "a7a289d0",
   "metadata": {
    "hidden": true
   },
   "outputs": [],
   "source": [
    "conection=sqlite3.connect('E:/DB SQL3/DATA_BASE_FIRST_INSERCTION_PYTHON/DB_ANIMALS.db')"
   ]
  },
  {
   "cell_type": "code",
   "execution_count": 5,
   "id": "afd4548d",
   "metadata": {
    "hidden": true
   },
   "outputs": [],
   "source": [
    "query=\"\"\"\n",
    "    SELECT Animals_ID.NAME,Animals_features.WEIGHT,Animals_features.TIME_LIFE\n",
    "    FROM Animals_features\n",
    "    INNER JOIN Animals_ID ON Animals_ID.ID_ANIMAL=Animals_features.ID_ANIMAL \"\"\""
   ]
  },
  {
   "cell_type": "code",
   "execution_count": 6,
   "id": "bf3b0d0a",
   "metadata": {
    "hidden": true
   },
   "outputs": [],
   "source": [
    "Features_animals=pd.read_sql_query(query,conection)"
   ]
  },
  {
   "cell_type": "markdown",
   "id": "91f55c46",
   "metadata": {},
   "source": [
    "# Analisis de la información"
   ]
  },
  {
   "cell_type": "markdown",
   "id": "702c7556",
   "metadata": {},
   "source": [
    "## Test K Square (D' Agostino's)\n",
    "### H0: Normalidad de datos\n",
    "### H1: No normalidad de los datos\n",
    "### p>signifigicancia(0.05) se acepta H0"
   ]
  },
  {
   "cell_type": "code",
   "execution_count": 42,
   "id": "775d99ce",
   "metadata": {},
   "outputs": [],
   "source": [
    "Cat_Features=Features_animals.loc[Features_animals.NAME=='CAT']\n",
    "Dog_Features=Features_animals.loc[Features_animals.NAME=='DOG']\n",
    "Wolf_Features=Features_animals.loc[Features_animals.NAME=='WOLF']\n",
    "Horse_Features=Features_animals.loc[Features_animals.NAME=='HORSE']"
   ]
  },
  {
   "cell_type": "code",
   "execution_count": 43,
   "id": "ff89db94",
   "metadata": {},
   "outputs": [],
   "source": [
    "AVG_weight_cat=(Cats_Features['WEIGHT'].mean())\n",
    "STD_weight_cat=(Cat_Features['WEIGHT'].std())\n",
    "\n",
    "AVG_weight_dog=(Dog_Features['WEIGHT'].mean())\n",
    "STD_weight_dog=(Dog_Features['WEIGHT'].std())\n",
    "\n",
    "AVG_weight_wolf=(Wolf_Features['WEIGHT'].mean())\n",
    "STD_weight_wolf=(Wolf_Features['WEIGHT'].std())\n",
    "\n",
    "AVG_weight_horse=(Horse_Features['WEIGHT'].mean())\n",
    "STD_weight_horse=(Horse_Features['WEIGHT'].std())"
   ]
  },
  {
   "cell_type": "code",
   "execution_count": 50,
   "id": "a5fe78bb",
   "metadata": {},
   "outputs": [
    {
     "name": "stdout",
     "output_type": "stream",
     "text": [
      "Estadístico = 2.3968669268819798, p-value = 0.3016664134204211\n",
      "Estadístico = 3.7001038667960833, p-value = 0.1572290006653193\n",
      "Estadístico = 1.1802705449407696, p-value = 0.5542523045847887\n",
      "Estadístico = 0.9807256585318233, p-value = 0.6124041557192836\n"
     ]
    }
   ],
   "source": [
    "# ==============================================================================\n",
    "k1, p_value = stats.normaltest(Cat_Features.WEIGHT)\n",
    "k2, p_value2 = stats.normaltest(Dog_Features.WEIGHT)\n",
    "k3, p_value3 = stats.normaltest(Wolf_Features.WEIGHT)\n",
    "k4, p_value4 = stats.normaltest(Horse_Features.WEIGHT)\n",
    "print(f\"Estadístico = {k1}, p-value = {p_value}\")\n",
    "print(f\"Estadístico = {k2}, p-value = {p_value2}\")\n",
    "print(f\"Estadístico = {k3}, p-value = {p_value3}\")\n",
    "print(f\"Estadístico = {k4}, p-value = {p_value4}\")"
   ]
  },
  {
   "cell_type": "markdown",
   "id": "6055c5ca",
   "metadata": {},
   "source": [
    "## Usando la libreria pingouin"
   ]
  },
  {
   "cell_type": "code",
   "execution_count": 52,
   "id": "69e6450c",
   "metadata": {},
   "outputs": [
    {
     "data": {
      "text/html": [
       "<div>\n",
       "<style scoped>\n",
       "    .dataframe tbody tr th:only-of-type {\n",
       "        vertical-align: middle;\n",
       "    }\n",
       "\n",
       "    .dataframe tbody tr th {\n",
       "        vertical-align: top;\n",
       "    }\n",
       "\n",
       "    .dataframe thead th {\n",
       "        text-align: right;\n",
       "    }\n",
       "</style>\n",
       "<table border=\"1\" class=\"dataframe\">\n",
       "  <thead>\n",
       "    <tr style=\"text-align: right;\">\n",
       "      <th></th>\n",
       "      <th>W</th>\n",
       "      <th>pval</th>\n",
       "      <th>normal</th>\n",
       "    </tr>\n",
       "    <tr>\n",
       "      <th>NAME</th>\n",
       "      <th></th>\n",
       "      <th></th>\n",
       "      <th></th>\n",
       "    </tr>\n",
       "  </thead>\n",
       "  <tbody>\n",
       "    <tr>\n",
       "      <th>CAT</th>\n",
       "      <td>0.999686</td>\n",
       "      <td>0.663670</td>\n",
       "      <td>True</td>\n",
       "    </tr>\n",
       "    <tr>\n",
       "      <th>DOG</th>\n",
       "      <td>0.999600</td>\n",
       "      <td>0.417335</td>\n",
       "      <td>True</td>\n",
       "    </tr>\n",
       "    <tr>\n",
       "      <th>WOLF</th>\n",
       "      <td>0.999562</td>\n",
       "      <td>0.325624</td>\n",
       "      <td>True</td>\n",
       "    </tr>\n",
       "    <tr>\n",
       "      <th>HORSE</th>\n",
       "      <td>0.999643</td>\n",
       "      <td>0.534748</td>\n",
       "      <td>True</td>\n",
       "    </tr>\n",
       "  </tbody>\n",
       "</table>\n",
       "</div>"
      ],
      "text/plain": [
       "              W      pval  normal\n",
       "NAME                             \n",
       "CAT    0.999686  0.663670    True\n",
       "DOG    0.999600  0.417335    True\n",
       "WOLF   0.999562  0.325624    True\n",
       "HORSE  0.999643  0.534748    True"
      ]
     },
     "execution_count": 52,
     "metadata": {},
     "output_type": "execute_result"
    }
   ],
   "source": [
    "Normality_test=pg.normality(data=Features_animals,dv='WEIGHT',group='NAME')\n",
    "Normality_test"
   ]
  },
  {
   "cell_type": "markdown",
   "id": "31067819",
   "metadata": {},
   "source": [
    "## Anova"
   ]
  },
  {
   "cell_type": "code",
   "execution_count": 53,
   "id": "8fa441a6",
   "metadata": {},
   "outputs": [
    {
     "data": {
      "text/html": [
       "<div>\n",
       "<style scoped>\n",
       "    .dataframe tbody tr th:only-of-type {\n",
       "        vertical-align: middle;\n",
       "    }\n",
       "\n",
       "    .dataframe tbody tr th {\n",
       "        vertical-align: top;\n",
       "    }\n",
       "\n",
       "    .dataframe thead th {\n",
       "        text-align: right;\n",
       "    }\n",
       "</style>\n",
       "<table border=\"1\" class=\"dataframe\">\n",
       "  <thead>\n",
       "    <tr style=\"text-align: right;\">\n",
       "      <th></th>\n",
       "      <th>Source</th>\n",
       "      <th>SS</th>\n",
       "      <th>DF</th>\n",
       "      <th>MS</th>\n",
       "      <th>F</th>\n",
       "      <th>p-unc</th>\n",
       "      <th>np2</th>\n",
       "    </tr>\n",
       "  </thead>\n",
       "  <tbody>\n",
       "    <tr>\n",
       "      <th>0</th>\n",
       "      <td>NAME</td>\n",
       "      <td>5.064128e+08</td>\n",
       "      <td>3</td>\n",
       "      <td>1.688043e+08</td>\n",
       "      <td>499976.353148</td>\n",
       "      <td>0.0</td>\n",
       "      <td>0.986844</td>\n",
       "    </tr>\n",
       "    <tr>\n",
       "      <th>1</th>\n",
       "      <td>Within</td>\n",
       "      <td>6.751139e+06</td>\n",
       "      <td>19996</td>\n",
       "      <td>3.376245e+02</td>\n",
       "      <td>NaN</td>\n",
       "      <td>NaN</td>\n",
       "      <td>NaN</td>\n",
       "    </tr>\n",
       "  </tbody>\n",
       "</table>\n",
       "</div>"
      ],
      "text/plain": [
       "   Source            SS     DF            MS              F  p-unc       np2\n",
       "0    NAME  5.064128e+08      3  1.688043e+08  499976.353148    0.0  0.986844\n",
       "1  Within  6.751139e+06  19996  3.376245e+02            NaN    NaN       NaN"
      ]
     },
     "execution_count": 53,
     "metadata": {},
     "output_type": "execute_result"
    }
   ],
   "source": [
    "Anova=pg.anova(data=Features_animals,dv='WEIGHT',between='NAME',detailed=True)\n",
    "Anova"
   ]
  },
  {
   "cell_type": "markdown",
   "id": "b05285a9",
   "metadata": {},
   "source": [
    "# Graficas"
   ]
  },
  {
   "cell_type": "code",
   "execution_count": 33,
   "id": "84b528a5",
   "metadata": {},
   "outputs": [],
   "source": [
    "#Q_Q_Graphs(Data,column,distribution,s,n,p)\n",
    "#You need to pass the Data, column\n",
    "#You can change the kind of distribution ['normal','lognormal','binomial']\n",
    "#Scale for distribution lognormal\n",
    "#n y p for distribution binomial\n",
    "DATA_CATS_QQ, GRAPH_CATS_QQ=Histograms_QQ.Q_Q_Graphs(Cat_Features,'WEIGHT','normal')\n",
    "DATA_DOG_QQ, GRAPH_DOG_QQ=Histograms_QQ.Q_Q_Graphs(Dog_Features,'WEIGHT','normal')\n",
    "DATA_WOLF_QQ, GRAPH_WOLF_QQ=Histograms_QQ.Q_Q_Graphs(Wolf_Features,'WEIGHT','normal')\n",
    "DATA_HORSE_QQ, GRAPH_HORSE_QQ=Histograms_QQ.Q_Q_Graphs(Horse_Features,'WEIGHT','normal')"
   ]
  },
  {
   "cell_type": "code",
   "execution_count": 35,
   "id": "7531034c",
   "metadata": {},
   "outputs": [],
   "source": [
    "\n"
   ]
  },
  {
   "cell_type": "code",
   "execution_count": 39,
   "id": "be6ea921",
   "metadata": {},
   "outputs": [],
   "source": [
    "#histogram_plot(Data,column,distribution,m=0,std=1,s=0.9,n=500,p=0.1)\n",
    "#You need to pass the Data, column\n",
    "#You can change the kind of distribution ['normal','lognormal','binomial']\n",
    "#Scale for distribution lognormal\n",
    "#n y p for distribution binomial\n",
    "histogram_cat=Histograms_QQ.histogram_plot(Cat_Features,'WEIGHT','normal',AVG_weight_cat,STD_weight_cat)\n",
    "histogram_dog=Histograms_QQ.histogram_plot(Dog_Features,'WEIGHT','normal',AVG_weight_dog,STD_weight_dog)\n",
    "histogram_wolf=Histograms_QQ.histogram_plot(Wolf_Features,'WEIGHT','normal',AVG_weight_wolf,STD_weight_wolf)\n",
    "histogram_horse=Histograms_QQ.histogram_plot(Horse_Features,'WEIGHT','normal',AVG_weight_horse,STD_weight_horse)\n"
   ]
  },
  {
   "cell_type": "code",
   "execution_count": 40,
   "id": "7bfa4b64",
   "metadata": {},
   "outputs": [],
   "source": [
    "lay_out_total=layout([histogram_cat,histogram_dog,histogram_wolf,histogram_horse],\n",
    "                    [GRAPH_CATS_QQ,GRAPH_DOG_QQ,GRAPH_WOLF_QQ,GRAPH_HORSE_QQ])"
   ]
  },
  {
   "cell_type": "code",
   "execution_count": 41,
   "id": "4e004150",
   "metadata": {},
   "outputs": [],
   "source": [
    "show(lay_out_total)"
   ]
  },
  {
   "cell_type": "code",
   "execution_count": 32,
   "id": "329a63ef",
   "metadata": {},
   "outputs": [],
   "source": [
    "show(histogram_cat_2)"
   ]
  },
  {
   "cell_type": "code",
   "execution_count": null,
   "id": "0abb9d44",
   "metadata": {},
   "outputs": [],
   "source": []
  }
 ],
 "metadata": {
  "kernelspec": {
   "display_name": "Python 3 (ipykernel)",
   "language": "python",
   "name": "python3"
  },
  "language_info": {
   "codemirror_mode": {
    "name": "ipython",
    "version": 3
   },
   "file_extension": ".py",
   "mimetype": "text/x-python",
   "name": "python",
   "nbconvert_exporter": "python",
   "pygments_lexer": "ipython3",
   "version": "3.10.1"
  },
  "toc": {
   "base_numbering": 1,
   "nav_menu": {},
   "number_sections": true,
   "sideBar": true,
   "skip_h1_title": false,
   "title_cell": "Table of Contents",
   "title_sidebar": "Contents",
   "toc_cell": false,
   "toc_position": {},
   "toc_section_display": true,
   "toc_window_display": false
  }
 },
 "nbformat": 4,
 "nbformat_minor": 5
}
