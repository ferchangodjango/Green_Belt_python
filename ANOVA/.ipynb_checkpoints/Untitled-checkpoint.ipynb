{
 "cells": [
  {
   "cell_type": "markdown",
   "id": "e1b8cc50",
   "metadata": {},
   "source": [
    "# Importacion de librerias"
   ]
  },
  {
   "cell_type": "code",
   "execution_count": 2,
   "id": "edb1d788",
   "metadata": {},
   "outputs": [],
   "source": [
    "import sqlite3"
   ]
  },
  {
   "cell_type": "code",
   "execution_count": 1,
   "id": "5ed3bc0b",
   "metadata": {},
   "outputs": [],
   "source": [
    "import pandas as pd\n",
    "import numpy as np\n",
    "import seaborn as sns\n",
    "import matplotlib.pyplot as plt\n",
    "import Histograms_QQ"
   ]
  },
  {
   "cell_type": "code",
   "execution_count": 3,
   "id": "49dcf02f",
   "metadata": {},
   "outputs": [],
   "source": [
    "from scipy import stats\n",
    "import pingouin as pg"
   ]
  },
  {
   "cell_type": "code",
   "execution_count": 14,
   "id": "7dcdf726",
   "metadata": {},
   "outputs": [],
   "source": [
    "from bokeh.io import output_notebook,show\n",
    "from bokeh.plotting import figure\n",
    "from bokeh.layouts import layout"
   ]
  },
  {
   "cell_type": "markdown",
   "id": "ee6a6040",
   "metadata": {},
   "source": [
    "# Conección a la base Sqlite3"
   ]
  },
  {
   "cell_type": "code",
   "execution_count": 4,
   "id": "a7a289d0",
   "metadata": {},
   "outputs": [],
   "source": [
    "conection=sqlite3.connect('E:/DB SQL3/DATA_BASE_FIRST_INSERCTION_PYTHON/DB_ANIMALS.db')"
   ]
  },
  {
   "cell_type": "code",
   "execution_count": 5,
   "id": "afd4548d",
   "metadata": {},
   "outputs": [],
   "source": [
    "query=\"\"\"\n",
    "    SELECT Animals_ID.NAME,Animals_features.WEIGHT,Animals_features.TIME_LIFE\n",
    "    FROM Animals_features\n",
    "    INNER JOIN Animals_ID ON Animals_ID.ID_ANIMAL=Animals_features.ID_ANIMAL \"\"\""
   ]
  },
  {
   "cell_type": "code",
   "execution_count": 6,
   "id": "bf3b0d0a",
   "metadata": {},
   "outputs": [],
   "source": [
    "Features_animals=pd.read_sql_query(query,conection)"
   ]
  },
  {
   "cell_type": "markdown",
   "id": "91f55c46",
   "metadata": {},
   "source": [
    "# Analisis de la información"
   ]
  },
  {
   "cell_type": "code",
   "execution_count": 13,
   "id": "84b528a5",
   "metadata": {},
   "outputs": [],
   "source": [
    "#Q_Q_Graphs(Data,column,distribution,s,n,p)\n",
    "#You need to pass the Data, column\n",
    "#You can change the kind of distribution ['normal','lognormal','binomial']\n",
    "#Scale for distribution lognormal\n",
    "#n y p for distribution binomial\n",
    "Cats_Features=Features_animals.loc[Features_animals.NAME=='CAT']\n",
    "DATA_CATS_QQ, GRAPH_CATS_QQ=Histograms_QQ.Q_Q_Graphs(Cats_Features,'WEIGHT','normal')"
   ]
  },
  {
   "cell_type": "code",
   "execution_count": null,
   "id": "7531034c",
   "metadata": {},
   "outputs": [],
   "source": [
    "#histogram_plot_limit(Data,column,distribution,limit1,limit2,m=0,std=1,s=0.9,n=500,p=0.1)\n",
    "#You need to pass the Data, column\n",
    "#You can change the kind of distribution ['normal','lognormal','binomial']\n",
    "#Scale for distribution lognormal\n",
    "#n y p for distribution binomial\n",
    "#limit 1 is the min value for you want to calculated the probability\n",
    "#limit 2 is the max value for you want to calculated the probability\n",
    "Histogram_cats=Histograms_QQ.histogram_plot_limit()"
   ]
  }
 ],
 "metadata": {
  "kernelspec": {
   "display_name": "Python 3 (ipykernel)",
   "language": "python",
   "name": "python3"
  },
  "language_info": {
   "codemirror_mode": {
    "name": "ipython",
    "version": 3
   },
   "file_extension": ".py",
   "mimetype": "text/x-python",
   "name": "python",
   "nbconvert_exporter": "python",
   "pygments_lexer": "ipython3",
   "version": "3.10.1"
  },
  "toc": {
   "base_numbering": 1,
   "nav_menu": {},
   "number_sections": true,
   "sideBar": true,
   "skip_h1_title": false,
   "title_cell": "Table of Contents",
   "title_sidebar": "Contents",
   "toc_cell": false,
   "toc_position": {},
   "toc_section_display": true,
   "toc_window_display": false
  }
 },
 "nbformat": 4,
 "nbformat_minor": 5
}
